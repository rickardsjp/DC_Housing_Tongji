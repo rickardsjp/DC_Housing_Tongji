{
 "cells": [
  {
   "cell_type": "markdown",
   "metadata": {},
   "source": [
    "# Imports"
   ]
  },
  {
   "cell_type": "code",
   "execution_count": 2,
   "metadata": {},
   "outputs": [
    {
     "name": "stderr",
     "output_type": "stream",
     "text": [
      "Using TensorFlow backend.\n"
     ]
    }
   ],
   "source": [
    "import matplotlib.pyplot as plt\n",
    "from matplotlib.pyplot import figure\n",
    "import matplotlib.lines as mlines\n",
    "import matplotlib.transforms as mtransforms\n",
    "\n",
    "import pandas as pd\n",
    "import numpy as np\n",
    "\n",
    "import keras\n",
    "from keras.callbacks import ModelCheckpoint\n",
    "from keras.models import Sequential\n",
    "from keras.layers import Dense, Flatten, Lambda, Conv2D, MaxPooling2D, Dropout, BatchNormalization\n",
    "from keras import regularizers\n",
    "from keras.callbacks import EarlyStopping\n",
    "\n",
    "from sklearn.model_selection import train_test_split\n",
    "from sklearn.metrics import mean_squared_error, r2_score"
   ]
  },
  {
   "cell_type": "markdown",
   "metadata": {},
   "source": [
    "# Load Data"
   ]
  },
  {
   "cell_type": "code",
   "execution_count": 3,
   "metadata": {
    "collapsed": true
   },
   "outputs": [],
   "source": [
    "data = pd.read_csv(\"data/data_cleaned.csv\")"
   ]
  },
  {
   "cell_type": "markdown",
   "metadata": {},
   "source": [
    "# Data Preparation"
   ]
  },
  {
   "cell_type": "code",
   "execution_count": 4,
   "metadata": {
    "collapsed": true
   },
   "outputs": [],
   "source": [
    "# one hot\n",
    "data = pd.get_dummies(data, prefix = [\"HEAT\", \"AC\", \"STYLE\", \"STRUCT\", \"GRADE\", \"CNDTN\", \"EXTWALL\", \"INTWALL\", \"ROOF\", \"ASSESSMENT_SUBNBHD\"], columns = [\"HEAT\", \"AC\", \"STYLE\", \"STRUCT\", \"GRADE\", \"CNDTN\", \"EXTWALL\", \"INTWALL\", \"ROOF\", \"ASSESSMENT_SUBNBHD\"])"
   ]
  },
  {
   "cell_type": "code",
   "execution_count": 5,
   "metadata": {
    "collapsed": true
   },
   "outputs": [],
   "source": [
    "# split\n",
    "x_data = data.drop([\"PRICE\"], axis=1)\n",
    "y_data = data[\"PRICE\"]"
   ]
  },
  {
   "cell_type": "code",
   "execution_count": 6,
   "metadata": {
    "collapsed": true
   },
   "outputs": [],
   "source": [
    "# normalization\n",
    "x_data = x_data.astype(float)\n",
    "x_data = x_data.apply(lambda x: (x - x.min()) / (x.max() - x.min()))"
   ]
  },
  {
   "cell_type": "code",
   "execution_count": 7,
   "metadata": {
    "collapsed": true
   },
   "outputs": [],
   "source": [
    "# train & test\n",
    "x_train, x_test, y_train, y_test = train_test_split(x_data, y_data, test_size=0.33, random_state=42)"
   ]
  },
  {
   "cell_type": "code",
   "execution_count": 8,
   "metadata": {},
   "outputs": [
    {
     "ename": "AttributeError",
     "evalue": "module 'numpy' has no attribute 'ln'",
     "output_type": "error",
     "traceback": [
      "\u001b[1;31m---------------------------------------------------------------------------\u001b[0m",
      "\u001b[1;31mAttributeError\u001b[0m                            Traceback (most recent call last)",
      "\u001b[1;32m<ipython-input-8-cd077deb5eb8>\u001b[0m in \u001b[0;36m<module>\u001b[1;34m()\u001b[0m\n\u001b[0;32m      1\u001b[0m \u001b[1;31m# logarithmen of the price\u001b[0m\u001b[1;33m\u001b[0m\u001b[1;33m\u001b[0m\u001b[0m\n\u001b[1;32m----> 2\u001b[1;33m \u001b[0my_train\u001b[0m \u001b[1;33m=\u001b[0m \u001b[0mnp\u001b[0m\u001b[1;33m.\u001b[0m\u001b[0mln\u001b[0m\u001b[1;33m(\u001b[0m\u001b[0my_train\u001b[0m\u001b[1;33m)\u001b[0m\u001b[1;33m\u001b[0m\u001b[0m\n\u001b[0m\u001b[0;32m      3\u001b[0m \u001b[0my_test\u001b[0m \u001b[1;33m=\u001b[0m \u001b[0mnp\u001b[0m\u001b[1;33m.\u001b[0m\u001b[0mln\u001b[0m\u001b[1;33m(\u001b[0m\u001b[0my_test\u001b[0m\u001b[1;33m)\u001b[0m\u001b[1;33m\u001b[0m\u001b[0m\n",
      "\u001b[1;31mAttributeError\u001b[0m: module 'numpy' has no attribute 'ln'"
     ]
    }
   ],
   "source": [
    "# logarithmen of the price\n",
    "y_train = np.log(y_train)\n",
    "y_test = np.log(y_test)"
   ]
  },
  {
   "cell_type": "markdown",
   "metadata": {},
   "source": [
    "# NN"
   ]
  },
  {
   "cell_type": "code",
   "execution_count": 58,
   "metadata": {},
   "outputs": [
    {
     "name": "stdout",
     "output_type": "stream",
     "text": [
      "_________________________________________________________________\n",
      "Layer (type)                 Output Shape              Param #   \n",
      "=================================================================\n",
      "dense_22 (Dense)             (None, 256)               63488     \n",
      "_________________________________________________________________\n",
      "batch_normalization_10 (Batc (None, 256)               1024      \n",
      "_________________________________________________________________\n",
      "dropout_19 (Dropout)         (None, 256)               0         \n",
      "_________________________________________________________________\n",
      "dense_23 (Dense)             (None, 512)               131584    \n",
      "_________________________________________________________________\n",
      "batch_normalization_11 (Batc (None, 512)               2048      \n",
      "_________________________________________________________________\n",
      "dropout_20 (Dropout)         (None, 512)               0         \n",
      "_________________________________________________________________\n",
      "dense_24 (Dense)             (None, 512)               262656    \n",
      "_________________________________________________________________\n",
      "batch_normalization_12 (Batc (None, 512)               2048      \n",
      "_________________________________________________________________\n",
      "dropout_21 (Dropout)         (None, 512)               0         \n",
      "_________________________________________________________________\n",
      "dense_25 (Dense)             (None, 512)               262656    \n",
      "_________________________________________________________________\n",
      "dropout_22 (Dropout)         (None, 512)               0         \n",
      "_________________________________________________________________\n",
      "dense_26 (Dense)             (None, 512)               262656    \n",
      "_________________________________________________________________\n",
      "dropout_23 (Dropout)         (None, 512)               0         \n",
      "_________________________________________________________________\n",
      "dense_27 (Dense)             (None, 256)               131328    \n",
      "_________________________________________________________________\n",
      "dropout_24 (Dropout)         (None, 256)               0         \n",
      "_________________________________________________________________\n",
      "dense_28 (Dense)             (None, 1)                 257       \n",
      "=================================================================\n",
      "Total params: 1,119,745\n",
      "Trainable params: 1,117,185\n",
      "Non-trainable params: 2,560\n",
      "_________________________________________________________________\n"
     ]
    }
   ],
   "source": [
    "model = Sequential()\n",
    "model.add(Dense(256, activation=\"tanh\", kernel_initializer='normal', input_shape=(247,)))\n",
    "model.add(BatchNormalization())\n",
    "model.add(Dropout(0.5))\n",
    "model.add(Dense(512, activation=\"relu\", kernel_initializer='normal'))\n",
    "model.add(BatchNormalization())\n",
    "model.add(Dropout(0.5))\n",
    "model.add(Dense(512, activation=\"relu\", kernel_initializer='normal'))\n",
    "model.add(BatchNormalization())\n",
    "model.add(Dropout(0.5))\n",
    "model.add(Dense(512, activation=\"relu\", kernel_initializer='normal', \n",
    "    kernel_regularizer=regularizers.l1(0.02), bias_regularizer=regularizers.l1(0.02)))\n",
    "model.add(Dropout(0.5))\n",
    "model.add(Dense(512, activation=\"relu\", kernel_initializer='normal', \n",
    "    kernel_regularizer=regularizers.l1_l2(0.02), bias_regularizer=regularizers.l1_l2(0.02)))\n",
    "model.add(Dropout(0.5))\n",
    "model.add(Dense(256, activation=\"relu\", kernel_initializer='normal'))\n",
    "model.add(Dropout(0.5))\n",
    "model.add(Dense(1))\n",
    "model.compile(\n",
    "    loss='mean_squared_error',\n",
    "    optimizer='nadam',\n",
    "    metrics=[\"mae\"])\n",
    "\n",
    "model.summary()"
   ]
  },
  {
   "cell_type": "code",
   "execution_count": 59,
   "metadata": {
    "scrolled": false
   },
   "outputs": [
    {
     "name": "stdout",
     "output_type": "stream",
     "text": [
      "Train on 40115 samples, validate on 19759 samples\n",
      "Epoch 1/200\n",
      "40115/40115 [==============================] - 28s 690us/step - loss: 184.1338 - mean_absolute_error: 3.5157 - val_loss: 57.9149 - val_mean_absolute_error: 2.3737\n",
      "\n",
      "Epoch 00001: val_loss improved from inf to 57.91487, saving model to ./weights.hdf5\n",
      "Epoch 2/200\n",
      "40115/40115 [==============================] - 26s 636us/step - loss: 30.2264 - mean_absolute_error: 2.2370 - val_loss: 5.4711 - val_mean_absolute_error: 0.7252\n",
      "\n",
      "Epoch 00002: val_loss improved from 57.91487 to 5.47114, saving model to ./weights.hdf5\n",
      "Epoch 3/200\n",
      "40115/40115 [==============================] - 25s 615us/step - loss: 7.7207 - mean_absolute_error: 1.6318 - val_loss: 3.9912 - val_mean_absolute_error: 0.6193\n",
      "\n",
      "Epoch 00003: val_loss improved from 5.47114 to 3.99118, saving model to ./weights.hdf5\n",
      "Epoch 4/200\n",
      "40115/40115 [==============================] - 25s 634us/step - loss: 7.4316 - mean_absolute_error: 1.6025 - val_loss: 4.0365 - val_mean_absolute_error: 0.5535\n",
      "\n",
      "Epoch 00004: val_loss did not improve from 3.99118\n",
      "Epoch 5/200\n",
      "40115/40115 [==============================] - 26s 653us/step - loss: 45.0548 - mean_absolute_error: 2.6353 - val_loss: 124.7036 - val_mean_absolute_error: 2.8401\n",
      "\n",
      "Epoch 00005: val_loss did not improve from 3.99118\n",
      "Epoch 6/200\n",
      "40115/40115 [==============================] - 25s 623us/step - loss: 38.9342 - mean_absolute_error: 2.1054 - val_loss: 7.0346 - val_mean_absolute_error: 0.7631\n",
      "\n",
      "Epoch 00006: val_loss did not improve from 3.99118\n",
      "Epoch 7/200\n",
      "40115/40115 [==============================] - 25s 625us/step - loss: 7.3619 - mean_absolute_error: 1.4653 - val_loss: 3.7898 - val_mean_absolute_error: 0.6485\n",
      "\n",
      "Epoch 00007: val_loss improved from 3.99118 to 3.78977, saving model to ./weights.hdf5\n",
      "Epoch 8/200\n",
      "40115/40115 [==============================] - 25s 619us/step - loss: 6.1015 - mean_absolute_error: 1.4168 - val_loss: 3.5851 - val_mean_absolute_error: 0.6552\n",
      "\n",
      "Epoch 00008: val_loss improved from 3.78977 to 3.58512, saving model to ./weights.hdf5\n",
      "Epoch 9/200\n",
      "40115/40115 [==============================] - 25s 636us/step - loss: 5.9685 - mean_absolute_error: 1.3901 - val_loss: 3.6024 - val_mean_absolute_error: 0.6713\n",
      "\n",
      "Epoch 00009: val_loss did not improve from 3.58512\n",
      "Epoch 10/200\n",
      "40115/40115 [==============================] - 25s 616us/step - loss: 5.8942 - mean_absolute_error: 1.3551 - val_loss: 3.6047 - val_mean_absolute_error: 0.5447\n",
      "\n",
      "Epoch 00010: val_loss did not improve from 3.58512\n",
      "Epoch 11/200\n",
      "40115/40115 [==============================] - 25s 621us/step - loss: 5.9661 - mean_absolute_error: 1.3495 - val_loss: 3.6839 - val_mean_absolute_error: 0.5303\n",
      "\n",
      "Epoch 00011: val_loss did not improve from 3.58512\n",
      "Epoch 12/200\n",
      "40115/40115 [==============================] - 25s 635us/step - loss: 5.9989 - mean_absolute_error: 1.3312 - val_loss: 3.8418 - val_mean_absolute_error: 0.5029\n",
      "\n",
      "Epoch 00012: val_loss did not improve from 3.58512\n",
      "Epoch 13/200\n",
      "40115/40115 [==============================] - 25s 617us/step - loss: 6.0177 - mean_absolute_error: 1.3129 - val_loss: 3.9354 - val_mean_absolute_error: 0.5719\n",
      "\n",
      "Epoch 00013: val_loss did not improve from 3.58512\n",
      "Epoch 14/200\n",
      "40115/40115 [==============================] - 25s 627us/step - loss: 6.0684 - mean_absolute_error: 1.3087 - val_loss: 3.9249 - val_mean_absolute_error: 0.5587\n",
      "\n",
      "Epoch 00014: val_loss did not improve from 3.58512\n",
      "Epoch 15/200\n",
      "40115/40115 [==============================] - 25s 626us/step - loss: 6.0858 - mean_absolute_error: 1.2944 - val_loss: 4.1906 - val_mean_absolute_error: 0.6818\n",
      "\n",
      "Epoch 00015: val_loss did not improve from 3.58512\n",
      "Epoch 16/200\n",
      "40115/40115 [==============================] - 25s 623us/step - loss: 6.0808 - mean_absolute_error: 1.2832 - val_loss: 4.0573 - val_mean_absolute_error: 0.5648\n",
      "\n",
      "Epoch 00016: val_loss did not improve from 3.58512\n",
      "Epoch 17/200\n",
      "40115/40115 [==============================] - 26s 640us/step - loss: 6.1374 - mean_absolute_error: 1.2722 - val_loss: 4.1642 - val_mean_absolute_error: 0.5775\n",
      "\n",
      "Epoch 00017: val_loss did not improve from 3.58512\n",
      "Epoch 18/200\n",
      "40115/40115 [==============================] - 25s 633us/step - loss: 6.0152 - mean_absolute_error: 1.2521 - val_loss: 4.0309 - val_mean_absolute_error: 0.5257\n",
      "\n",
      "Epoch 00018: val_loss did not improve from 3.58512\n",
      "Epoch 19/200\n",
      "40115/40115 [==============================] - 26s 641us/step - loss: 5.9402 - mean_absolute_error: 1.2369 - val_loss: 4.2246 - val_mean_absolute_error: 0.6425\n",
      "\n",
      "Epoch 00019: val_loss did not improve from 3.58512\n",
      "Epoch 20/200\n",
      "40115/40115 [==============================] - 25s 626us/step - loss: 5.9586 - mean_absolute_error: 1.2259 - val_loss: 4.4884 - val_mean_absolute_error: 0.7436\n",
      "\n",
      "Epoch 00020: val_loss did not improve from 3.58512\n",
      "Epoch 21/200\n",
      "40115/40115 [==============================] - 25s 626us/step - loss: 5.9466 - mean_absolute_error: 1.2139 - val_loss: 4.0979 - val_mean_absolute_error: 0.5257\n",
      "\n",
      "Epoch 00021: val_loss did not improve from 3.58512\n",
      "Epoch 22/200\n",
      "40115/40115 [==============================] - 26s 637us/step - loss: 5.7612 - mean_absolute_error: 1.1997 - val_loss: 3.9472 - val_mean_absolute_error: 0.5769\n",
      "\n",
      "Epoch 00022: val_loss did not improve from 3.58512\n",
      "Epoch 23/200\n",
      "40115/40115 [==============================] - 26s 636us/step - loss: 5.6701 - mean_absolute_error: 1.1730 - val_loss: 4.1011 - val_mean_absolute_error: 0.5038\n",
      "\n",
      "Epoch 00023: val_loss did not improve from 3.58512\n",
      "Epoch 00023: early stopping\n"
     ]
    }
   ],
   "source": [
    "es = EarlyStopping(monitor='val_loss', mode='min', verbose=1, patience=15)\n",
    "mc = ModelCheckpoint(filepath='./weights.hdf5', monitor='val_loss', verbose=1, save_best_only=True, mode='min')\n",
    "\n",
    "history = model.fit(x_train, \n",
    "          y_train,\n",
    "          batch_size = 128,\n",
    "          shuffle = True,\n",
    "          epochs = 200,\n",
    "          validation_data = (x_test, y_test),\n",
    "          callbacks=[es, mc])"
   ]
  },
  {
   "cell_type": "code",
   "execution_count": 60,
   "metadata": {},
   "outputs": [
    {
     "name": "stdout",
     "output_type": "stream",
     "text": [
      "Train MAE:  0.655 , Train Loss:  3.5857\n",
      "Val MAE:  0.6552 , Val Loss:  3.5851\n"
     ]
    }
   ],
   "source": [
    "model.load_weights('./weights.hdf5')\n",
    "\n",
    "train_score = model.evaluate(x_train, y_train, verbose=0)\n",
    "valid_score = model.evaluate(x_test, y_test, verbose=0)\n",
    "\n",
    "y_pred = model.predict(x_test)\n",
    "\n",
    "print('Train MAE: ', round(train_score[1], 4), ', Train Loss: ', round(train_score[0], 4)) \n",
    "print('Val MAE: ', round(valid_score[1], 4), ', Val Loss: ', round(valid_score[0], 4))"
   ]
  },
  {
   "cell_type": "code",
   "execution_count": 61,
   "metadata": {},
   "outputs": [
    {
     "data": {
      "text/plain": [
       "0.38048056172381239"
      ]
     },
     "execution_count": 61,
     "metadata": {},
     "output_type": "execute_result"
    }
   ],
   "source": [
    "r2_score(y_test, y_pred)"
   ]
  },
  {
   "cell_type": "code",
   "execution_count": 1,
   "metadata": {},
   "outputs": [
    {
     "ename": "NameError",
     "evalue": "name 'plt' is not defined",
     "output_type": "error",
     "traceback": [
      "\u001b[1;31m---------------------------------------------------------------------------\u001b[0m",
      "\u001b[1;31mNameError\u001b[0m                                 Traceback (most recent call last)",
      "\u001b[1;32m<ipython-input-1-62835e3dfa6b>\u001b[0m in \u001b[0;36m<module>\u001b[1;34m()\u001b[0m\n\u001b[1;32m----> 1\u001b[1;33m \u001b[0mfig\u001b[0m\u001b[1;33m,\u001b[0m \u001b[0max\u001b[0m \u001b[1;33m=\u001b[0m \u001b[0mplt\u001b[0m\u001b[1;33m.\u001b[0m\u001b[0msubplots\u001b[0m\u001b[1;33m(\u001b[0m\u001b[1;33m)\u001b[0m\u001b[1;33m\u001b[0m\u001b[0m\n\u001b[0m\u001b[0;32m      2\u001b[0m \u001b[0max\u001b[0m\u001b[1;33m.\u001b[0m\u001b[0mscatter\u001b[0m\u001b[1;33m(\u001b[0m\u001b[0my_test\u001b[0m\u001b[1;33m,\u001b[0m \u001b[0my_pred\u001b[0m\u001b[1;33m,\u001b[0m \u001b[0mc\u001b[0m\u001b[1;33m=\u001b[0m\u001b[1;34m'black'\u001b[0m\u001b[1;33m)\u001b[0m\u001b[1;33m\u001b[0m\u001b[0m\n\u001b[0;32m      3\u001b[0m \u001b[0max\u001b[0m\u001b[1;33m.\u001b[0m\u001b[0mplot\u001b[0m\u001b[1;33m(\u001b[0m\u001b[1;33m[\u001b[0m\u001b[1;36m0\u001b[0m\u001b[1;33m,\u001b[0m \u001b[0my_test\u001b[0m\u001b[1;33m.\u001b[0m\u001b[0mmax\u001b[0m\u001b[1;33m(\u001b[0m\u001b[1;33m)\u001b[0m\u001b[1;33m]\u001b[0m\u001b[1;33m,\u001b[0m \u001b[1;33m[\u001b[0m\u001b[1;36m0\u001b[0m\u001b[1;33m,\u001b[0m \u001b[0my_test\u001b[0m\u001b[1;33m.\u001b[0m\u001b[0mmax\u001b[0m\u001b[1;33m(\u001b[0m\u001b[1;33m)\u001b[0m\u001b[1;33m]\u001b[0m\u001b[1;33m,\u001b[0m \u001b[1;34m\"k--\"\u001b[0m\u001b[1;33m,\u001b[0m \u001b[0mlw\u001b[0m\u001b[1;33m=\u001b[0m\u001b[1;36m4\u001b[0m\u001b[1;33m)\u001b[0m\u001b[1;33m\u001b[0m\u001b[0m\n\u001b[0;32m      4\u001b[0m \u001b[0mplt\u001b[0m\u001b[1;33m.\u001b[0m\u001b[0mshow\u001b[0m\u001b[1;33m(\u001b[0m\u001b[1;33m)\u001b[0m\u001b[1;33m\u001b[0m\u001b[0m\n",
      "\u001b[1;31mNameError\u001b[0m: name 'plt' is not defined"
     ]
    }
   ],
   "source": [
    "fig, ax = plt.subplots()\n",
    "ax.scatter(y_test, y_pred, c='black')\n",
    "ax.plot([0, y_test.max()], [0, y_test.max()], \"k--\", lw=4)\n",
    "plt.show()"
   ]
  },
  {
   "cell_type": "code",
   "execution_count": 63,
   "metadata": {},
   "outputs": [
    {
     "data": {
      "image/png": "[encoded data removed]",
      "text/plain": [
       "<matplotlib.figure.Figure at 0x18b2fc665f8>"
      ]
     },
     "metadata": {},
     "output_type": "display_data"
    }
   ],
   "source": [
    "def plot_hist(h, xsize=6, ysize=10):\n",
    "    # Prepare plotting\n",
    "    fig_size = plt.rcParams[\"figure.figsize\"]\n",
    "    plt.rcParams[\"figure.figsize\"] = [xsize, ysize]\n",
    "    fig, axes = plt.subplots(nrows=4, ncols=4, sharex=True)\n",
    "    \n",
    "    # summarize history for MAE\n",
    "    plt.subplot(211)\n",
    "    plt.plot(h['mean_absolute_error'])\n",
    "    plt.plot(h['val_mean_absolute_error'])\n",
    "    plt.title('Training vs Validation MAE')\n",
    "    plt.ylabel('MAE')\n",
    "    plt.xlabel('Epoch')\n",
    "    plt.legend(['Train', 'Validation'], loc='upper left')\n",
    "    \n",
    "    # summarize history for loss\n",
    "    plt.subplot(212)\n",
    "    plt.plot(h['loss'])\n",
    "    plt.plot(h['val_loss'])\n",
    "    plt.title('Training vs Validation Loss')\n",
    "    plt.ylabel('Loss')\n",
    "    plt.xlabel('Epoch')\n",
    "    plt.legend(['Train', 'Validation'], loc='upper left')\n",
    "    \n",
    "    # Plot it all in IPython (non-interactive)\n",
    "    plt.draw()\n",
    "    plt.show()\n",
    "\n",
    "    return\n",
    "\n",
    "plot_hist(history.history, xsize=8, ysize=12) "
   ]
  }
 ],
 "metadata": {
  "kernelspec": {
   "display_name": "Python 3",
   "language": "python",
   "name": "python3"
  },
  "language_info": {
   "codemirror_mode": {
    "name": "ipython",
    "version": 3
   },
   "file_extension": ".py",
   "mimetype": "text/x-python",
   "name": "python",
   "nbconvert_exporter": "python",
   "pygments_lexer": "ipython3",
   "version": "3.6.3"
  }
 },
 "nbformat": 4,
 "nbformat_minor": 2
}
