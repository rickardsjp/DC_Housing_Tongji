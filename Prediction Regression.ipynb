{
 "cells": [
  {
   "cell_type": "markdown",
   "metadata": {},
   "source": [
    "# Imports"
   ]
  },
  {
   "cell_type": "code",
   "execution_count": 5,
   "metadata": {
    "collapsed": true
   },
   "outputs": [],
   "source": [
    "import matplotlib.pyplot as plt\n",
    "from matplotlib.pyplot import figure\n",
    "import matplotlib.lines as mlines\n",
    "import matplotlib.transforms as mtransforms\n",
    "\n",
    "import pandas as pd\n",
    "import numpy as np\n",
    "\n",
    "import sklearn\n",
    "from sklearn.linear_model import LogisticRegression\n",
    "from sklearn.linear_model import LinearRegression\n",
    "from sklearn.linear_model import Lasso\n",
    "\n",
    "from sklearn.model_selection import train_test_split"
   ]
  },
  {
   "cell_type": "code",
   "execution_count": 6,
   "metadata": {},
   "outputs": [],
   "source": [
    "from sklearn.metrics import mean_squared_error, r2_score, mean_absolute_error, explained_variance_score\n",
    "def mean_absolute_percentage_error(y_true, y_pred): \n",
    "    y_true, y_pred = np.array(y_true), np.array(y_pred)\n",
    "    return np.mean(np.abs((y_true - y_pred) / y_true)) * 100\n",
    "\n",
    "def mean_squared_percentage_error(y_true, y_pred): \n",
    "    y_true, y_pred = np.array(y_true), np.array(y_pred)\n",
    "    return np.mean(np.abs(((y_true - y_pred)**2) / y_true)) * 100\n"
   ]
  },
  {
   "cell_type": "markdown",
   "metadata": {},
   "source": [
    "# Load Data"
   ]
  },
  {
   "cell_type": "code",
   "execution_count": 7,
   "metadata": {
    "collapsed": true
   },
   "outputs": [],
   "source": [
    "data = pd.read_csv(\"data/data_cleaned.csv\")"
   ]
  },
  {
   "cell_type": "markdown",
   "metadata": {},
   "source": [
    "# Data Preparation"
   ]
  },
  {
   "cell_type": "code",
   "execution_count": 8,
   "metadata": {
    "collapsed": true
   },
   "outputs": [],
   "source": [
    "# one hot\n",
    "data = pd.get_dummies(data, prefix = [\"HEAT\", \"AC\", \"STYLE\", \"STRUCT\", \"GRADE\", \"CNDTN\", \"EXTWALL\", \"INTWALL\", \"ROOF\", \"ASSESSMENT_SUBNBHD\"], columns = [\"HEAT\", \"AC\", \"STYLE\", \"STRUCT\", \"GRADE\", \"CNDTN\", \"EXTWALL\", \"INTWALL\", \"ROOF\", \"ASSESSMENT_SUBNBHD\"])"
   ]
  },
  {
   "cell_type": "code",
   "execution_count": 9,
   "metadata": {
    "collapsed": true
   },
   "outputs": [],
   "source": [
    "# split\n",
    "x_data = data.drop([\"PRICE\"], axis=1)\n",
    "y_data = data[\"PRICE\"]"
   ]
  },
  {
   "cell_type": "code",
   "execution_count": 10,
   "metadata": {
    "collapsed": true
   },
   "outputs": [],
   "source": [
    "# normalization\n",
    "x_data = x_data.astype(float)\n",
    "x_data = x_data.apply(lambda x: (x - x.min()) / (x.max() - x.min()))"
   ]
  },
  {
   "cell_type": "code",
   "execution_count": 11,
   "metadata": {
    "collapsed": true
   },
   "outputs": [],
   "source": [
    "# train & test\n",
    "x_train, x_test, y_train, y_test = train_test_split(x_data, y_data, test_size=0.33, random_state=42)"
   ]
  },
  {
   "cell_type": "markdown",
   "metadata": {},
   "source": [
    "# Linear Regression"
   ]
  },
  {
   "cell_type": "code",
   "execution_count": 14,
   "metadata": {
    "scrolled": true
   },
   "outputs": [
    {
     "name": "stdout",
     "output_type": "stream",
     "text": [
      "R2 Score: -2.94405252651e+17\n",
      "Explained variance score: -2.94366684355e+17\n",
      "Mean absolute error: 2.8243062655e+12\n",
      "Mean absolute percentage error: 731247768.56\n",
      "Mean squared error: 6.08889711451e+28\n",
      "Mean squared percentage error: 1.61389898121e+25\n"
     ]
    },
    {
     "data": {
      "image/png": "[encoded data removed]",
      "text/plain": [
       "<matplotlib.figure.Figure at 0x1758ab98eb8>"
      ]
     },
     "metadata": {},
     "output_type": "display_data"
    },
    {
     "data": {
      "image/png": "[encoded data removed]",
      "text/plain": [
       "<matplotlib.figure.Figure at 0x1758b7f1940>"
      ]
     },
     "metadata": {},
     "output_type": "display_data"
    }
   ],
   "source": [
    "linreg = LinearRegression(n_jobs = -1)\n",
    "linreg.fit(x_train, y_train)\n",
    "\n",
    "y_pred_lin = linreg.predict(x_test)\n",
    "\n",
    "lin_score = linreg.score(x_test, y_test)\n",
    "lin_msqe = mean_squared_error(y_test, y_pred_lin)\n",
    "\n",
    "print(\"R2 Score: \" + str(r2_score(y_test, y_pred_lin)))\n",
    "print(\"Explained variance score: \" + str(explained_variance_score(y_test, y_pred_lin)))\n",
    "print(\"Mean absolute error: \" + str(mean_absolute_error(y_test, y_pred_lin)))\n",
    "print(\"Mean absolute percentage error: \" + str(mean_absolute_percentage_error(y_test, y_pred_lin)))\n",
    "print(\"Mean squared error: \" + str(mean_squared_error(y_test, y_pred_lin)))\n",
    "print(\"Mean squared percentage error: \" + str(mean_squared_percentage_error(y_test, y_pred_lin)))\n",
    "\n",
    "fig, ax = plt.subplots()\n",
    "ax.scatter(y_test, y_pred_lin, c='black', marker=\"x\")\n",
    "ax.plot([0, y_test.max()], [0, y_test.max()], \"r--\", lw=4)\n",
    "plt.show()"
   ]
  },
  {
   "cell_type": "markdown",
   "metadata": {},
   "source": [
    "# Lasso Regression"
   ]
  },
  {
   "cell_type": "code",
   "execution_count": 15,
   "metadata": {
    "scrolled": false
   },
   "outputs": [
    {
     "name": "stderr",
     "output_type": "stream",
     "text": [
      "C:\\anaconda3\\lib\\site-packages\\sklearn\\linear_model\\coordinate_descent.py:491: ConvergenceWarning: Objective did not converge. You might want to increase the number of iterations. Fitting data with very small alpha may cause precision problems.\n",
      "  ConvergenceWarning)\n"
     ]
    },
    {
     "name": "stdout",
     "output_type": "stream",
     "text": [
      "R2 Score: 0.707268632106\n",
      "Explained variance score: 0.707275262306\n",
      "Mean absolute error: 153931.634174\n",
      "Mean absolute percentage error: 43.7666957143\n",
      "Mean squared error: 60542777863.1\n",
      "Mean squared percentage error: 11900641.1589\n"
     ]
    },
    {
     "data": {
      "image/png": "[encoded data removed]",
      "text/plain": [
       "<matplotlib.figure.Figure at 0x1758b6de0b8>"
      ]
     },
     "metadata": {},
     "output_type": "display_data"
    }
   ],
   "source": [
    "lassoreg = Lasso()\n",
    "lassoreg.fit(x_train, y_train)\n",
    "\n",
    "y_pred_lasso = lassoreg.predict(x_test)\n",
    "\n",
    "lasso_score = lassoreg.score(x_test, y_test)\n",
    "lasso_msqe = mean_squared_error(y_test, y_pred_lasso)\n",
    "\n",
    "print(\"R2 Score: \" + str(r2_score(y_test, y_pred_lasso)))\n",
    "print(\"Explained variance score: \" + str(explained_variance_score(y_test, y_pred_lasso)))\n",
    "print(\"Mean absolute error: \" + str(mean_absolute_error(y_test, y_pred_lasso)))\n",
    "print(\"Mean absolute percentage error: \" + str(mean_absolute_percentage_error(y_test, y_pred_lasso)))\n",
    "print(\"Mean squared error: \" + str(mean_squared_error(y_test, y_pred_lasso)))\n",
    "print(\"Mean squared percentage error: \" + str(mean_squared_percentage_error(y_test, y_pred_lasso)))\n",
    "\n",
    "fig, ax = plt.subplots()\n",
    "ax.scatter(y_test, y_pred_lasso, c='black')\n",
    "ax.plot([0, y_test.max()], [0, y_test.max()], \"r--\", lw=4)\n",
    "plt.show()"
   ]
  },
  {
   "cell_type": "markdown",
   "metadata": {},
   "source": [
    "# Logistic Regression"
   ]
  },
  {
   "cell_type": "code",
   "execution_count": null,
   "metadata": {},
   "outputs": [],
   "source": [
    "logreg = LogisticRegression(n_jobs=-1, solver=\"sag\")\n",
    "logreg.fit(x_train, y_train)\n",
    "\n",
    "y_pred_log = logreg.predict(x_test)\n",
    "\n",
    "lin_score = linreg.score(x_test, y_test)\n",
    "lin_msqe = mean_squared_error(y_test, y_pred_log)\n",
    "\n",
    "print(\"R2 Score: \" + str(r2_score(y_test, y_pred_log)))\n",
    "print(\"Explained variance score: \" + str(explained_variance_score(y_test, y_pred_log)))\n",
    "print(\"Mean absolute error: \" + str(mean_absolute_error(y_test, y_pred_log)))\n",
    "print(\"Mean absolute percentage error: \" + str(mean_absolute_percentage_error(y_test, y_pred_log)))\n",
    "print(\"Mean squared error: \" + str(mean_squared_error(y_test, y_pred_log)))\n",
    "print(\"Mean squared percentage error: \" + str(mean_squared_percentage_error(y_test, y_pred_log)))\n",
    "\n",
    "fig, ax = plt.subplots()\n",
    "ax.scatter(y_test, y_pred_log, c='black')\n",
    "ax.plot([0, y_test.max()], [0, y_test.max()], \"r--\", lw=4)\n",
    "plt.show()"
   ]
  },
  {
   "cell_type": "code",
   "execution_count": null,
   "metadata": {
    "collapsed": true
   },
   "outputs": [],
   "source": []
  }
 ],
 "metadata": {
  "kernelspec": {
   "display_name": "Python 3",
   "language": "python",
   "name": "python3"
  },
  "language_info": {
   "codemirror_mode": {
    "name": "ipython",
    "version": 3
   },
   "file_extension": ".py",
   "mimetype": "text/x-python",
   "name": "python",
   "nbconvert_exporter": "python",
   "pygments_lexer": "ipython3",
   "version": "3.6.3"
  }
 },
 "nbformat": 4,
 "nbformat_minor": 2
}
