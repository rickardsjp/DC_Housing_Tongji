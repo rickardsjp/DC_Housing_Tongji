{
 "cells": [
  {
   "cell_type": "markdown",
   "metadata": {},
   "source": [
    "# Imports"
   ]
  },
  {
   "cell_type": "code",
   "execution_count": 15,
   "metadata": {},
   "outputs": [],
   "source": [
    "import matplotlib.pyplot as plt\n",
    "from matplotlib.pyplot import figure\n",
    "import matplotlib.lines as mlines\n",
    "import matplotlib.transforms as mtransforms\n",
    "\n",
    "import pandas as pd\n",
    "import numpy as np\n",
    "\n",
    "import sklearn\n",
    "from sklearn.linear_model import LogisticRegression\n",
    "from sklearn.linear_model import LinearRegression\n",
    "from sklearn.metrics import mean_squared_error, r2_score, f1_score\n",
    "\n",
    "from sklearn.model_selection import train_test_split"
   ]
  },
  {
   "cell_type": "markdown",
   "metadata": {},
   "source": [
    "# Load Data"
   ]
  },
  {
   "cell_type": "code",
   "execution_count": 16,
   "metadata": {
    "collapsed": true
   },
   "outputs": [],
   "source": [
    "data = pd.read_csv(\"data/data_cleaned.csv\")"
   ]
  },
  {
   "cell_type": "markdown",
   "metadata": {},
   "source": [
    "# Data Preparation"
   ]
  },
  {
   "cell_type": "code",
   "execution_count": 17,
   "metadata": {
    "collapsed": true
   },
   "outputs": [],
   "source": [
    "# one hot\n",
    "data = pd.get_dummies(data, prefix = [\"HEAT\", \"AC\", \"QUALIFIED\", \"STYLE\", \"STRUCT\", \"GRADE\", \"CNDTN\", \"EXTWALL\", \"INTWALL\", \"ROOF\", \"ASSESSMENT_SUBNBHD\"], columns = [\"HEAT\", \"AC\", \"QUALIFIED\", \"STYLE\", \"STRUCT\", \"GRADE\", \"CNDTN\", \"EXTWALL\", \"INTWALL\", \"ROOF\", \"ASSESSMENT_SUBNBHD\"])"
   ]
  },
  {
   "cell_type": "code",
   "execution_count": 18,
   "metadata": {
    "collapsed": true
   },
   "outputs": [],
   "source": [
    "# split\n",
    "x_data = data.drop([\"PRICE\"], axis=1)\n",
    "y_data = data[\"PRICE\"]"
   ]
  },
  {
   "cell_type": "code",
   "execution_count": 19,
   "metadata": {
    "collapsed": true
   },
   "outputs": [],
   "source": [
    "# normalization\n",
    "x_data = x_data.astype(float)\n",
    "x_data = x_data.apply(lambda x: (x - x.min()) / (x.max() - x.min()))"
   ]
  },
  {
   "cell_type": "code",
   "execution_count": 20,
   "metadata": {
    "collapsed": true
   },
   "outputs": [],
   "source": [
    "# train & test\n",
    "x_train, x_test, y_train, y_test = train_test_split(x_data, y_data, test_size=0.33, random_state=42)"
   ]
  },
  {
   "cell_type": "markdown",
   "metadata": {},
   "source": [
    "# Linear Regression"
   ]
  },
  {
   "cell_type": "code",
   "execution_count": 21,
   "metadata": {
    "scrolled": true
   },
   "outputs": [
    {
     "name": "stdout",
     "output_type": "stream",
     "text": [
      "Score: -4.76812074805e+19\n",
      "R2 Score: -4.76812074805e+19\n",
      "Mean squared error: 1.73688976638e+31\n"
     ]
    },
    {
     "data": {
      "image/png": "[encoded data removed]",
      "text/plain": [
       "<matplotlib.figure.Figure at 0x1d40050ca58>"
      ]
     },
     "metadata": {},
     "output_type": "display_data"
    }
   ],
   "source": [
    "linreg = LinearRegression(n_jobs = -1)\n",
    "linreg.fit(x_train, y_train)\n",
    "\n",
    "y_pred_lin = linreg.predict(x_test)\n",
    "\n",
    "lin_score = linreg.score(x_test, y_test)\n",
    "lin_msqe = mean_squared_error(y_test, y_pred_lin)\n",
    "\n",
    "print(\"Score: \" + str(lin_score))\n",
    "print(\"R2 Score: \" + str(r2_score(y_test, y_pred_lin)))\n",
    "print(\"Mean squared error: \" + str(lin_msqe))\n",
    "\n",
    "fig, ax = plt.subplots()\n",
    "ax.scatter(y_test, y_pred_lin, c='black')\n",
    "line = mlines.Line2D([0, 1], [0, 1], color='red')\n",
    "transform = ax.transAxes\n",
    "line.set_transform(transform)\n",
    "plt.xlim(0, 2000000)\n",
    "plt.ylim(0, 2000000)\n",
    "ax.add_line(line)\n",
    "plt.show()"
   ]
  },
  {
   "cell_type": "markdown",
   "metadata": {},
   "source": [
    "# Logistic Regression"
   ]
  },
  {
   "cell_type": "code",
   "execution_count": null,
   "metadata": {},
   "outputs": [
    {
     "name": "stderr",
     "output_type": "stream",
     "text": [
      "C:\\anaconda3\\lib\\site-packages\\sklearn\\linear_model\\sag.py:326: ConvergenceWarning: The max_iter was reached which means the coef_ did not converge\n",
      "  \"the coef_ did not converge\", ConvergenceWarning)\n"
     ]
    }
   ],
   "source": [
    "logreg = LogisticRegression(n_jobs=-1, solver=\"sag\")\n",
    "logreg.fit(x_train, y_train)\n",
    "\n",
    "y_pred_log = logreg.predict(x_test)\n",
    "\n",
    "lin_score = linreg.score(x_test, y_test)\n",
    "lin_msqe = mean_squared_error(y_test, y_pred_log)\n",
    "\n",
    "print(\"Score: \" + str(log_score))\n",
    "print(\"R2 Score: \" + str(r2_score(y_test, y_pred_log)))\n",
    "print(\"Mean squared error: \" + str(log_msqe))\n",
    "\n",
    "fig, ax = plt.subplots()\n",
    "ax.scatter(y_test, y_pred_log, c='black')\n",
    "line = mlines.Line2D([0, 1], [0, 1], color='red')\n",
    "transform = ax.transAxes\n",
    "line.set_transform(transform)\n",
    "plt.xlim(0, 2000000)\n",
    "plt.ylim(0, 2000000)\n",
    "ax.add_line(line)\n",
    "plt.show()"
   ]
  },
  {
   "cell_type": "code",
   "execution_count": null,
   "metadata": {
    "collapsed": true
   },
   "outputs": [],
   "source": []
  }
 ],
 "metadata": {
  "kernelspec": {
   "display_name": "Python 3",
   "language": "python",
   "name": "python3"
  },
  "language_info": {
   "codemirror_mode": {
    "name": "ipython",
    "version": 3
   },
   "file_extension": ".py",
   "mimetype": "text/x-python",
   "name": "python",
   "nbconvert_exporter": "python",
   "pygments_lexer": "ipython3",
   "version": "3.6.3"
  }
 },
 "nbformat": 4,
 "nbformat_minor": 2
}
