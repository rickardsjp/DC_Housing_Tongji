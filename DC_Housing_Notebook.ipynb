{
 "cells": [
  {
   "cell_type": "markdown",
   "metadata": {},
   "source": [
    "# Imports"
   ]
  },
  {
   "cell_type": "code",
   "execution_count": 46,
   "metadata": {
    "collapsed": true
   },
   "outputs": [],
   "source": [
    "import pandas as pd\n",
    "import numpy as np\n",
    "import sklearn\n",
    "from sklearn.linear_model import LogisticRegression\n",
    "from sklearn.linear_model import LinearRegression\n",
    "from sklearn.metrics import mean_squared_error, r2_score\n",
    "import matplotlib.pyplot as plt"
   ]
  },
  {
   "cell_type": "markdown",
   "metadata": {},
   "source": [
    "# Load Data"
   ]
  },
  {
   "cell_type": "code",
   "execution_count": 3,
   "metadata": {},
   "outputs": [
    {
     "name": "stderr",
     "output_type": "stream",
     "text": [
      "C:\\anaconda3\\lib\\site-packages\\IPython\\core\\interactiveshell.py:2698: DtypeWarning: Columns (18,19,20,21,22,23,24,33,34,35,37,43,45) have mixed types. Specify dtype option on import or set low_memory=False.\n",
      "  interactivity=interactivity, compiler=compiler, result=result)\n"
     ]
    }
   ],
   "source": [
    "data = pd.read_csv('data/DC_Properties.csv')"
   ]
  },
  {
   "cell_type": "markdown",
   "metadata": {},
   "source": [
    "# Data Exploration"
   ]
  },
  {
   "cell_type": "code",
   "execution_count": 4,
   "metadata": {},
   "outputs": [
    {
     "data": {
      "text/plain": [
       "(158957, 49)"
      ]
     },
     "execution_count": 4,
     "metadata": {},
     "output_type": "execute_result"
    }
   ],
   "source": [
    "data.shape # we have 49 columns and 158957 rows"
   ]
  },
  {
   "cell_type": "code",
   "execution_count": 5,
   "metadata": {},
   "outputs": [
    {
     "name": "stdout",
     "output_type": "stream",
     "text": [
      "Row Count: 158957\n",
      "\n",
      "Unnamed: 0                 0\n",
      "BATHRM                     0\n",
      "HF_BATHRM                  0\n",
      "HEAT                       0\n",
      "AC                         0\n",
      "NUM_UNITS              52261\n",
      "ROOMS                      0\n",
      "BEDRM                      0\n",
      "AYB                      271\n",
      "YR_RMDL                78029\n",
      "EYB                        0\n",
      "STORIES                52305\n",
      "SALEDATE               26770\n",
      "PRICE                  60741\n",
      "QUALIFIED                  0\n",
      "SALE_NUM                   0\n",
      "GBA                    52261\n",
      "BLDG_NUM                   0\n",
      "STYLE                  52261\n",
      "STRUCT                 52261\n",
      "GRADE                  52261\n",
      "CNDTN                  52261\n",
      "EXTWALL                52261\n",
      "ROOF                   52261\n",
      "INTWALL                52261\n",
      "KITCHENS               52262\n",
      "FIREPLACES                 0\n",
      "USECODE                    0\n",
      "LANDAREA                   0\n",
      "GIS_LAST_MOD_DTTM          0\n",
      "SOURCE                     0\n",
      "CMPLX_NUM             106696\n",
      "LIVING_GBA            106696\n",
      "FULLADDRESS            52917\n",
      "CITY                   52906\n",
      "STATE                  52906\n",
      "ZIPCODE                    1\n",
      "NATIONALGRID           52906\n",
      "LATITUDE                   1\n",
      "LONGITUDE                  1\n",
      "ASSESSMENT_NBHD            1\n",
      "ASSESSMENT_SUBNBHD     32551\n",
      "CENSUS_TRACT               1\n",
      "CENSUS_BLOCK           52906\n",
      "WARD                       1\n",
      "SQUARE                     0\n",
      "X                        237\n",
      "Y                        237\n",
      "QUADRANT                 237\n",
      "dtype: int64\n"
     ]
    }
   ],
   "source": [
    "missing_values = data.isnull().sum()\n",
    "\n",
    "print(\"Row Count: \" + str(data.shape[0]))\n",
    "print()\n",
    "print(missing_values)"
   ]
  },
  {
   "cell_type": "code",
   "execution_count": 6,
   "metadata": {
    "scrolled": true
   },
   "outputs": [
    {
     "data": {
      "text/plain": [
       "(106696, 49)"
      ]
     },
     "execution_count": 6,
     "metadata": {},
     "output_type": "execute_result"
    }
   ],
   "source": [
    "data[data[\"STYLE\"].notnull()].shape # 52.261 rows don't have a value for the \"STYLE\" column"
   ]
  },
  {
   "cell_type": "code",
   "execution_count": 7,
   "metadata": {},
   "outputs": [
    {
     "data": {
      "text/plain": [
       "(106696, 49)"
      ]
     },
     "execution_count": 7,
     "metadata": {},
     "output_type": "execute_result"
    }
   ],
   "source": [
    "data[data[\"STRUCT\"].notnull() | data[\"STYLE\"].notnull() | data[\"GRADE\"].notnull() | data[\"CNDTN\"].notnull() | data[\"EXTWALL\"].notnull() | data[\"ROOF\"].notnull() | data[\"INTWALL\"].notnull()].shape # the same rows don't have a value for: \"STRUCT\", \"GRADE\", \"CNDTN\", \"EXTWALL\", \"ROOF\", \"INTWALL\""
   ]
  },
  {
   "cell_type": "code",
   "execution_count": 8,
   "metadata": {
    "collapsed": true
   },
   "outputs": [],
   "source": [
    "# command copied form data cleaning\n",
    "data_dropped_rows = data[data[\"STRUCT\"].notnull() | data[\"STYLE\"].notnull() | data[\"GRADE\"].notnull() | data[\"CNDTN\"].notnull() | data[\"EXTWALL\"].notnull() | data[\"ROOF\"].notnull() | data[\"INTWALL\"].notnull()]"
   ]
  },
  {
   "cell_type": "code",
   "execution_count": 9,
   "metadata": {},
   "outputs": [
    {
     "name": "stdout",
     "output_type": "stream",
     "text": [
      "Row Count: 106696\n",
      "\n",
      "Unnamed: 0                 0\n",
      "BATHRM                     0\n",
      "HF_BATHRM                  0\n",
      "HEAT                       0\n",
      "AC                         0\n",
      "NUM_UNITS                  0\n",
      "ROOMS                      0\n",
      "BEDRM                      0\n",
      "AYB                      241\n",
      "YR_RMDL                57417\n",
      "EYB                        0\n",
      "STORIES                   44\n",
      "SALEDATE               22513\n",
      "PRICE                  48796\n",
      "QUALIFIED                  0\n",
      "SALE_NUM                   0\n",
      "GBA                        0\n",
      "BLDG_NUM                   0\n",
      "STYLE                      0\n",
      "STRUCT                     0\n",
      "GRADE                      0\n",
      "CNDTN                      0\n",
      "EXTWALL                    0\n",
      "ROOF                       0\n",
      "INTWALL                    0\n",
      "KITCHENS                   1\n",
      "FIREPLACES                 0\n",
      "USECODE                    0\n",
      "LANDAREA                   0\n",
      "GIS_LAST_MOD_DTTM          0\n",
      "SOURCE                     0\n",
      "CMPLX_NUM             106696\n",
      "LIVING_GBA            106696\n",
      "FULLADDRESS              656\n",
      "CITY                     645\n",
      "STATE                    645\n",
      "ZIPCODE                    1\n",
      "NATIONALGRID             645\n",
      "LATITUDE                   1\n",
      "LONGITUDE                  1\n",
      "ASSESSMENT_NBHD            1\n",
      "ASSESSMENT_SUBNBHD     15536\n",
      "CENSUS_TRACT               1\n",
      "CENSUS_BLOCK             645\n",
      "WARD                       1\n",
      "SQUARE                     0\n",
      "X                        237\n",
      "Y                        237\n",
      "QUADRANT                 237\n",
      "dtype: int64\n"
     ]
    }
   ],
   "source": [
    "missing_values = data_dropped_rows.isnull().sum()\n",
    "\n",
    "print(\"Row Count: \" + str(data_dropped_rows.shape[0]))\n",
    "print()\n",
    "print(missing_values)"
   ]
  },
  {
   "cell_type": "markdown",
   "metadata": {},
   "source": [
    "1) no row has a value for the cmplx_num and the living_gba => useless\n",
    "2) there are many missing values for the sale_date and the yr_rmdl => maybe they aren't missing, it could be the case, that these houses were never remodeled and/ or sold before, in the following we will probably handle them this way."
   ]
  },
  {
   "cell_type": "markdown",
   "metadata": {},
   "source": [
    "There is a column called \"Unnamed: 0\", lets see what's in there."
   ]
  },
  {
   "cell_type": "code",
   "execution_count": 10,
   "metadata": {},
   "outputs": [
    {
     "data": {
      "text/plain": [
       "0              0\n",
       "1              1\n",
       "2              2\n",
       "3              3\n",
       "4              4\n",
       "5              5\n",
       "6              6\n",
       "7              7\n",
       "8              8\n",
       "9              9\n",
       "10            10\n",
       "11            11\n",
       "12            12\n",
       "13            13\n",
       "14            14\n",
       "15            15\n",
       "16            16\n",
       "17            17\n",
       "18            18\n",
       "19            19\n",
       "20            20\n",
       "21            21\n",
       "22            22\n",
       "23            23\n",
       "24            24\n",
       "25            25\n",
       "26            26\n",
       "27            27\n",
       "28            28\n",
       "29            29\n",
       "           ...  \n",
       "158927    158927\n",
       "158928    158928\n",
       "158929    158929\n",
       "158930    158930\n",
       "158931    158931\n",
       "158932    158932\n",
       "158933    158933\n",
       "158934    158934\n",
       "158935    158935\n",
       "158936    158936\n",
       "158937    158937\n",
       "158938    158938\n",
       "158939    158939\n",
       "158940    158940\n",
       "158941    158941\n",
       "158942    158942\n",
       "158943    158943\n",
       "158944    158944\n",
       "158945    158945\n",
       "158946    158946\n",
       "158947    158947\n",
       "158948    158948\n",
       "158949    158949\n",
       "158950    158950\n",
       "158951    158951\n",
       "158952    158952\n",
       "158953    158953\n",
       "158954    158954\n",
       "158955    158955\n",
       "158956    158956\n",
       "Name: Unnamed: 0, Length: 158957, dtype: int64"
      ]
     },
     "execution_count": 10,
     "metadata": {},
     "output_type": "execute_result"
    }
   ],
   "source": [
    "data[\"Unnamed: 0\"]"
   ]
  },
  {
   "cell_type": "markdown",
   "metadata": {},
   "source": [
    "It's just the same as the index (probably the unique id column)."
   ]
  },
  {
   "cell_type": "code",
   "execution_count": 11,
   "metadata": {},
   "outputs": [
    {
     "data": {
      "text/plain": [
       "array(['DC', nan], dtype=object)"
      ]
     },
     "execution_count": 11,
     "metadata": {},
     "output_type": "execute_result"
    }
   ],
   "source": [
    "data[\"STATE\"].unique() "
   ]
  },
  {
   "cell_type": "code",
   "execution_count": 12,
   "metadata": {},
   "outputs": [
    {
     "data": {
      "text/plain": [
       "array(['WASHINGTON', nan], dtype=object)"
      ]
     },
     "execution_count": 12,
     "metadata": {},
     "output_type": "execute_result"
    }
   ],
   "source": [
    "data[\"CITY\"].unique()"
   ]
  },
  {
   "cell_type": "markdown",
   "metadata": {},
   "source": [
    "Since our dataset is only about Washington DC these columns habe no use."
   ]
  },
  {
   "cell_type": "code",
   "execution_count": 13,
   "metadata": {
    "scrolled": true
   },
   "outputs": [
    {
     "data": {
      "text/plain": [
       "array([ 20009.,  20037.,  20036.,  20005.,  20052.,  20008.,  20001.,\n",
       "        20024.,  20006.,  20003.,  20002.,  20007.,  20016.,  20015.,\n",
       "        20011.,  20010.,  20012.,  20017.,  20018.,  20019.,  20020.,\n",
       "        20032.,     nan,  20392.,  20004.])"
      ]
     },
     "execution_count": 13,
     "metadata": {},
     "output_type": "execute_result"
    }
   ],
   "source": [
    "data[\"ZIPCODE\"].unique()"
   ]
  },
  {
   "cell_type": "markdown",
   "metadata": {},
   "source": [
    "The ZIPCODE on the otherside contains some value"
   ]
  },
  {
   "cell_type": "code",
   "execution_count": 14,
   "metadata": {},
   "outputs": [
    {
     "data": {
      "text/plain": [
       "array(['1748 SWANN STREET NW', '1746 SWANN STREET NW',\n",
       "       '1744 SWANN STREET NW', ..., '131 JOLIET STREET SW',\n",
       "       '135 JOLIET STREET SW', '139 JOLIET STREET SW'], dtype=object)"
      ]
     },
     "execution_count": 14,
     "metadata": {},
     "output_type": "execute_result"
    }
   ],
   "source": [
    "data[\"FULLADDRESS\"].unique()"
   ]
  },
  {
   "cell_type": "code",
   "execution_count": 15,
   "metadata": {},
   "outputs": [
    {
     "data": {
      "text/plain": [
       "(105979,)"
      ]
     },
     "execution_count": 15,
     "metadata": {},
     "output_type": "execute_result"
    }
   ],
   "source": [
    "data[\"FULLADDRESS\"].unique().shape"
   ]
  },
  {
   "cell_type": "code",
   "execution_count": 16,
   "metadata": {},
   "outputs": [
    {
     "data": {
      "text/plain": [
       "106040"
      ]
     },
     "execution_count": 16,
     "metadata": {},
     "output_type": "execute_result"
    }
   ],
   "source": [
    "data.shape[0] - data[\"FULLADDRESS\"].isnull().sum()"
   ]
  },
  {
   "cell_type": "markdown",
   "metadata": {},
   "source": [
    "The column \"FULLADDRESS\" has only unique text values, the computer can't process them. Either you split them up (street and house number or just leave them out because the streetnames aren't that useful either)"
   ]
  },
  {
   "cell_type": "code",
   "execution_count": 17,
   "metadata": {},
   "outputs": [
    {
     "data": {
      "text/plain": [
       "array(['18S UJ 23061 09289', '18S UJ 23067 09289', '18S UJ 23074 09289',\n",
       "       ..., '18S UH 25815 98879', '18S UH 25807 98865',\n",
       "       '18S UH 25804 98859'], dtype=object)"
      ]
     },
     "execution_count": 17,
     "metadata": {},
     "output_type": "execute_result"
    }
   ],
   "source": [
    "data[\"NATIONALGRID\"].unique()"
   ]
  },
  {
   "cell_type": "code",
   "execution_count": 18,
   "metadata": {},
   "outputs": [
    {
     "data": {
      "text/plain": [
       "(105950,)"
      ]
     },
     "execution_count": 18,
     "metadata": {},
     "output_type": "execute_result"
    }
   ],
   "source": [
    "data[\"NATIONALGRID\"].unique().shape"
   ]
  },
  {
   "cell_type": "code",
   "execution_count": 19,
   "metadata": {},
   "outputs": [
    {
     "data": {
      "text/plain": [
       "106051"
      ]
     },
     "execution_count": 19,
     "metadata": {},
     "output_type": "execute_result"
    }
   ],
   "source": [
    "data.shape[0] - data[\"NATIONALGRID\"].isnull().sum()"
   ]
  },
  {
   "cell_type": "markdown",
   "metadata": {},
   "source": [
    "The column \"NATIONALGRID\" has the same problem, as the one above."
   ]
  },
  {
   "cell_type": "code",
   "execution_count": 20,
   "metadata": {},
   "outputs": [
    {
     "data": {
      "text/plain": [
       "<bound method Series.unique of 0         2018-07-22 18:01:43\n",
       "1         2018-07-22 18:01:43\n",
       "2         2018-07-22 18:01:43\n",
       "3         2018-07-22 18:01:43\n",
       "4         2018-07-22 18:01:43\n",
       "5         2018-07-22 18:01:43\n",
       "6         2018-07-22 18:01:43\n",
       "7         2018-07-22 18:01:43\n",
       "8         2018-07-22 18:01:43\n",
       "9         2018-07-22 18:01:43\n",
       "10        2018-07-22 18:01:43\n",
       "11        2018-07-22 18:01:43\n",
       "12        2018-07-22 18:01:43\n",
       "13        2018-07-22 18:01:43\n",
       "14        2018-07-22 18:01:43\n",
       "15        2018-07-22 18:01:43\n",
       "16        2018-07-22 18:01:43\n",
       "17        2018-07-22 18:01:43\n",
       "18        2018-07-22 18:01:43\n",
       "19        2018-07-22 18:01:43\n",
       "20        2018-07-22 18:01:43\n",
       "21        2018-07-22 18:01:43\n",
       "22        2018-07-22 18:01:43\n",
       "23        2018-07-22 18:01:43\n",
       "24        2018-07-22 18:01:43\n",
       "25        2018-07-22 18:01:43\n",
       "26        2018-07-22 18:01:43\n",
       "27        2018-07-22 18:01:43\n",
       "28        2018-07-22 18:01:43\n",
       "29        2018-07-22 18:01:43\n",
       "                 ...         \n",
       "158927    2018-07-22 18:01:38\n",
       "158928    2018-07-22 18:01:38\n",
       "158929    2018-07-22 18:01:38\n",
       "158930    2018-07-22 18:01:38\n",
       "158931    2018-07-22 18:01:38\n",
       "158932    2018-07-22 18:01:38\n",
       "158933    2018-07-22 18:01:38\n",
       "158934    2018-07-22 18:01:38\n",
       "158935    2018-07-22 18:01:38\n",
       "158936    2018-07-22 18:01:38\n",
       "158937    2018-07-22 18:01:38\n",
       "158938    2018-07-22 18:01:38\n",
       "158939    2018-07-22 18:01:38\n",
       "158940    2018-07-22 18:01:38\n",
       "158941    2018-07-22 18:01:38\n",
       "158942    2018-07-22 18:01:38\n",
       "158943    2018-07-22 18:01:38\n",
       "158944    2018-07-22 18:01:38\n",
       "158945    2018-07-22 18:01:38\n",
       "158946    2018-07-22 18:01:38\n",
       "158947    2018-07-22 18:01:38\n",
       "158948    2018-07-22 18:01:38\n",
       "158949    2018-07-22 18:01:38\n",
       "158950    2018-07-22 18:01:38\n",
       "158951    2018-07-22 18:01:38\n",
       "158952    2018-07-22 18:01:38\n",
       "158953    2018-07-22 18:01:38\n",
       "158954    2018-07-22 18:01:38\n",
       "158955    2018-07-22 18:01:38\n",
       "158956    2018-07-22 18:01:38\n",
       "Name: GIS_LAST_MOD_DTTM, Length: 158957, dtype: object>"
      ]
     },
     "execution_count": 20,
     "metadata": {},
     "output_type": "execute_result"
    }
   ],
   "source": [
    "data[\"GIS_LAST_MOD_DTTM\"].unique"
   ]
  },
  {
   "cell_type": "markdown",
   "metadata": {},
   "source": [
    "This row says when the row of the dataset was last modified, it's useless for us."
   ]
  },
  {
   "cell_type": "code",
   "execution_count": 21,
   "metadata": {},
   "outputs": [
    {
     "data": {
      "text/plain": [
       "<bound method Series.unique of 0         2003-11-25 00:00:00\n",
       "1         2000-08-17 00:00:00\n",
       "2         2016-06-21 00:00:00\n",
       "3         2006-07-12 00:00:00\n",
       "4                         NaN\n",
       "5         2010-02-26 00:00:00\n",
       "6         2011-05-02 00:00:00\n",
       "7         2011-09-29 00:00:00\n",
       "8         2018-05-03 00:00:00\n",
       "9         2008-12-05 00:00:00\n",
       "10                        NaN\n",
       "11        2009-03-12 00:00:00\n",
       "12                        NaN\n",
       "13                        NaN\n",
       "14        2011-09-30 00:00:00\n",
       "15                        NaN\n",
       "16        2010-11-04 00:00:00\n",
       "17        2008-05-08 00:00:00\n",
       "18        2016-08-18 00:00:00\n",
       "19        2001-07-23 00:00:00\n",
       "20        2016-01-12 00:00:00\n",
       "21        2014-04-30 00:00:00\n",
       "22        2006-01-09 00:00:00\n",
       "23        2012-08-21 00:00:00\n",
       "24        2012-07-25 00:00:00\n",
       "25        1996-04-02 00:00:00\n",
       "26                        NaN\n",
       "27        2005-04-06 00:00:00\n",
       "28        2015-02-06 00:00:00\n",
       "29        2013-12-11 00:00:00\n",
       "                 ...         \n",
       "158927    2015-10-07 00:00:00\n",
       "158928    2017-05-24 00:00:00\n",
       "158929    2012-12-19 00:00:00\n",
       "158930    2007-06-25 00:00:00\n",
       "158931    2005-07-06 00:00:00\n",
       "158932    2014-07-09 00:00:00\n",
       "158933    2017-01-12 00:00:00\n",
       "158934    2017-02-23 00:00:00\n",
       "158935    2016-12-28 00:00:00\n",
       "158936    2016-12-28 00:00:00\n",
       "158937                    NaN\n",
       "158938    2015-03-02 00:00:00\n",
       "158939    2016-09-30 00:00:00\n",
       "158940    2008-06-04 00:00:00\n",
       "158941                    NaN\n",
       "158942                    NaN\n",
       "158943    2004-11-08 00:00:00\n",
       "158944    2016-07-19 00:00:00\n",
       "158945    2006-07-13 00:00:00\n",
       "158946    2015-02-11 00:00:00\n",
       "158947    2008-06-30 00:00:00\n",
       "158948    2012-10-22 00:00:00\n",
       "158949    2015-06-09 00:00:00\n",
       "158950    2015-12-24 00:00:00\n",
       "158951    2009-11-12 00:00:00\n",
       "158952    2015-04-03 00:00:00\n",
       "158953    2013-10-04 00:00:00\n",
       "158954    2008-09-30 00:00:00\n",
       "158955    2015-04-14 00:00:00\n",
       "158956    2002-07-22 00:00:00\n",
       "Name: SALEDATE, Length: 158957, dtype: object>"
      ]
     },
     "execution_count": 21,
     "metadata": {},
     "output_type": "execute_result"
    }
   ],
   "source": [
    "data[\"SALEDATE\"].unique"
   ]
  },
  {
   "cell_type": "markdown",
   "metadata": {},
   "source": [
    "This row contains the date, the building was sold. The way it is saved is not good to compute, we will convert it later."
   ]
  },
  {
   "cell_type": "markdown",
   "metadata": {},
   "source": [
    "# Data Cleaning"
   ]
  },
  {
   "cell_type": "markdown",
   "metadata": {},
   "source": [
    "## remove rows with missing values"
   ]
  },
  {
   "cell_type": "code",
   "execution_count": 22,
   "metadata": {
    "collapsed": true
   },
   "outputs": [],
   "source": [
    "# this command will throw away ~33% of the data (maybe we will keep the data and do two seperate tests, one where we will throw away the rows where the data is missing and one where we will throw away these columns)\n",
    "# data = data[data[\"STRUCT\"].notnull() | data[\"STYLE\"].notnull() | data[\"GRADE\"].notnull() | data[\"CNDTN\"].notnull() | data[\"EXTWALL\"].notnull() | data[\"ROOF\"].notnull() | data[\"INTWALL\"].notnull()]\n",
    "\n",
    "# since our many concern is the price of the building, rows without the price have only a small to none value\n",
    "data = data[data[\"PRICE\"].notnull()]\n",
    "\n",
    "# in these very few rows (~200) there are values missing\n",
    "data = data[data[\"X\"].notnull() & data[\"Y\"].notnull() & data[\"QUADRANT\"].notnull() & data[\"AYB\"].notnull() & data[\"WARD\"].notnull() & data[\"ASSESSMENT_NBHD\"].notnull() & data[\"CENSUS_TRACT\"].notnull() & data[\"LONGITUDE\"].notnull() & data[\"LATITUDE\"].notnull() & data[\"ZIPCODE\"].notnull()] "
   ]
  },
  {
   "cell_type": "markdown",
   "metadata": {},
   "source": [
    "## drop columns"
   ]
  },
  {
   "cell_type": "code",
   "execution_count": 23,
   "metadata": {
    "collapsed": true,
    "scrolled": true
   },
   "outputs": [],
   "source": [
    "# this column has only one value \"2018-07-22 18:01:43\" => useless\n",
    "data = data.drop([\"GIS_LAST_MOD_DTTM\"], axis=1)\n",
    "# since the unique id is equal to the row number we don't need it\n",
    "data = data.drop([\"Unnamed: 0\"], axis=1)\n",
    "# many many missing values\n",
    "data = data.drop([\"LIVING_GBA\", \"CMPLX_NUM\"], axis=1)\n",
    "# these columns have nothing to say\n",
    "data = data.drop([\"STATE\", \"CITY\"], axis=1)\n",
    "# these columns contain only unique texts which can't be computed\n",
    "data = data.drop([\"NATIONALGRID\", \"FULLADDRESS\"], axis=1)"
   ]
  },
  {
   "cell_type": "markdown",
   "metadata": {},
   "source": [
    "## data insertion"
   ]
  },
  {
   "cell_type": "code",
   "execution_count": 24,
   "metadata": {
    "collapsed": true
   },
   "outputs": [],
   "source": [
    "# set the missing sale date to the year it was build\n",
    "data[\"SALEDATE\"] = np.where(data[\"SALEDATE\"].isnull(), data[\"AYB\"], data[\"SALEDATE\"])\n",
    "\n",
    "# add a column wich says wether a building was remodeled and insert missing values in to the YR_RMDL column\n",
    "data[\"WAS_REMODELED\"] = np.where(data[\"YR_RMDL\"].isnull(), 0, 1)\n",
    "data[\"YR_RMDL\"] = np.where(data[\"YR_RMDL\"].isnull(), -1, data[\"YR_RMDL\"])"
   ]
  },
  {
   "cell_type": "markdown",
   "metadata": {},
   "source": [
    "## data convertion"
   ]
  },
  {
   "cell_type": "code",
   "execution_count": 25,
   "metadata": {
    "collapsed": true
   },
   "outputs": [],
   "source": [
    "# To-Do convert SALEDATE to timestamp"
   ]
  },
  {
   "cell_type": "markdown",
   "metadata": {},
   "source": [
    "## final results"
   ]
  },
  {
   "cell_type": "code",
   "execution_count": 26,
   "metadata": {
    "scrolled": false
   },
   "outputs": [
    {
     "name": "stdout",
     "output_type": "stream",
     "text": [
      "All Data:\n",
      "Row Count: 98003\n",
      "Col Count: 42\n",
      "\n",
      "BATHRM                    0\n",
      "HF_BATHRM                 0\n",
      "HEAT                      0\n",
      "AC                        0\n",
      "NUM_UNITS             40299\n",
      "ROOMS                     0\n",
      "BEDRM                     0\n",
      "AYB                       0\n",
      "YR_RMDL                   0\n",
      "EYB                       0\n",
      "STORIES               40332\n",
      "SALEDATE                  0\n",
      "PRICE                     0\n",
      "QUALIFIED                 0\n",
      "SALE_NUM                  0\n",
      "GBA                   40299\n",
      "BLDG_NUM                  0\n",
      "STYLE                 40299\n",
      "STRUCT                40299\n",
      "GRADE                 40299\n",
      "CNDTN                 40299\n",
      "EXTWALL               40299\n",
      "ROOF                  40299\n",
      "INTWALL               40299\n",
      "KITCHENS              40300\n",
      "FIREPLACES                0\n",
      "USECODE                   0\n",
      "LANDAREA                  0\n",
      "SOURCE                    0\n",
      "ZIPCODE                   0\n",
      "LATITUDE                  0\n",
      "LONGITUDE                 0\n",
      "ASSESSMENT_NBHD           0\n",
      "ASSESSMENT_SUBNBHD    20207\n",
      "CENSUS_TRACT              0\n",
      "CENSUS_BLOCK          40625\n",
      "WARD                      0\n",
      "SQUARE                    0\n",
      "X                         0\n",
      "Y                         0\n",
      "QUADRANT                  0\n",
      "WAS_REMODELED             0\n",
      "dtype: int64\n",
      "\n",
      "--------------------------------------------------\n",
      "\n",
      "Data with dropped columns:\n",
      "Row Count: 98003\n",
      "Col Count: 29\n",
      "\n",
      "BATHRM             0\n",
      "HF_BATHRM          0\n",
      "HEAT               0\n",
      "AC                 0\n",
      "ROOMS              0\n",
      "BEDRM              0\n",
      "AYB                0\n",
      "YR_RMDL            0\n",
      "EYB                0\n",
      "SALEDATE           0\n",
      "PRICE              0\n",
      "QUALIFIED          0\n",
      "SALE_NUM           0\n",
      "BLDG_NUM           0\n",
      "FIREPLACES         0\n",
      "USECODE            0\n",
      "LANDAREA           0\n",
      "SOURCE             0\n",
      "ZIPCODE            0\n",
      "LATITUDE           0\n",
      "LONGITUDE          0\n",
      "ASSESSMENT_NBHD    0\n",
      "CENSUS_TRACT       0\n",
      "WARD               0\n",
      "SQUARE             0\n",
      "X                  0\n",
      "Y                  0\n",
      "QUADRANT           0\n",
      "WAS_REMODELED      0\n",
      "dtype: int64\n",
      "\n",
      "--------------------------------------------------\n",
      "\n",
      "Data with dropped rows:\n",
      "Row Count: 49431\n",
      "Col Count: 42\n",
      "\n",
      "BATHRM                0\n",
      "HF_BATHRM             0\n",
      "HEAT                  0\n",
      "AC                    0\n",
      "NUM_UNITS             0\n",
      "ROOMS                 0\n",
      "BEDRM                 0\n",
      "AYB                   0\n",
      "YR_RMDL               0\n",
      "EYB                   0\n",
      "STORIES               0\n",
      "SALEDATE              0\n",
      "PRICE                 0\n",
      "QUALIFIED             0\n",
      "SALE_NUM              0\n",
      "GBA                   0\n",
      "BLDG_NUM              0\n",
      "STYLE                 0\n",
      "STRUCT                0\n",
      "GRADE                 0\n",
      "CNDTN                 0\n",
      "EXTWALL               0\n",
      "ROOF                  0\n",
      "INTWALL               0\n",
      "KITCHENS              0\n",
      "FIREPLACES            0\n",
      "USECODE               0\n",
      "LANDAREA              0\n",
      "SOURCE                0\n",
      "ZIPCODE               0\n",
      "LATITUDE              0\n",
      "LONGITUDE             0\n",
      "ASSESSMENT_NBHD       0\n",
      "ASSESSMENT_SUBNBHD    0\n",
      "CENSUS_TRACT          0\n",
      "CENSUS_BLOCK          0\n",
      "WARD                  0\n",
      "SQUARE                0\n",
      "X                     0\n",
      "Y                     0\n",
      "QUADRANT              0\n",
      "WAS_REMODELED         0\n",
      "dtype: int64\n"
     ]
    }
   ],
   "source": [
    "missing_values = data.isnull().sum()\n",
    "print(\"All Data:\")\n",
    "print(\"Row Count: \" + str(data.shape[0]))\n",
    "print(\"Col Count: \" + str(data.shape[1]))\n",
    "print()\n",
    "print(missing_values)\n",
    "\n",
    "data_col = data.drop([\"NUM_UNITS\", \"STORIES\", \"GBA\", \"STYLE\", \"STRUCT\", \"GRADE\", \"CNDTN\", \"EXTWALL\", \"ROOF\", \"INTWALL\", \"KITCHENS\", \"ASSESSMENT_SUBNBHD\", \"CENSUS_BLOCK\"], axis=1)\n",
    "missing_values_col = data_col.isnull().sum()\n",
    "print()\n",
    "print(\"--------------------------------------------------\")\n",
    "print()\n",
    "print(\"Data with dropped columns:\")\n",
    "print(\"Row Count: \" + str(data_col.shape[0]))\n",
    "print(\"Col Count: \" + str(data_col.shape[1]))\n",
    "print()\n",
    "print(missing_values_col)\n",
    "\n",
    "data_row = data[data[\"STRUCT\"].notnull() & data[\"STYLE\"].notnull() & data[\"GRADE\"].notnull() & data[\"CNDTN\"].notnull() & data[\"EXTWALL\"].notnull() & data[\"ROOF\"].notnull() & data[\"INTWALL\"].notnull()  & data[\"STORIES\"].notnull() & data[\"KITCHENS\"].notnull() & data[\"ASSESSMENT_SUBNBHD\"].notnull()  & data[\"CENSUS_BLOCK\"].notnull()]\n",
    "missing_values_row = data_row.isnull().sum()\n",
    "print()\n",
    "print(\"--------------------------------------------------\")\n",
    "print()\n",
    "print(\"Data with dropped rows:\")\n",
    "print(\"Row Count: \" + str(data_row.shape[0]))\n",
    "print(\"Col Count: \" + str(data_row.shape[1]))\n",
    "print()\n",
    "print(missing_values_row)\n",
    "\n"
   ]
  },
  {
   "cell_type": "markdown",
   "metadata": {},
   "source": [
    "# Data Preparation"
   ]
  },
  {
   "cell_type": "markdown",
   "metadata": {},
   "source": [
    "## subsample (for faster development -> remove (comment out) later)"
   ]
  },
  {
   "cell_type": "code",
   "execution_count": null,
   "metadata": {
    "collapsed": true
   },
   "outputs": [],
   "source": []
  },
  {
   "cell_type": "markdown",
   "metadata": {},
   "source": [
    "## One Hot Encoding"
   ]
  },
  {
   "cell_type": "code",
   "execution_count": null,
   "metadata": {
    "collapsed": true
   },
   "outputs": [],
   "source": []
  },
  {
   "cell_type": "code",
   "execution_count": 27,
   "metadata": {
    "collapsed": true
   },
   "outputs": [],
   "source": [
    "# weil ich gerade zu dumm bin, schmeiße ich vorläufig das SALEDATE raus"
   ]
  },
  {
   "cell_type": "code",
   "execution_count": 28,
   "metadata": {
    "collapsed": true
   },
   "outputs": [],
   "source": [
    "data_row = data_row.drop([\"SALEDATE\"], axis=1)\n",
    "data_col = data_col.drop([\"SALEDATE\"], axis=1)"
   ]
  },
  {
   "cell_type": "code",
   "execution_count": null,
   "metadata": {
    "collapsed": true
   },
   "outputs": [],
   "source": []
  },
  {
   "cell_type": "code",
   "execution_count": 29,
   "metadata": {
    "collapsed": true
   },
   "outputs": [],
   "source": [
    "def make_one_hot_encoding(data, column):\n",
    "    dummies = pd.get_dummies(data[column], prefix = column)\n",
    "    data = pd.concat([data, dummies], axis=1)\n",
    "    data = data.drop([column], axis=1)\n",
    "    return data"
   ]
  },
  {
   "cell_type": "code",
   "execution_count": 30,
   "metadata": {
    "collapsed": true
   },
   "outputs": [],
   "source": [
    "data_row = make_one_hot_encoding(data_row, \"HEAT\")\n",
    "data_row = make_one_hot_encoding(data_row, \"AC\")\n",
    "data_row = make_one_hot_encoding(data_row, \"QUALIFIED\")\n",
    "data_row = make_one_hot_encoding(data_row, \"STYLE\")\n",
    "data_row = make_one_hot_encoding(data_row, \"STRUCT\")\n",
    "data_row = make_one_hot_encoding(data_row, \"GRADE\")\n",
    "data_row = make_one_hot_encoding(data_row, \"CNDTN\")\n",
    "data_row = make_one_hot_encoding(data_row, \"EXTWALL\")\n",
    "data_row = make_one_hot_encoding(data_row, \"INTWALL\")\n",
    "data_row = make_one_hot_encoding(data_row, \"ROOF\")\n",
    "data_row = make_one_hot_encoding(data_row, \"SOURCE\")\n",
    "data_row = make_one_hot_encoding(data_row, \"ZIPCODE\")\n",
    "data_row = make_one_hot_encoding(data_row, \"ASSESSMENT_NBHD\")\n",
    "data_row = make_one_hot_encoding(data_row, \"ASSESSMENT_SUBNBHD\")\n",
    "data_row = make_one_hot_encoding(data_row, \"CENSUS_TRACT\")\n",
    "data_row = make_one_hot_encoding(data_row, \"CENSUS_BLOCK\")\n",
    "data_row = make_one_hot_encoding(data_row, \"WARD\")\n",
    "data_row = make_one_hot_encoding(data_row, \"QUADRANT\")"
   ]
  },
  {
   "cell_type": "code",
   "execution_count": 31,
   "metadata": {
    "collapsed": true
   },
   "outputs": [],
   "source": [
    "data_col = make_one_hot_encoding(data_col, \"HEAT\")\n",
    "data_col = make_one_hot_encoding(data_col, \"AC\")\n",
    "data_col = make_one_hot_encoding(data_col, \"QUALIFIED\")\n",
    "data_col = make_one_hot_encoding(data_col, \"SOURCE\")\n",
    "data_col = make_one_hot_encoding(data_col, \"ZIPCODE\")\n",
    "data_col = make_one_hot_encoding(data_col, \"ASSESSMENT_NBHD\")\n",
    "data_col = make_one_hot_encoding(data_col, \"CENSUS_TRACT\")\n",
    "data_col = make_one_hot_encoding(data_col, \"WARD\")\n",
    "data_col = make_one_hot_encoding(data_col, \"QUADRANT\")"
   ]
  },
  {
   "cell_type": "code",
   "execution_count": 32,
   "metadata": {},
   "outputs": [
    {
     "name": "stdout",
     "output_type": "stream",
     "text": [
      "All Data:\n",
      "Row Count: 98003\n",
      "Col Count: 42\n",
      "\n",
      "--------------------------------------------------\n",
      "\n",
      "Data with dropped columns:\n",
      "Row Count: 98003\n",
      "Col Count: 308\n",
      "\n",
      "--------------------------------------------------\n",
      "\n",
      "Data with dropped rows:\n",
      "Row Count: 49431\n",
      "Col Count: 3646\n"
     ]
    }
   ],
   "source": [
    "missing_values = data.isnull().sum()\n",
    "print(\"All Data:\")\n",
    "print(\"Row Count: \" + str(data.shape[0]))\n",
    "print(\"Col Count: \" + str(data.shape[1]))\n",
    "alues_col = data_col.isnull().sum()\n",
    "print()\n",
    "print(\"--------------------------------------------------\")\n",
    "print()\n",
    "print(\"Data with dropped columns:\")\n",
    "print(\"Row Count: \" + str(data_col.shape[0]))\n",
    "print(\"Col Count: \" + str(data_col.shape[1]))\n",
    "print()\n",
    "print(\"--------------------------------------------------\")\n",
    "print()\n",
    "print(\"Data with dropped rows:\")\n",
    "print(\"Row Count: \" + str(data_row.shape[0]))\n",
    "print(\"Col Count: \" + str(data_row.shape[1]))"
   ]
  },
  {
   "cell_type": "markdown",
   "metadata": {},
   "source": [
    "## split the data (x and y)"
   ]
  },
  {
   "cell_type": "code",
   "execution_count": 33,
   "metadata": {
    "collapsed": true
   },
   "outputs": [],
   "source": [
    "x_row = data_row.drop([\"PRICE\"], axis=1)\n",
    "y_row = data_row[\"PRICE\"]"
   ]
  },
  {
   "cell_type": "code",
   "execution_count": 34,
   "metadata": {
    "collapsed": true
   },
   "outputs": [],
   "source": [
    "x_col = data_col.drop([\"PRICE\"], axis=1)\n",
    "y_col = data_col[\"PRICE\"]"
   ]
  },
  {
   "cell_type": "markdown",
   "metadata": {},
   "source": [
    "## split the data (train and test set)"
   ]
  },
  {
   "cell_type": "code",
   "execution_count": 35,
   "metadata": {
    "collapsed": true
   },
   "outputs": [],
   "source": [
    "split_size_row = round(data_row.shape[0] * 0.7)\n",
    "split_size_col = round(data_col.shape[0] * 0.7)"
   ]
  },
  {
   "cell_type": "code",
   "execution_count": 36,
   "metadata": {
    "collapsed": true
   },
   "outputs": [],
   "source": [
    "x_row_train, x_row_test = np.split(x_row, [split_size_row], axis = 0)\n",
    "y_row_train, y_row_test = np.split(y_row, [split_size_row], axis = 0)"
   ]
  },
  {
   "cell_type": "code",
   "execution_count": 37,
   "metadata": {
    "collapsed": true
   },
   "outputs": [],
   "source": [
    "x_col_train, x_col_test = np.split(x_col, [split_size_col], axis = 0)\n",
    "y_col_train, y_col_test = np.split(y_col, [split_size_col], axis = 0)"
   ]
  },
  {
   "cell_type": "markdown",
   "metadata": {},
   "source": [
    "# Use Linear Regression"
   ]
  },
  {
   "cell_type": "markdown",
   "metadata": {
    "collapsed": true
   },
   "source": [
    "## train the model"
   ]
  },
  {
   "cell_type": "code",
   "execution_count": 38,
   "metadata": {},
   "outputs": [
    {
     "name": "stdout",
     "output_type": "stream",
     "text": [
      "Start trianing\n",
      "End training\n"
     ]
    }
   ],
   "source": [
    "print(\"Start trianing\")\n",
    "linreg_row = LinearRegression()\n",
    "linreg_row.fit(x_row_train, y_row_train)\n",
    "print(\"End training\")"
   ]
  },
  {
   "cell_type": "code",
   "execution_count": 40,
   "metadata": {},
   "outputs": [
    {
     "name": "stdout",
     "output_type": "stream",
     "text": [
      "Start trianing\n",
      "End training\n"
     ]
    }
   ],
   "source": [
    "print(\"Start trianing\")\n",
    "linreg_col = LinearRegression()\n",
    "linreg_col.fit(x_col_train, y_col_train)\n",
    "print(\"End training\")"
   ]
  },
  {
   "cell_type": "markdown",
   "metadata": {},
   "source": [
    "## predict the test data"
   ]
  },
  {
   "cell_type": "code",
   "execution_count": 41,
   "metadata": {
    "collapsed": true
   },
   "outputs": [],
   "source": [
    "y_row_lin_pred = linreg_row.predict(x_row_test)"
   ]
  },
  {
   "cell_type": "code",
   "execution_count": 42,
   "metadata": {
    "collapsed": true
   },
   "outputs": [],
   "source": [
    "y_col_lin_pred = linreg_col.predict(x_col_test)"
   ]
  },
  {
   "cell_type": "markdown",
   "metadata": {},
   "source": [
    "## analyze results"
   ]
  },
  {
   "cell_type": "code",
   "execution_count": 44,
   "metadata": {},
   "outputs": [
    {
     "name": "stdout",
     "output_type": "stream",
     "text": [
      "R2 score for the row dataset: -138.300189865\n"
     ]
    }
   ],
   "source": [
    "row_lin_score = linreg_row.score(x_row_test, y_row_test)\n",
    "print(\"R2 score for the row dataset: \" + str(row_lin_score))"
   ]
  },
  {
   "cell_type": "code",
   "execution_count": 48,
   "metadata": {
    "scrolled": true
   },
   "outputs": [
    {
     "data": {
      "image/png": "[encoded data removed]",
      "text/plain": [
       "<matplotlib.figure.Figure at 0x1eb858429b0>"
      ]
     },
     "metadata": {},
     "output_type": "display_data"
    }
   ],
   "source": [
    "plt.scatter(y_row_test, y_row_lin_pred)\n",
    "plt.xlabel(\"Prices: $Y_i$\")\n",
    "plt.ylabel(\"Predicted prices: $\\hat{Y}_i$\")\n",
    "plt.title(\"Prices vs Predicted prices: $Y_i$ vs $\\hat{Y}_i$\")\n",
    "plt.show()data:image/png;base64,iVBORw0KGgoAAAANSUhEUgAAAZYAAAEgCAYAAACXa1X+AAAABHNCSVQICAgIfAhkiAAAAAlwSFlz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"
   ]
  },
  {
   "cell_type": "code",
   "execution_count": 45,
   "metadata": {},
   "outputs": [
    {
     "name": "stdout",
     "output_type": "stream",
     "text": [
      "R2 score for the column dataset: -0.0150203172875\n"
     ]
    }
   ],
   "source": [
    "col_lin_score = linreg_col.score(x_col_test, y_col_test)\n",
    "print(\"R2 score for the column dataset: \" + str(col_lin_score))"
   ]
  },
  {
   "cell_type": "code",
   "execution_count": 49,
   "metadata": {},
   "outputs": [
    {
     "data": {
      "image/png": "[encoded data removed]",
      "text/plain": [
       "<matplotlib.figure.Figure at 0x1eb86e8f160>"
      ]
     },
     "metadata": {},
     "output_type": "display_data"
    }
   ],
   "source": [
    "plt.scatter(y_col_test, y_col_lin_pred)\n",
    "plt.xlabel(\"Prices: $Y_i$\")\n",
    "plt.ylabel(\"Predicted prices: $\\hat{Y}_i$\")\n",
    "plt.title(\"Prices vs Predicted prices: $Y_i$ vs $\\hat{Y}_i$\")\n",
    "plt.show()"
   ]
  },
  {
   "cell_type": "markdown",
   "metadata": {},
   "source": [
    "# Use Logistic Regression"
   ]
  },
  {
   "cell_type": "markdown",
   "metadata": {},
   "source": [
    "## train the model"
   ]
  },
  {
   "cell_type": "code",
   "execution_count": null,
   "metadata": {},
   "outputs": [
    {
     "name": "stdout",
     "output_type": "stream",
     "text": [
      "Start training\n"
     ]
    }
   ],
   "source": [
    "print(\"Start training\")\n",
    "logreg_row = LogisticRegression()\n",
    "logreg_row.fit(x_row_train, y_row_train)\n",
    "print(\"Training finished\")"
   ]
  },
  {
   "cell_type": "code",
   "execution_count": null,
   "metadata": {
    "collapsed": true
   },
   "outputs": [],
   "source": [
    "print(\"Start training\")\n",
    "logreg_col = LogisticRegression()\n",
    "logreg_col.fit(x_col_train, y_col_train)\n",
    "print(\"Training finished\")"
   ]
  },
  {
   "cell_type": "markdown",
   "metadata": {},
   "source": [
    "## predict the test data"
   ]
  },
  {
   "cell_type": "code",
   "execution_count": null,
   "metadata": {
    "collapsed": true
   },
   "outputs": [],
   "source": [
    "y_row_log_pred = logreg_row.predict(x_row_test)"
   ]
  },
  {
   "cell_type": "code",
   "execution_count": null,
   "metadata": {
    "collapsed": true
   },
   "outputs": [],
   "source": [
    "y_col_log_pred = logreg_col.predict(x_col_test)"
   ]
  },
  {
   "cell_type": "markdown",
   "metadata": {},
   "source": [
    "## analyze results"
   ]
  },
  {
   "cell_type": "code",
   "execution_count": null,
   "metadata": {
    "collapsed": true
   },
   "outputs": [],
   "source": [
    "row_score = logreg_row.score(x_row_test, y_row_test)\n",
    "print(\"R2 score for the row dataset: \" + str(row_log_score))"
   ]
  },
  {
   "cell_type": "code",
   "execution_count": null,
   "metadata": {},
   "outputs": [],
   "source": [
    "plt.scatter(y_row_test, y_row_log_pred)\n",
    "plt.xlabel(\"Prices: $Y_i$\")\n",
    "plt.ylabel(\"Predicted prices: $\\hat{Y}_i$\")\n",
    "plt.title(\"Prices vs Predicted prices: $Y_i$ vs $\\hat{Y}_i$\")\n",
    "plt.show()"
   ]
  },
  {
   "cell_type": "code",
   "execution_count": null,
   "metadata": {
    "collapsed": true
   },
   "outputs": [],
   "source": [
    "col_score = logreg_col.score(x_col_test, y_col_test)\n",
    "print(\"R2 score for the column dataset: \" + str(col_log_score))"
   ]
  },
  {
   "cell_type": "code",
   "execution_count": null,
   "metadata": {},
   "outputs": [],
   "source": [
    "plt.scatter(y_col_test, y_col_lin_pred)\n",
    "plt.xlabel(\"Prices: $Y_i$\")\n",
    "plt.ylabel(\"Predicted prices: $\\hat{Y}_i$\")\n",
    "plt.title(\"Prices vs Predicted prices: $Y_i$ vs $\\hat{Y}_i$\")\n",
    "plt.show()"
   ]
  }
 ],
 "metadata": {
  "kernelspec": {
   "display_name": "Python 3",
   "language": "python",
   "name": "python3"
  },
  "language_info": {
   "codemirror_mode": {
    "name": "ipython",
    "version": 3
   },
   "file_extension": ".py",
   "mimetype": "text/x-python",
   "name": "python",
   "nbconvert_exporter": "python",
   "pygments_lexer": "ipython3",
   "version": "3.6.3"
  }
 },
 "nbformat": 4,
 "nbformat_minor": 2
}
