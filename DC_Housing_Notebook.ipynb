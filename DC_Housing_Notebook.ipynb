{
 "cells": [
  {
   "cell_type": "markdown",
   "metadata": {},
   "source": [
    "# Imports"
   ]
  },
  {
   "cell_type": "code",
   "execution_count": 1,
   "metadata": {
    "collapsed": true
   },
   "outputs": [],
   "source": [
    "import pandas as pd\n",
    "import numpy as np\n",
    "import sklearn\n",
    "from sklearn.linear_model import LogisticRegression\n",
    "from sklearn.linear_model import LinearRegression\n",
    "from sklearn.metrics import mean_squared_error, r2_score\n",
    "import matplotlib.pyplot as plt"
   ]
  },
  {
   "cell_type": "markdown",
   "metadata": {},
   "source": [
    "# Load Data"
   ]
  },
  {
   "cell_type": "code",
   "execution_count": 2,
   "metadata": {},
   "outputs": [
    {
     "name": "stderr",
     "output_type": "stream",
     "text": [
      "C:\\anaconda3\\lib\\site-packages\\IPython\\core\\interactiveshell.py:2698: DtypeWarning: Columns (18,19,20,21,22,23,24,33,34,35,37,43,45) have mixed types. Specify dtype option on import or set low_memory=False.\n",
      "  interactivity=interactivity, compiler=compiler, result=result)\n"
     ]
    }
   ],
   "source": [
    "data = pd.read_csv('data/DC_Properties.csv')"
   ]
  },
  {
   "cell_type": "markdown",
   "metadata": {},
   "source": [
    "# Data Exploration"
   ]
  },
  {
   "cell_type": "code",
   "execution_count": 3,
   "metadata": {},
   "outputs": [
    {
     "data": {
      "text/plain": [
       "(158957, 49)"
      ]
     },
     "execution_count": 3,
     "metadata": {},
     "output_type": "execute_result"
    }
   ],
   "source": [
    "data.shape # we have 49 columns and 158957 rows"
   ]
  },
  {
   "cell_type": "code",
   "execution_count": 4,
   "metadata": {},
   "outputs": [
    {
     "name": "stdout",
     "output_type": "stream",
     "text": [
      "Row Count: 158957\n",
      "\n",
      "Unnamed: 0                 0\n",
      "BATHRM                     0\n",
      "HF_BATHRM                  0\n",
      "HEAT                       0\n",
      "AC                         0\n",
      "NUM_UNITS              52261\n",
      "ROOMS                      0\n",
      "BEDRM                      0\n",
      "AYB                      271\n",
      "YR_RMDL                78029\n",
      "EYB                        0\n",
      "STORIES                52305\n",
      "SALEDATE               26770\n",
      "PRICE                  60741\n",
      "QUALIFIED                  0\n",
      "SALE_NUM                   0\n",
      "GBA                    52261\n",
      "BLDG_NUM                   0\n",
      "STYLE                  52261\n",
      "STRUCT                 52261\n",
      "GRADE                  52261\n",
      "CNDTN                  52261\n",
      "EXTWALL                52261\n",
      "ROOF                   52261\n",
      "INTWALL                52261\n",
      "KITCHENS               52262\n",
      "FIREPLACES                 0\n",
      "USECODE                    0\n",
      "LANDAREA                   0\n",
      "GIS_LAST_MOD_DTTM          0\n",
      "SOURCE                     0\n",
      "CMPLX_NUM             106696\n",
      "LIVING_GBA            106696\n",
      "FULLADDRESS            52917\n",
      "CITY                   52906\n",
      "STATE                  52906\n",
      "ZIPCODE                    1\n",
      "NATIONALGRID           52906\n",
      "LATITUDE                   1\n",
      "LONGITUDE                  1\n",
      "ASSESSMENT_NBHD            1\n",
      "ASSESSMENT_SUBNBHD     32551\n",
      "CENSUS_TRACT               1\n",
      "CENSUS_BLOCK           52906\n",
      "WARD                       1\n",
      "SQUARE                     0\n",
      "X                        237\n",
      "Y                        237\n",
      "QUADRANT                 237\n",
      "dtype: int64\n"
     ]
    }
   ],
   "source": [
    "missing_values = data.isnull().sum()\n",
    "\n",
    "print(\"Row Count: \" + str(data.shape[0]))\n",
    "print()\n",
    "print(missing_values)"
   ]
  },
  {
   "cell_type": "code",
   "execution_count": 5,
   "metadata": {
    "scrolled": true
   },
   "outputs": [
    {
     "data": {
      "text/plain": [
       "(106696, 49)"
      ]
     },
     "execution_count": 5,
     "metadata": {},
     "output_type": "execute_result"
    }
   ],
   "source": [
    "data[data[\"STYLE\"].notnull()].shape # 52.261 rows don't have a value for the \"STYLE\" column"
   ]
  },
  {
   "cell_type": "code",
   "execution_count": 6,
   "metadata": {},
   "outputs": [
    {
     "data": {
      "text/plain": [
       "(106696, 49)"
      ]
     },
     "execution_count": 6,
     "metadata": {},
     "output_type": "execute_result"
    }
   ],
   "source": [
    "data[data[\"STRUCT\"].notnull() | data[\"STYLE\"].notnull() | data[\"GRADE\"].notnull() | data[\"CNDTN\"].notnull() | data[\"EXTWALL\"].notnull() | data[\"ROOF\"].notnull() | data[\"INTWALL\"].notnull()].shape # the same rows don't have a value for: \"STRUCT\", \"GRADE\", \"CNDTN\", \"EXTWALL\", \"ROOF\", \"INTWALL\""
   ]
  },
  {
   "cell_type": "code",
   "execution_count": 7,
   "metadata": {
    "collapsed": true
   },
   "outputs": [],
   "source": [
    "# command copied form data cleaning\n",
    "data_dropped_rows = data[data[\"STRUCT\"].notnull() | data[\"STYLE\"].notnull() | data[\"GRADE\"].notnull() | data[\"CNDTN\"].notnull() | data[\"EXTWALL\"].notnull() | data[\"ROOF\"].notnull() | data[\"INTWALL\"].notnull()]"
   ]
  },
  {
   "cell_type": "code",
   "execution_count": 8,
   "metadata": {},
   "outputs": [
    {
     "name": "stdout",
     "output_type": "stream",
     "text": [
      "Row Count: 106696\n",
      "\n",
      "Unnamed: 0                 0\n",
      "BATHRM                     0\n",
      "HF_BATHRM                  0\n",
      "HEAT                       0\n",
      "AC                         0\n",
      "NUM_UNITS                  0\n",
      "ROOMS                      0\n",
      "BEDRM                      0\n",
      "AYB                      241\n",
      "YR_RMDL                57417\n",
      "EYB                        0\n",
      "STORIES                   44\n",
      "SALEDATE               22513\n",
      "PRICE                  48796\n",
      "QUALIFIED                  0\n",
      "SALE_NUM                   0\n",
      "GBA                        0\n",
      "BLDG_NUM                   0\n",
      "STYLE                      0\n",
      "STRUCT                     0\n",
      "GRADE                      0\n",
      "CNDTN                      0\n",
      "EXTWALL                    0\n",
      "ROOF                       0\n",
      "INTWALL                    0\n",
      "KITCHENS                   1\n",
      "FIREPLACES                 0\n",
      "USECODE                    0\n",
      "LANDAREA                   0\n",
      "GIS_LAST_MOD_DTTM          0\n",
      "SOURCE                     0\n",
      "CMPLX_NUM             106696\n",
      "LIVING_GBA            106696\n",
      "FULLADDRESS              656\n",
      "CITY                     645\n",
      "STATE                    645\n",
      "ZIPCODE                    1\n",
      "NATIONALGRID             645\n",
      "LATITUDE                   1\n",
      "LONGITUDE                  1\n",
      "ASSESSMENT_NBHD            1\n",
      "ASSESSMENT_SUBNBHD     15536\n",
      "CENSUS_TRACT               1\n",
      "CENSUS_BLOCK             645\n",
      "WARD                       1\n",
      "SQUARE                     0\n",
      "X                        237\n",
      "Y                        237\n",
      "QUADRANT                 237\n",
      "dtype: int64\n"
     ]
    }
   ],
   "source": [
    "missing_values = data_dropped_rows.isnull().sum()\n",
    "\n",
    "print(\"Row Count: \" + str(data_dropped_rows.shape[0]))\n",
    "print()\n",
    "print(missing_values)"
   ]
  },
  {
   "cell_type": "markdown",
   "metadata": {},
   "source": [
    "1) no row has a value for the cmplx_num and the living_gba => useless\n",
    "2) there are many missing values for the sale_date and the yr_rmdl => maybe they aren't missing, it could be the case, that these houses were never remodeled and/ or sold before, in the following we will probably handle them this way."
   ]
  },
  {
   "cell_type": "markdown",
   "metadata": {},
   "source": [
    "There is a column called \"Unnamed: 0\", lets see what's in there."
   ]
  },
  {
   "cell_type": "code",
   "execution_count": 9,
   "metadata": {},
   "outputs": [
    {
     "data": {
      "text/plain": [
       "0              0\n",
       "1              1\n",
       "2              2\n",
       "3              3\n",
       "4              4\n",
       "5              5\n",
       "6              6\n",
       "7              7\n",
       "8              8\n",
       "9              9\n",
       "10            10\n",
       "11            11\n",
       "12            12\n",
       "13            13\n",
       "14            14\n",
       "15            15\n",
       "16            16\n",
       "17            17\n",
       "18            18\n",
       "19            19\n",
       "20            20\n",
       "21            21\n",
       "22            22\n",
       "23            23\n",
       "24            24\n",
       "25            25\n",
       "26            26\n",
       "27            27\n",
       "28            28\n",
       "29            29\n",
       "           ...  \n",
       "158927    158927\n",
       "158928    158928\n",
       "158929    158929\n",
       "158930    158930\n",
       "158931    158931\n",
       "158932    158932\n",
       "158933    158933\n",
       "158934    158934\n",
       "158935    158935\n",
       "158936    158936\n",
       "158937    158937\n",
       "158938    158938\n",
       "158939    158939\n",
       "158940    158940\n",
       "158941    158941\n",
       "158942    158942\n",
       "158943    158943\n",
       "158944    158944\n",
       "158945    158945\n",
       "158946    158946\n",
       "158947    158947\n",
       "158948    158948\n",
       "158949    158949\n",
       "158950    158950\n",
       "158951    158951\n",
       "158952    158952\n",
       "158953    158953\n",
       "158954    158954\n",
       "158955    158955\n",
       "158956    158956\n",
       "Name: Unnamed: 0, Length: 158957, dtype: int64"
      ]
     },
     "execution_count": 9,
     "metadata": {},
     "output_type": "execute_result"
    }
   ],
   "source": [
    "data[\"Unnamed: 0\"]"
   ]
  },
  {
   "cell_type": "markdown",
   "metadata": {},
   "source": [
    "It's just the same as the index (probably the unique id column)."
   ]
  },
  {
   "cell_type": "code",
   "execution_count": 10,
   "metadata": {},
   "outputs": [
    {
     "data": {
      "text/plain": [
       "array(['DC', nan], dtype=object)"
      ]
     },
     "execution_count": 10,
     "metadata": {},
     "output_type": "execute_result"
    }
   ],
   "source": [
    "data[\"STATE\"].unique() "
   ]
  },
  {
   "cell_type": "code",
   "execution_count": 11,
   "metadata": {},
   "outputs": [
    {
     "data": {
      "text/plain": [
       "array(['WASHINGTON', nan], dtype=object)"
      ]
     },
     "execution_count": 11,
     "metadata": {},
     "output_type": "execute_result"
    }
   ],
   "source": [
    "data[\"CITY\"].unique()"
   ]
  },
  {
   "cell_type": "markdown",
   "metadata": {},
   "source": [
    "Since our dataset is only about Washington DC these columns habe no use."
   ]
  },
  {
   "cell_type": "code",
   "execution_count": 12,
   "metadata": {
    "scrolled": true
   },
   "outputs": [
    {
     "data": {
      "text/plain": [
       "array([ 20009.,  20037.,  20036.,  20005.,  20052.,  20008.,  20001.,\n",
       "        20024.,  20006.,  20003.,  20002.,  20007.,  20016.,  20015.,\n",
       "        20011.,  20010.,  20012.,  20017.,  20018.,  20019.,  20020.,\n",
       "        20032.,     nan,  20392.,  20004.])"
      ]
     },
     "execution_count": 12,
     "metadata": {},
     "output_type": "execute_result"
    }
   ],
   "source": [
    "data[\"ZIPCODE\"].unique()"
   ]
  },
  {
   "cell_type": "markdown",
   "metadata": {},
   "source": [
    "The ZIPCODE on the otherside contains some value"
   ]
  },
  {
   "cell_type": "code",
   "execution_count": 13,
   "metadata": {},
   "outputs": [
    {
     "data": {
      "text/plain": [
       "array(['1748 SWANN STREET NW', '1746 SWANN STREET NW',\n",
       "       '1744 SWANN STREET NW', ..., '131 JOLIET STREET SW',\n",
       "       '135 JOLIET STREET SW', '139 JOLIET STREET SW'], dtype=object)"
      ]
     },
     "execution_count": 13,
     "metadata": {},
     "output_type": "execute_result"
    }
   ],
   "source": [
    "data[\"FULLADDRESS\"].unique()"
   ]
  },
  {
   "cell_type": "code",
   "execution_count": 14,
   "metadata": {},
   "outputs": [
    {
     "data": {
      "text/plain": [
       "(105979,)"
      ]
     },
     "execution_count": 14,
     "metadata": {},
     "output_type": "execute_result"
    }
   ],
   "source": [
    "data[\"FULLADDRESS\"].unique().shape"
   ]
  },
  {
   "cell_type": "code",
   "execution_count": 15,
   "metadata": {},
   "outputs": [
    {
     "data": {
      "text/plain": [
       "106040"
      ]
     },
     "execution_count": 15,
     "metadata": {},
     "output_type": "execute_result"
    }
   ],
   "source": [
    "data.shape[0] - data[\"FULLADDRESS\"].isnull().sum()"
   ]
  },
  {
   "cell_type": "markdown",
   "metadata": {},
   "source": [
    "The column \"FULLADDRESS\" has only unique text values, the computer can't process them. Either you split them up (street and house number or just leave them out because the streetnames aren't that useful either)"
   ]
  },
  {
   "cell_type": "code",
   "execution_count": 16,
   "metadata": {},
   "outputs": [
    {
     "data": {
      "text/plain": [
       "array(['18S UJ 23061 09289', '18S UJ 23067 09289', '18S UJ 23074 09289',\n",
       "       ..., '18S UH 25815 98879', '18S UH 25807 98865',\n",
       "       '18S UH 25804 98859'], dtype=object)"
      ]
     },
     "execution_count": 16,
     "metadata": {},
     "output_type": "execute_result"
    }
   ],
   "source": [
    "data[\"NATIONALGRID\"].unique()"
   ]
  },
  {
   "cell_type": "code",
   "execution_count": 17,
   "metadata": {},
   "outputs": [
    {
     "data": {
      "text/plain": [
       "(105950,)"
      ]
     },
     "execution_count": 17,
     "metadata": {},
     "output_type": "execute_result"
    }
   ],
   "source": [
    "data[\"NATIONALGRID\"].unique().shape"
   ]
  },
  {
   "cell_type": "code",
   "execution_count": 18,
   "metadata": {},
   "outputs": [
    {
     "data": {
      "text/plain": [
       "106051"
      ]
     },
     "execution_count": 18,
     "metadata": {},
     "output_type": "execute_result"
    }
   ],
   "source": [
    "data.shape[0] - data[\"NATIONALGRID\"].isnull().sum()"
   ]
  },
  {
   "cell_type": "markdown",
   "metadata": {},
   "source": [
    "The column \"NATIONALGRID\" has the same problem, as the one above."
   ]
  },
  {
   "cell_type": "code",
   "execution_count": 19,
   "metadata": {},
   "outputs": [
    {
     "data": {
      "text/plain": [
       "<bound method Series.unique of 0         2018-07-22 18:01:43\n",
       "1         2018-07-22 18:01:43\n",
       "2         2018-07-22 18:01:43\n",
       "3         2018-07-22 18:01:43\n",
       "4         2018-07-22 18:01:43\n",
       "5         2018-07-22 18:01:43\n",
       "6         2018-07-22 18:01:43\n",
       "7         2018-07-22 18:01:43\n",
       "8         2018-07-22 18:01:43\n",
       "9         2018-07-22 18:01:43\n",
       "10        2018-07-22 18:01:43\n",
       "11        2018-07-22 18:01:43\n",
       "12        2018-07-22 18:01:43\n",
       "13        2018-07-22 18:01:43\n",
       "14        2018-07-22 18:01:43\n",
       "15        2018-07-22 18:01:43\n",
       "16        2018-07-22 18:01:43\n",
       "17        2018-07-22 18:01:43\n",
       "18        2018-07-22 18:01:43\n",
       "19        2018-07-22 18:01:43\n",
       "20        2018-07-22 18:01:43\n",
       "21        2018-07-22 18:01:43\n",
       "22        2018-07-22 18:01:43\n",
       "23        2018-07-22 18:01:43\n",
       "24        2018-07-22 18:01:43\n",
       "25        2018-07-22 18:01:43\n",
       "26        2018-07-22 18:01:43\n",
       "27        2018-07-22 18:01:43\n",
       "28        2018-07-22 18:01:43\n",
       "29        2018-07-22 18:01:43\n",
       "                 ...         \n",
       "158927    2018-07-22 18:01:38\n",
       "158928    2018-07-22 18:01:38\n",
       "158929    2018-07-22 18:01:38\n",
       "158930    2018-07-22 18:01:38\n",
       "158931    2018-07-22 18:01:38\n",
       "158932    2018-07-22 18:01:38\n",
       "158933    2018-07-22 18:01:38\n",
       "158934    2018-07-22 18:01:38\n",
       "158935    2018-07-22 18:01:38\n",
       "158936    2018-07-22 18:01:38\n",
       "158937    2018-07-22 18:01:38\n",
       "158938    2018-07-22 18:01:38\n",
       "158939    2018-07-22 18:01:38\n",
       "158940    2018-07-22 18:01:38\n",
       "158941    2018-07-22 18:01:38\n",
       "158942    2018-07-22 18:01:38\n",
       "158943    2018-07-22 18:01:38\n",
       "158944    2018-07-22 18:01:38\n",
       "158945    2018-07-22 18:01:38\n",
       "158946    2018-07-22 18:01:38\n",
       "158947    2018-07-22 18:01:38\n",
       "158948    2018-07-22 18:01:38\n",
       "158949    2018-07-22 18:01:38\n",
       "158950    2018-07-22 18:01:38\n",
       "158951    2018-07-22 18:01:38\n",
       "158952    2018-07-22 18:01:38\n",
       "158953    2018-07-22 18:01:38\n",
       "158954    2018-07-22 18:01:38\n",
       "158955    2018-07-22 18:01:38\n",
       "158956    2018-07-22 18:01:38\n",
       "Name: GIS_LAST_MOD_DTTM, Length: 158957, dtype: object>"
      ]
     },
     "execution_count": 19,
     "metadata": {},
     "output_type": "execute_result"
    }
   ],
   "source": [
    "data[\"GIS_LAST_MOD_DTTM\"].unique"
   ]
  },
  {
   "cell_type": "markdown",
   "metadata": {},
   "source": [
    "This row says when the row of the dataset was last modified, it's useless for us."
   ]
  },
  {
   "cell_type": "code",
   "execution_count": 20,
   "metadata": {},
   "outputs": [
    {
     "data": {
      "text/plain": [
       "<bound method Series.unique of 0         2003-11-25 00:00:00\n",
       "1         2000-08-17 00:00:00\n",
       "2         2016-06-21 00:00:00\n",
       "3         2006-07-12 00:00:00\n",
       "4                         NaN\n",
       "5         2010-02-26 00:00:00\n",
       "6         2011-05-02 00:00:00\n",
       "7         2011-09-29 00:00:00\n",
       "8         2018-05-03 00:00:00\n",
       "9         2008-12-05 00:00:00\n",
       "10                        NaN\n",
       "11        2009-03-12 00:00:00\n",
       "12                        NaN\n",
       "13                        NaN\n",
       "14        2011-09-30 00:00:00\n",
       "15                        NaN\n",
       "16        2010-11-04 00:00:00\n",
       "17        2008-05-08 00:00:00\n",
       "18        2016-08-18 00:00:00\n",
       "19        2001-07-23 00:00:00\n",
       "20        2016-01-12 00:00:00\n",
       "21        2014-04-30 00:00:00\n",
       "22        2006-01-09 00:00:00\n",
       "23        2012-08-21 00:00:00\n",
       "24        2012-07-25 00:00:00\n",
       "25        1996-04-02 00:00:00\n",
       "26                        NaN\n",
       "27        2005-04-06 00:00:00\n",
       "28        2015-02-06 00:00:00\n",
       "29        2013-12-11 00:00:00\n",
       "                 ...         \n",
       "158927    2015-10-07 00:00:00\n",
       "158928    2017-05-24 00:00:00\n",
       "158929    2012-12-19 00:00:00\n",
       "158930    2007-06-25 00:00:00\n",
       "158931    2005-07-06 00:00:00\n",
       "158932    2014-07-09 00:00:00\n",
       "158933    2017-01-12 00:00:00\n",
       "158934    2017-02-23 00:00:00\n",
       "158935    2016-12-28 00:00:00\n",
       "158936    2016-12-28 00:00:00\n",
       "158937                    NaN\n",
       "158938    2015-03-02 00:00:00\n",
       "158939    2016-09-30 00:00:00\n",
       "158940    2008-06-04 00:00:00\n",
       "158941                    NaN\n",
       "158942                    NaN\n",
       "158943    2004-11-08 00:00:00\n",
       "158944    2016-07-19 00:00:00\n",
       "158945    2006-07-13 00:00:00\n",
       "158946    2015-02-11 00:00:00\n",
       "158947    2008-06-30 00:00:00\n",
       "158948    2012-10-22 00:00:00\n",
       "158949    2015-06-09 00:00:00\n",
       "158950    2015-12-24 00:00:00\n",
       "158951    2009-11-12 00:00:00\n",
       "158952    2015-04-03 00:00:00\n",
       "158953    2013-10-04 00:00:00\n",
       "158954    2008-09-30 00:00:00\n",
       "158955    2015-04-14 00:00:00\n",
       "158956    2002-07-22 00:00:00\n",
       "Name: SALEDATE, Length: 158957, dtype: object>"
      ]
     },
     "execution_count": 20,
     "metadata": {},
     "output_type": "execute_result"
    }
   ],
   "source": [
    "data[\"SALEDATE\"].unique"
   ]
  },
  {
   "cell_type": "markdown",
   "metadata": {},
   "source": [
    "This row contains the date, the building was sold. The way it is saved is not good to compute, we will convert it later."
   ]
  },
  {
   "cell_type": "markdown",
   "metadata": {},
   "source": [
    "# Data Cleaning"
   ]
  },
  {
   "cell_type": "markdown",
   "metadata": {},
   "source": [
    "## remove rows with missing values"
   ]
  },
  {
   "cell_type": "code",
   "execution_count": 21,
   "metadata": {
    "collapsed": true
   },
   "outputs": [],
   "source": [
    "# this command will throw away ~33% of the data (maybe we will keep the data and do two seperate tests, one where we will throw away the rows where the data is missing and one where we will throw away these columns)\n",
    "# data = data[data[\"STRUCT\"].notnull() | data[\"STYLE\"].notnull() | data[\"GRADE\"].notnull() | data[\"CNDTN\"].notnull() | data[\"EXTWALL\"].notnull() | data[\"ROOF\"].notnull() | data[\"INTWALL\"].notnull()]\n",
    "\n",
    "# since our many concern is the price of the building, rows without the price have only a small to none value\n",
    "data = data[data[\"PRICE\"].notnull()]\n",
    "\n",
    "# in these very few rows (~200) there are values missing\n",
    "data = data[data[\"X\"].notnull() & data[\"Y\"].notnull() & data[\"QUADRANT\"].notnull() & data[\"AYB\"].notnull() & data[\"WARD\"].notnull() & data[\"ASSESSMENT_NBHD\"].notnull() & data[\"CENSUS_TRACT\"].notnull() & data[\"LONGITUDE\"].notnull() & data[\"LATITUDE\"].notnull() & data[\"ZIPCODE\"].notnull()] "
   ]
  },
  {
   "cell_type": "markdown",
   "metadata": {},
   "source": [
    "## drop columns"
   ]
  },
  {
   "cell_type": "code",
   "execution_count": 22,
   "metadata": {
    "collapsed": true,
    "scrolled": true
   },
   "outputs": [],
   "source": [
    "# this column has only one value \"2018-07-22 18:01:43\" => useless\n",
    "data = data.drop([\"GIS_LAST_MOD_DTTM\"], axis=1)\n",
    "# since the unique id is equal to the row number we don't need it\n",
    "data = data.drop([\"Unnamed: 0\"], axis=1)\n",
    "# many many missing values\n",
    "data = data.drop([\"LIVING_GBA\", \"CMPLX_NUM\"], axis=1)\n",
    "# these columns have nothing to say\n",
    "data = data.drop([\"STATE\", \"CITY\"], axis=1)\n",
    "# these columns contain only unique texts which can't be computed\n",
    "data = data.drop([\"NATIONALGRID\", \"FULLADDRESS\"], axis=1)"
   ]
  },
  {
   "cell_type": "markdown",
   "metadata": {},
   "source": [
    "## data insertion"
   ]
  },
  {
   "cell_type": "code",
   "execution_count": 23,
   "metadata": {
    "collapsed": true
   },
   "outputs": [],
   "source": [
    "# set the missing sale date to the year it was build\n",
    "data[\"SALEDATE\"] = np.where(data[\"SALEDATE\"].isnull(), data[\"AYB\"], data[\"SALEDATE\"])\n",
    "\n",
    "# add a column wich says wether a building was remodeled and insert missing values in to the YR_RMDL column\n",
    "data[\"WAS_REMODELED\"] = np.where(data[\"YR_RMDL\"].isnull(), 0, 1)\n",
    "data[\"YR_RMDL\"] = np.where(data[\"YR_RMDL\"].isnull(), -1, data[\"YR_RMDL\"])"
   ]
  },
  {
   "cell_type": "markdown",
   "metadata": {},
   "source": [
    "## data convertion"
   ]
  },
  {
   "cell_type": "code",
   "execution_count": 24,
   "metadata": {
    "collapsed": true
   },
   "outputs": [],
   "source": [
    "# To-Do convert SALEDATE to timestamp"
   ]
  },
  {
   "cell_type": "markdown",
   "metadata": {},
   "source": [
    "## final results"
   ]
  },
  {
   "cell_type": "code",
   "execution_count": 25,
   "metadata": {
    "scrolled": false
   },
   "outputs": [
    {
     "name": "stdout",
     "output_type": "stream",
     "text": [
      "All Data:\n",
      "Row Count: 98003\n",
      "Col Count: 42\n",
      "\n",
      "BATHRM                    0\n",
      "HF_BATHRM                 0\n",
      "HEAT                      0\n",
      "AC                        0\n",
      "NUM_UNITS             40299\n",
      "ROOMS                     0\n",
      "BEDRM                     0\n",
      "AYB                       0\n",
      "YR_RMDL                   0\n",
      "EYB                       0\n",
      "STORIES               40332\n",
      "SALEDATE                  0\n",
      "PRICE                     0\n",
      "QUALIFIED                 0\n",
      "SALE_NUM                  0\n",
      "GBA                   40299\n",
      "BLDG_NUM                  0\n",
      "STYLE                 40299\n",
      "STRUCT                40299\n",
      "GRADE                 40299\n",
      "CNDTN                 40299\n",
      "EXTWALL               40299\n",
      "ROOF                  40299\n",
      "INTWALL               40299\n",
      "KITCHENS              40300\n",
      "FIREPLACES                0\n",
      "USECODE                   0\n",
      "LANDAREA                  0\n",
      "SOURCE                    0\n",
      "ZIPCODE                   0\n",
      "LATITUDE                  0\n",
      "LONGITUDE                 0\n",
      "ASSESSMENT_NBHD           0\n",
      "ASSESSMENT_SUBNBHD    20207\n",
      "CENSUS_TRACT              0\n",
      "CENSUS_BLOCK          40625\n",
      "WARD                      0\n",
      "SQUARE                    0\n",
      "X                         0\n",
      "Y                         0\n",
      "QUADRANT                  0\n",
      "WAS_REMODELED             0\n",
      "dtype: int64\n",
      "\n",
      "--------------------------------------------------\n",
      "\n",
      "Data with dropped columns:\n",
      "Row Count: 98003\n",
      "Col Count: 29\n",
      "\n",
      "BATHRM             0\n",
      "HF_BATHRM          0\n",
      "HEAT               0\n",
      "AC                 0\n",
      "ROOMS              0\n",
      "BEDRM              0\n",
      "AYB                0\n",
      "YR_RMDL            0\n",
      "EYB                0\n",
      "SALEDATE           0\n",
      "PRICE              0\n",
      "QUALIFIED          0\n",
      "SALE_NUM           0\n",
      "BLDG_NUM           0\n",
      "FIREPLACES         0\n",
      "USECODE            0\n",
      "LANDAREA           0\n",
      "SOURCE             0\n",
      "ZIPCODE            0\n",
      "LATITUDE           0\n",
      "LONGITUDE          0\n",
      "ASSESSMENT_NBHD    0\n",
      "CENSUS_TRACT       0\n",
      "WARD               0\n",
      "SQUARE             0\n",
      "X                  0\n",
      "Y                  0\n",
      "QUADRANT           0\n",
      "WAS_REMODELED      0\n",
      "dtype: int64\n",
      "\n",
      "--------------------------------------------------\n",
      "\n",
      "Data with dropped rows:\n",
      "Row Count: 49431\n",
      "Col Count: 42\n",
      "\n",
      "BATHRM                0\n",
      "HF_BATHRM             0\n",
      "HEAT                  0\n",
      "AC                    0\n",
      "NUM_UNITS             0\n",
      "ROOMS                 0\n",
      "BEDRM                 0\n",
      "AYB                   0\n",
      "YR_RMDL               0\n",
      "EYB                   0\n",
      "STORIES               0\n",
      "SALEDATE              0\n",
      "PRICE                 0\n",
      "QUALIFIED             0\n",
      "SALE_NUM              0\n",
      "GBA                   0\n",
      "BLDG_NUM              0\n",
      "STYLE                 0\n",
      "STRUCT                0\n",
      "GRADE                 0\n",
      "CNDTN                 0\n",
      "EXTWALL               0\n",
      "ROOF                  0\n",
      "INTWALL               0\n",
      "KITCHENS              0\n",
      "FIREPLACES            0\n",
      "USECODE               0\n",
      "LANDAREA              0\n",
      "SOURCE                0\n",
      "ZIPCODE               0\n",
      "LATITUDE              0\n",
      "LONGITUDE             0\n",
      "ASSESSMENT_NBHD       0\n",
      "ASSESSMENT_SUBNBHD    0\n",
      "CENSUS_TRACT          0\n",
      "CENSUS_BLOCK          0\n",
      "WARD                  0\n",
      "SQUARE                0\n",
      "X                     0\n",
      "Y                     0\n",
      "QUADRANT              0\n",
      "WAS_REMODELED         0\n",
      "dtype: int64\n"
     ]
    }
   ],
   "source": [
    "missing_values = data.isnull().sum()\n",
    "print(\"All Data:\")\n",
    "print(\"Row Count: \" + str(data.shape[0]))\n",
    "print(\"Col Count: \" + str(data.shape[1]))\n",
    "print()\n",
    "print(missing_values)\n",
    "\n",
    "data_col = data.drop([\"NUM_UNITS\", \"STORIES\", \"GBA\", \"STYLE\", \"STRUCT\", \"GRADE\", \"CNDTN\", \"EXTWALL\", \"ROOF\", \"INTWALL\", \"KITCHENS\", \"ASSESSMENT_SUBNBHD\", \"CENSUS_BLOCK\"], axis=1)\n",
    "missing_values_col = data_col.isnull().sum()\n",
    "print()\n",
    "print(\"--------------------------------------------------\")\n",
    "print()\n",
    "print(\"Data with dropped columns:\")\n",
    "print(\"Row Count: \" + str(data_col.shape[0]))\n",
    "print(\"Col Count: \" + str(data_col.shape[1]))\n",
    "print()\n",
    "print(missing_values_col)\n",
    "\n",
    "data_row = data[data[\"STRUCT\"].notnull() & data[\"STYLE\"].notnull() & data[\"GRADE\"].notnull() & data[\"CNDTN\"].notnull() & data[\"EXTWALL\"].notnull() & data[\"ROOF\"].notnull() & data[\"INTWALL\"].notnull()  & data[\"STORIES\"].notnull() & data[\"KITCHENS\"].notnull() & data[\"ASSESSMENT_SUBNBHD\"].notnull()  & data[\"CENSUS_BLOCK\"].notnull()]\n",
    "missing_values_row = data_row.isnull().sum()\n",
    "print()\n",
    "print(\"--------------------------------------------------\")\n",
    "print()\n",
    "print(\"Data with dropped rows:\")\n",
    "print(\"Row Count: \" + str(data_row.shape[0]))\n",
    "print(\"Col Count: \" + str(data_row.shape[1]))\n",
    "print()\n",
    "print(missing_values_row)\n",
    "\n"
   ]
  },
  {
   "cell_type": "markdown",
   "metadata": {},
   "source": [
    "# Data Preparation"
   ]
  },
  {
   "cell_type": "markdown",
   "metadata": {},
   "source": [
    "## subsample (for faster development -> remove (comment out) later)"
   ]
  },
  {
   "cell_type": "code",
   "execution_count": null,
   "metadata": {
    "collapsed": true
   },
   "outputs": [],
   "source": []
  },
  {
   "cell_type": "markdown",
   "metadata": {},
   "source": [
    "## One Hot Encoding (needed for the nn)"
   ]
  },
  {
   "cell_type": "code",
   "execution_count": null,
   "metadata": {
    "collapsed": true
   },
   "outputs": [],
   "source": []
  },
  {
   "cell_type": "code",
   "execution_count": 26,
   "metadata": {
    "collapsed": true
   },
   "outputs": [],
   "source": [
    "# weil ich gerade zu dumm bin, schmeiße ich vorläufig das SALEDATE raus"
   ]
  },
  {
   "cell_type": "code",
   "execution_count": 27,
   "metadata": {
    "collapsed": true
   },
   "outputs": [],
   "source": [
    "data_row = data_row.drop([\"SALEDATE\"], axis=1)\n",
    "data_col = data_col.drop([\"SALEDATE\"], axis=1)"
   ]
  },
  {
   "cell_type": "code",
   "execution_count": null,
   "metadata": {
    "collapsed": true
   },
   "outputs": [],
   "source": []
  },
  {
   "cell_type": "code",
   "execution_count": 28,
   "metadata": {
    "collapsed": true
   },
   "outputs": [],
   "source": [
    "def make_one_hot_encoding(data, column):\n",
    "    dummies = pd.get_dummies(data[column], prefix = column)\n",
    "    data = pd.concat([data, dummies], axis=1)\n",
    "    data = data.drop([column], axis=1)\n",
    "    return data"
   ]
  },
  {
   "cell_type": "code",
   "execution_count": 29,
   "metadata": {
    "collapsed": true
   },
   "outputs": [],
   "source": [
    "data_row_one_hot = data_row\n",
    "data_col_one_hot = data_col"
   ]
  },
  {
   "cell_type": "code",
   "execution_count": 30,
   "metadata": {
    "collapsed": true
   },
   "outputs": [],
   "source": [
    "data_row_one_hot = make_one_hot_encoding(data_row, \"HEAT\")\n",
    "data_row_one_hot = make_one_hot_encoding(data_row, \"AC\")\n",
    "data_row_one_hot = make_one_hot_encoding(data_row, \"QUALIFIED\")\n",
    "data_row_one_hot = make_one_hot_encoding(data_row, \"STYLE\")\n",
    "data_row_one_hot = make_one_hot_encoding(data_row, \"STRUCT\")\n",
    "data_row_one_hot = make_one_hot_encoding(data_row, \"GRADE\")\n",
    "data_row_one_hot = make_one_hot_encoding(data_row, \"CNDTN\")\n",
    "data_row_one_hot = make_one_hot_encoding(data_row, \"EXTWALL\")\n",
    "data_row_one_hot = make_one_hot_encoding(data_row, \"INTWALL\")\n",
    "data_row_one_hot = make_one_hot_encoding(data_row, \"ROOF\")\n",
    "data_row_one_hot = make_one_hot_encoding(data_row, \"SOURCE\")\n",
    "data_row_one_hot = make_one_hot_encoding(data_row, \"ZIPCODE\")\n",
    "data_row_one_hot = make_one_hot_encoding(data_row, \"ASSESSMENT_NBHD\")\n",
    "data_row_one_hot = make_one_hot_encoding(data_row, \"ASSESSMENT_SUBNBHD\")\n",
    "data_row_one_hot = make_one_hot_encoding(data_row, \"CENSUS_TRACT\")\n",
    "data_row_one_hot = make_one_hot_encoding(data_row, \"CENSUS_BLOCK\")\n",
    "data_row_one_hot = make_one_hot_encoding(data_row, \"WARD\")\n",
    "data_row_one_hot = make_one_hot_encoding(data_row, \"QUADRANT\")\n",
    "data_row_one_hot = make_one_hot_encoding(data_row, \"WAS_REMODELED\")"
   ]
  },
  {
   "cell_type": "code",
   "execution_count": 31,
   "metadata": {
    "collapsed": true
   },
   "outputs": [],
   "source": [
    "data_col_one_hot = make_one_hot_encoding(data_col, \"HEAT\")\n",
    "data_col_one_hot = make_one_hot_encoding(data_col, \"AC\")\n",
    "data_col_one_hot = make_one_hot_encoding(data_col, \"QUALIFIED\")\n",
    "data_col_one_hot = make_one_hot_encoding(data_col, \"SOURCE\")\n",
    "data_col_one_hot = make_one_hot_encoding(data_col, \"ZIPCODE\")\n",
    "data_col_one_hot = make_one_hot_encoding(data_col, \"ASSESSMENT_NBHD\")\n",
    "data_col_one_hot = make_one_hot_encoding(data_col, \"CENSUS_TRACT\")\n",
    "data_col_one_hot = make_one_hot_encoding(data_col, \"WARD\")\n",
    "data_col_one_hot = make_one_hot_encoding(data_col, \"QUADRANT\")\n",
    "data_col_one_hot = make_one_hot_encoding(data_col, \"WAS_REMODELED\")"
   ]
  },
  {
   "cell_type": "markdown",
   "metadata": {},
   "source": [
    "## remove categorical data (needed for regression analysis)"
   ]
  },
  {
   "cell_type": "code",
   "execution_count": 32,
   "metadata": {
    "collapsed": true
   },
   "outputs": [],
   "source": [
    "data_row_no_cat = data_row\n",
    "data_col_no_cat = data_col"
   ]
  },
  {
   "cell_type": "code",
   "execution_count": 33,
   "metadata": {
    "collapsed": true
   },
   "outputs": [],
   "source": [
    "data_row_no_cat = data_row_no_cat.drop([\"HEAT\", \"AC\", \"QUALIFIED\", \"STYLE\", \"STRUCT\", \"GRADE\", \"CNDTN\", \"EXTWALL\", \"INTWALL\", \"ROOF\", \"SOURCE\", \"ZIPCODE\", \"ASSESSMENT_NBHD\", \"ASSESSMENT_SUBNBHD\", \"CENSUS_TRACT\", \"CENSUS_BLOCK\", \"WARD\", \"QUADRANT\", \"WAS_REMODELED\"], axis=1)\n",
    "data_col_no_cat = data_col_no_cat.drop([\"HEAT\", \"AC\", \"QUALIFIED\", \"SOURCE\", \"ZIPCODE\", \"ASSESSMENT_NBHD\", \"CENSUS_TRACT\", \"WARD\", \"QUADRANT\", \"WAS_REMODELED\"], axis=1)"
   ]
  },
  {
   "cell_type": "markdown",
   "metadata": {},
   "source": [
    "## split the data (x and y)"
   ]
  },
  {
   "cell_type": "code",
   "execution_count": 34,
   "metadata": {
    "collapsed": true
   },
   "outputs": [],
   "source": [
    "x_row = data_row.drop([\"PRICE\"], axis=1)\n",
    "x_row_one_hot = data_row_one_hot.drop([\"PRICE\"], axis=1)\n",
    "x_row_no_cat = data_row_no_cat.drop([\"PRICE\"], axis=1)\n",
    "y_row = data_row[\"PRICE\"]"
   ]
  },
  {
   "cell_type": "code",
   "execution_count": 42,
   "metadata": {
    "collapsed": true
   },
   "outputs": [],
   "source": [
    "x_col = data_col.drop([\"PRICE\"], axis=1)\n",
    "x_col_one_hot = data_col_one_hot.drop([\"PRICE\"], axis=1)\n",
    "x_col_no_cat = data_col_no_cat.drop([\"PRICE\"], axis=1)\n",
    "y_col = data_col[\"PRICE\"]"
   ]
  },
  {
   "cell_type": "markdown",
   "metadata": {},
   "source": [
    "## split the data (train and test set)"
   ]
  },
  {
   "cell_type": "code",
   "execution_count": 36,
   "metadata": {
    "collapsed": true
   },
   "outputs": [],
   "source": [
    "split_size_row = round(data_row.shape[0] * 0.7)\n",
    "split_size_col = round(data_col.shape[0] * 0.7)"
   ]
  },
  {
   "cell_type": "code",
   "execution_count": 39,
   "metadata": {
    "collapsed": true
   },
   "outputs": [],
   "source": [
    "x_row_train, x_row_test = np.split(x_row, [split_size_row], axis = 0)\n",
    "x_row_one_hot_train, x_row_one_hot_test = np.split(x_row_one_hot, [split_size_row], axis = 0)\n",
    "x_row_no_cat_train, x_row_no_cat_test = np.split(x_row_no_cat, [split_size_row], axis = 0)\n",
    "y_row_train, y_row_test = np.split(y_row, [split_size_row], axis = 0)"
   ]
  },
  {
   "cell_type": "code",
   "execution_count": 45,
   "metadata": {},
   "outputs": [],
   "source": [
    "x_col_train, x_col_test = np.split(x_col, [split_size_col], axis = 0)\n",
    "x_col_one_hot_train, x_col_one_hot_test = np.split(x_col_one_hot, [split_size_col], axis = 0)\n",
    "x_col_no_cat_train, x_col_no_cat_test = np.split(x_col_no_cat, [split_size_col], axis = 0)\n",
    "y_col_train, y_col_test = np.split(y_col, [split_size_col], axis = 0)"
   ]
  },
  {
   "cell_type": "markdown",
   "metadata": {},
   "source": [
    "# Use Linear Regression"
   ]
  },
  {
   "cell_type": "markdown",
   "metadata": {
    "collapsed": true
   },
   "source": [
    "## train the model"
   ]
  },
  {
   "cell_type": "code",
   "execution_count": 46,
   "metadata": {},
   "outputs": [
    {
     "name": "stdout",
     "output_type": "stream",
     "text": [
      "Start trianing\n",
      "End training\n"
     ]
    }
   ],
   "source": [
    "print(\"Start trianing\")\n",
    "linreg_row = LinearRegression()\n",
    "linreg_row.fit(x_row_no_cat_train, y_row_train)\n",
    "print(\"End training\")"
   ]
  },
  {
   "cell_type": "code",
   "execution_count": 47,
   "metadata": {},
   "outputs": [
    {
     "name": "stdout",
     "output_type": "stream",
     "text": [
      "Start trianing\n",
      "End training\n"
     ]
    }
   ],
   "source": [
    "print(\"Start trianing\")\n",
    "linreg_col = LinearRegression()\n",
    "linreg_col.fit(x_col_no_cat_train, y_col_train)\n",
    "print(\"End training\")"
   ]
  },
  {
   "cell_type": "markdown",
   "metadata": {},
   "source": [
    "## predict the test data"
   ]
  },
  {
   "cell_type": "code",
   "execution_count": 48,
   "metadata": {
    "collapsed": true
   },
   "outputs": [],
   "source": [
    "y_row_lin_pred = linreg_row.predict(x_row_no_cat_test)"
   ]
  },
  {
   "cell_type": "code",
   "execution_count": 49,
   "metadata": {
    "collapsed": true
   },
   "outputs": [],
   "source": [
    "y_col_lin_pred = linreg_col.predict(x_col_no_cat_test)"
   ]
  },
  {
   "cell_type": "markdown",
   "metadata": {},
   "source": [
    "## analyze results"
   ]
  },
  {
   "cell_type": "code",
   "execution_count": 52,
   "metadata": {},
   "outputs": [
    {
     "name": "stdout",
     "output_type": "stream",
     "text": [
      "R2 score for the row dataset: -0.523394433898\n"
     ]
    }
   ],
   "source": [
    "row_lin_score = linreg_row.score(x_row_no_cat_test, y_row_test)\n",
    "print(\"R2 score for the row dataset: \" + str(row_lin_score))"
   ]
  },
  {
   "cell_type": "code",
   "execution_count": 53,
   "metadata": {
    "scrolled": true
   },
   "outputs": [
    {
     "data": {
      "image/png": "[encoded data removed]",
      "text/plain": [
       "<matplotlib.figure.Figure at 0x144817cb940>"
      ]
     },
     "metadata": {},
     "output_type": "display_data"
    }
   ],
   "source": [
    "plt.scatter(y_row_test, y_row_lin_pred)\n",
    "plt.xlabel(\"Prices: $Y_i$\")\n",
    "plt.ylabel(\"Predicted prices: $\\hat{Y}_i$\")\n",
    "plt.title(\"Prices vs Predicted prices: $Y_i$ vs $\\hat{Y}_i$\")\n",
    "plt.show()"
   ]
  },
  {
   "cell_type": "code",
   "execution_count": 54,
   "metadata": {},
   "outputs": [
    {
     "name": "stdout",
     "output_type": "stream",
     "text": [
      "R2 score for the column dataset: -0.0204717033403\n"
     ]
    }
   ],
   "source": [
    "col_lin_score = linreg_col.score(x_col_no_cat_test, y_col_test)\n",
    "print(\"R2 score for the column dataset: \" + str(col_lin_score))"
   ]
  },
  {
   "cell_type": "code",
   "execution_count": null,
   "metadata": {},
   "outputs": [
    {
     "data": {
      "image/png": "[encoded data removed]",
      "text/plain": [
       "<matplotlib.figure.Figure at 0x1448586b898>"
      ]
     },
     "metadata": {},
     "output_type": "display_data"
    }
   ],
   "source": [
    "plt.scatter(y_col_test, y_col_lin_pred)\n",
    "plt.xlabel(\"Prices: $Y_i$\")\n",
    "plt.ylabel(\"Predicted prices: $\\hat{Y}_i$\")\n",
    "plt.title(\"Prices vs Predicted prices: $Y_i$ vs $\\hat{Y}_i$\")\n",
    "plt.show()"
   ]
  },
  {
   "cell_type": "markdown",
   "metadata": {},
   "source": [
    "# Use Logistic Regression"
   ]
  },
  {
   "cell_type": "markdown",
   "metadata": {},
   "source": [
    "## train the model"
   ]
  },
  {
   "cell_type": "code",
   "execution_count": null,
   "metadata": {},
   "outputs": [
    {
     "name": "stdout",
     "output_type": "stream",
     "text": [
      "Start training\n"
     ]
    }
   ],
   "source": [
    "print(\"Start training\")\n",
    "logreg_row = LogisticRegression()\n",
    "logreg_row.fit(x_row_no_cat_train, y_row_train)\n",
    "print(\"Training finished\")"
   ]
  },
  {
   "cell_type": "code",
   "execution_count": null,
   "metadata": {
    "collapsed": true
   },
   "outputs": [],
   "source": [
    "print(\"Start training\")\n",
    "logreg_col = LogisticRegression()\n",
    "logreg_col.fit(x_col_train, y_col_train)\n",
    "print(\"Training finished\")"
   ]
  },
  {
   "cell_type": "markdown",
   "metadata": {},
   "source": [
    "## predict the test data"
   ]
  },
  {
   "cell_type": "code",
   "execution_count": null,
   "metadata": {
    "collapsed": true
   },
   "outputs": [],
   "source": [
    "y_row_log_pred = logreg_row.predict(x_row_no_cat_test)"
   ]
  },
  {
   "cell_type": "code",
   "execution_count": null,
   "metadata": {
    "collapsed": true
   },
   "outputs": [],
   "source": [
    "y_col_log_pred = logreg_col.predict(x_col_no_cat_test)"
   ]
  },
  {
   "cell_type": "markdown",
   "metadata": {},
   "source": [
    "## analyze results"
   ]
  },
  {
   "cell_type": "code",
   "execution_count": null,
   "metadata": {
    "collapsed": true
   },
   "outputs": [],
   "source": [
    "row_score = logreg_row.score(x_row_no_cat_test, y_row_test)\n",
    "print(\"R2 score for the row dataset: \" + str(row_log_score))"
   ]
  },
  {
   "cell_type": "code",
   "execution_count": null,
   "metadata": {
    "collapsed": true
   },
   "outputs": [],
   "source": [
    "plt.scatter(y_row_test, y_row_log_pred)\n",
    "plt.xlabel(\"Prices: $Y_i$\")\n",
    "plt.ylabel(\"Predicted prices: $\\hat{Y}_i$\")\n",
    "plt.title(\"Prices vs Predicted prices: $Y_i$ vs $\\hat{Y}_i$\")\n",
    "plt.show()"
   ]
  },
  {
   "cell_type": "code",
   "execution_count": null,
   "metadata": {
    "collapsed": true
   },
   "outputs": [],
   "source": [
    "col_score = logreg_col.score(x_col_no_cat_test, y_col_test)\n",
    "print(\"R2 score for the column dataset: \" + str(col_log_score))"
   ]
  },
  {
   "cell_type": "code",
   "execution_count": null,
   "metadata": {
    "collapsed": true
   },
   "outputs": [],
   "source": [
    "plt.scatter(y_col_test, y_col_lin_pred)\n",
    "plt.xlabel(\"Prices: $Y_i$\")\n",
    "plt.ylabel(\"Predicted prices: $\\hat{Y}_i$\")\n",
    "plt.title(\"Prices vs Predicted prices: $Y_i$ vs $\\hat{Y}_i$\")\n",
    "plt.show()"
   ]
  }
 ],
 "metadata": {
  "kernelspec": {
   "display_name": "Python 3",
   "language": "python",
   "name": "python3"
  }
 },
 "nbformat": 4,
 "nbformat_minor": 2
}
