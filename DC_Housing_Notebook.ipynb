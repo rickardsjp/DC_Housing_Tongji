{
 "cells": [
  {
   "cell_type": "markdown",
   "metadata": {},
   "source": [
    "# Imports"
   ]
  },
  {
   "cell_type": "code",
   "execution_count": 338,
   "metadata": {},
   "outputs": [],
   "source": [
    "import pandas as pd\n",
    "import numpy as np\n",
    "import sklearn\n",
    "from sklearn.linear_model import LogisticRegression\n",
    "from sklearn.linear_model import LinearRegression\n",
    "from sklearn.metrics import mean_squared_error, r2_score\n",
    "import matplotlib.pyplot as plt\n",
    "from matplotlib.pyplot import figure\n",
    "from sklearn.neighbors import KNeighborsClassifier\n",
    "from sklearn.metrics import classification_report, confusion_matrix  \n",
    "from sklearn.ensemble import RandomForestRegressor\n",
    "from sklearn.model_selection import RandomizedSearchCV\n",
    "import keras\n",
    "from keras.callbacks import ModelCheckpoint\n",
    "from keras.models import Sequential\n",
    "from keras.layers import Dense, Flatten, Lambda, Conv2D, MaxPooling2D, Dropout, BatchNormalization"
   ]
  },
  {
   "cell_type": "markdown",
   "metadata": {},
   "source": [
    "# Load Data"
   ]
  },
  {
   "cell_type": "code",
   "execution_count": 339,
   "metadata": {},
   "outputs": [
    {
     "name": "stderr",
     "output_type": "stream",
     "text": [
      "C:\\anaconda3\\lib\\site-packages\\IPython\\core\\interactiveshell.py:2698: DtypeWarning: Columns (18,19,20,21,22,23,24,33,34,35,37,43,45) have mixed types. Specify dtype option on import or set low_memory=False.\n",
      "  interactivity=interactivity, compiler=compiler, result=result)\n"
     ]
    }
   ],
   "source": [
    "data = pd.read_csv('data/DC_Properties.csv')"
   ]
  },
  {
   "cell_type": "markdown",
   "metadata": {},
   "source": [
    "# Data Exploration"
   ]
  },
  {
   "cell_type": "code",
   "execution_count": 340,
   "metadata": {},
   "outputs": [
    {
     "data": {
      "text/plain": [
       "(158957, 49)"
      ]
     },
     "execution_count": 340,
     "metadata": {},
     "output_type": "execute_result"
    }
   ],
   "source": [
    "data.shape # we have 49 columns and 158957 rows"
   ]
  },
  {
   "cell_type": "code",
   "execution_count": 341,
   "metadata": {},
   "outputs": [
    {
     "name": "stdout",
     "output_type": "stream",
     "text": [
      "Row Count: 158957\n",
      "\n",
      "Unnamed: 0                 0\n",
      "BATHRM                     0\n",
      "HF_BATHRM                  0\n",
      "HEAT                       0\n",
      "AC                         0\n",
      "NUM_UNITS              52261\n",
      "ROOMS                      0\n",
      "BEDRM                      0\n",
      "AYB                      271\n",
      "YR_RMDL                78029\n",
      "EYB                        0\n",
      "STORIES                52305\n",
      "SALEDATE               26770\n",
      "PRICE                  60741\n",
      "QUALIFIED                  0\n",
      "SALE_NUM                   0\n",
      "GBA                    52261\n",
      "BLDG_NUM                   0\n",
      "STYLE                  52261\n",
      "STRUCT                 52261\n",
      "GRADE                  52261\n",
      "CNDTN                  52261\n",
      "EXTWALL                52261\n",
      "ROOF                   52261\n",
      "INTWALL                52261\n",
      "KITCHENS               52262\n",
      "FIREPLACES                 0\n",
      "USECODE                    0\n",
      "LANDAREA                   0\n",
      "GIS_LAST_MOD_DTTM          0\n",
      "SOURCE                     0\n",
      "CMPLX_NUM             106696\n",
      "LIVING_GBA            106696\n",
      "FULLADDRESS            52917\n",
      "CITY                   52906\n",
      "STATE                  52906\n",
      "ZIPCODE                    1\n",
      "NATIONALGRID           52906\n",
      "LATITUDE                   1\n",
      "LONGITUDE                  1\n",
      "ASSESSMENT_NBHD            1\n",
      "ASSESSMENT_SUBNBHD     32551\n",
      "CENSUS_TRACT               1\n",
      "CENSUS_BLOCK           52906\n",
      "WARD                       1\n",
      "SQUARE                     0\n",
      "X                        237\n",
      "Y                        237\n",
      "QUADRANT                 237\n",
      "dtype: int64\n"
     ]
    }
   ],
   "source": [
    "missing_values = data.isnull().sum()\n",
    "\n",
    "print(\"Row Count: \" + str(data.shape[0]))\n",
    "print()\n",
    "print(missing_values)"
   ]
  },
  {
   "cell_type": "code",
   "execution_count": 342,
   "metadata": {
    "scrolled": true
   },
   "outputs": [
    {
     "data": {
      "text/plain": [
       "(106696, 49)"
      ]
     },
     "execution_count": 342,
     "metadata": {},
     "output_type": "execute_result"
    }
   ],
   "source": [
    "data[data[\"STYLE\"].notnull()].shape # 52.261 rows don't have a value for the \"STYLE\" column"
   ]
  },
  {
   "cell_type": "code",
   "execution_count": 343,
   "metadata": {},
   "outputs": [
    {
     "data": {
      "text/plain": [
       "(106696, 49)"
      ]
     },
     "execution_count": 343,
     "metadata": {},
     "output_type": "execute_result"
    }
   ],
   "source": [
    "data[data[\"STRUCT\"].notnull() | data[\"STYLE\"].notnull() | data[\"GRADE\"].notnull() | data[\"CNDTN\"].notnull() | data[\"EXTWALL\"].notnull() | data[\"ROOF\"].notnull() | data[\"INTWALL\"].notnull()].shape # the same rows don't have a value for: \"STRUCT\", \"GRADE\", \"CNDTN\", \"EXTWALL\", \"ROOF\", \"INTWALL\""
   ]
  },
  {
   "cell_type": "code",
   "execution_count": 344,
   "metadata": {
    "collapsed": true
   },
   "outputs": [],
   "source": [
    "# command copied form data cleaning\n",
    "data_dropped_rows = data[data[\"STRUCT\"].notnull() | data[\"STYLE\"].notnull() | data[\"GRADE\"].notnull() | data[\"CNDTN\"].notnull() | data[\"EXTWALL\"].notnull() | data[\"ROOF\"].notnull() | data[\"INTWALL\"].notnull()]"
   ]
  },
  {
   "cell_type": "code",
   "execution_count": 345,
   "metadata": {},
   "outputs": [
    {
     "name": "stdout",
     "output_type": "stream",
     "text": [
      "Row Count: 106696\n",
      "\n",
      "Unnamed: 0                 0\n",
      "BATHRM                     0\n",
      "HF_BATHRM                  0\n",
      "HEAT                       0\n",
      "AC                         0\n",
      "NUM_UNITS                  0\n",
      "ROOMS                      0\n",
      "BEDRM                      0\n",
      "AYB                      241\n",
      "YR_RMDL                57417\n",
      "EYB                        0\n",
      "STORIES                   44\n",
      "SALEDATE               22513\n",
      "PRICE                  48796\n",
      "QUALIFIED                  0\n",
      "SALE_NUM                   0\n",
      "GBA                        0\n",
      "BLDG_NUM                   0\n",
      "STYLE                      0\n",
      "STRUCT                     0\n",
      "GRADE                      0\n",
      "CNDTN                      0\n",
      "EXTWALL                    0\n",
      "ROOF                       0\n",
      "INTWALL                    0\n",
      "KITCHENS                   1\n",
      "FIREPLACES                 0\n",
      "USECODE                    0\n",
      "LANDAREA                   0\n",
      "GIS_LAST_MOD_DTTM          0\n",
      "SOURCE                     0\n",
      "CMPLX_NUM             106696\n",
      "LIVING_GBA            106696\n",
      "FULLADDRESS              656\n",
      "CITY                     645\n",
      "STATE                    645\n",
      "ZIPCODE                    1\n",
      "NATIONALGRID             645\n",
      "LATITUDE                   1\n",
      "LONGITUDE                  1\n",
      "ASSESSMENT_NBHD            1\n",
      "ASSESSMENT_SUBNBHD     15536\n",
      "CENSUS_TRACT               1\n",
      "CENSUS_BLOCK             645\n",
      "WARD                       1\n",
      "SQUARE                     0\n",
      "X                        237\n",
      "Y                        237\n",
      "QUADRANT                 237\n",
      "dtype: int64\n"
     ]
    }
   ],
   "source": [
    "missing_values = data_dropped_rows.isnull().sum()\n",
    "\n",
    "print(\"Row Count: \" + str(data_dropped_rows.shape[0]))\n",
    "print()\n",
    "print(missing_values)"
   ]
  },
  {
   "cell_type": "markdown",
   "metadata": {},
   "source": [
    "1) no row has a value for the cmplx_num and the living_gba => useless\n",
    "2) there are many missing values for the sale_date and the yr_rmdl => maybe they aren't missing, it could be the case, that these houses were never remodeled and/ or sold before, in the following we will probably handle them this way."
   ]
  },
  {
   "cell_type": "markdown",
   "metadata": {},
   "source": [
    "There is a column called \"Unnamed: 0\", lets see what's in there."
   ]
  },
  {
   "cell_type": "code",
   "execution_count": 346,
   "metadata": {},
   "outputs": [
    {
     "data": {
      "text/plain": [
       "0              0\n",
       "1              1\n",
       "2              2\n",
       "3              3\n",
       "4              4\n",
       "5              5\n",
       "6              6\n",
       "7              7\n",
       "8              8\n",
       "9              9\n",
       "10            10\n",
       "11            11\n",
       "12            12\n",
       "13            13\n",
       "14            14\n",
       "15            15\n",
       "16            16\n",
       "17            17\n",
       "18            18\n",
       "19            19\n",
       "20            20\n",
       "21            21\n",
       "22            22\n",
       "23            23\n",
       "24            24\n",
       "25            25\n",
       "26            26\n",
       "27            27\n",
       "28            28\n",
       "29            29\n",
       "           ...  \n",
       "158927    158927\n",
       "158928    158928\n",
       "158929    158929\n",
       "158930    158930\n",
       "158931    158931\n",
       "158932    158932\n",
       "158933    158933\n",
       "158934    158934\n",
       "158935    158935\n",
       "158936    158936\n",
       "158937    158937\n",
       "158938    158938\n",
       "158939    158939\n",
       "158940    158940\n",
       "158941    158941\n",
       "158942    158942\n",
       "158943    158943\n",
       "158944    158944\n",
       "158945    158945\n",
       "158946    158946\n",
       "158947    158947\n",
       "158948    158948\n",
       "158949    158949\n",
       "158950    158950\n",
       "158951    158951\n",
       "158952    158952\n",
       "158953    158953\n",
       "158954    158954\n",
       "158955    158955\n",
       "158956    158956\n",
       "Name: Unnamed: 0, Length: 158957, dtype: int64"
      ]
     },
     "execution_count": 346,
     "metadata": {},
     "output_type": "execute_result"
    }
   ],
   "source": [
    "data[\"Unnamed: 0\"]"
   ]
  },
  {
   "cell_type": "markdown",
   "metadata": {},
   "source": [
    "It's just the same as the index (probably the unique id column)."
   ]
  },
  {
   "cell_type": "code",
   "execution_count": 347,
   "metadata": {},
   "outputs": [
    {
     "data": {
      "text/plain": [
       "array(['DC', nan], dtype=object)"
      ]
     },
     "execution_count": 347,
     "metadata": {},
     "output_type": "execute_result"
    }
   ],
   "source": [
    "data[\"STATE\"].unique() "
   ]
  },
  {
   "cell_type": "code",
   "execution_count": 348,
   "metadata": {},
   "outputs": [
    {
     "data": {
      "text/plain": [
       "array(['WASHINGTON', nan], dtype=object)"
      ]
     },
     "execution_count": 348,
     "metadata": {},
     "output_type": "execute_result"
    }
   ],
   "source": [
    "data[\"CITY\"].unique()"
   ]
  },
  {
   "cell_type": "markdown",
   "metadata": {},
   "source": [
    "Since our dataset is only about Washington DC these columns habe no use."
   ]
  },
  {
   "cell_type": "code",
   "execution_count": 349,
   "metadata": {
    "scrolled": true
   },
   "outputs": [
    {
     "data": {
      "text/plain": [
       "array([ 20009.,  20037.,  20036.,  20005.,  20052.,  20008.,  20001.,\n",
       "        20024.,  20006.,  20003.,  20002.,  20007.,  20016.,  20015.,\n",
       "        20011.,  20010.,  20012.,  20017.,  20018.,  20019.,  20020.,\n",
       "        20032.,     nan,  20392.,  20004.])"
      ]
     },
     "execution_count": 349,
     "metadata": {},
     "output_type": "execute_result"
    }
   ],
   "source": [
    "data[\"ZIPCODE\"].unique()"
   ]
  },
  {
   "cell_type": "markdown",
   "metadata": {},
   "source": [
    "The ZIPCODE on the otherside contains some value"
   ]
  },
  {
   "cell_type": "code",
   "execution_count": 350,
   "metadata": {},
   "outputs": [
    {
     "data": {
      "text/plain": [
       "array(['1748 SWANN STREET NW', '1746 SWANN STREET NW',\n",
       "       '1744 SWANN STREET NW', ..., '131 JOLIET STREET SW',\n",
       "       '135 JOLIET STREET SW', '139 JOLIET STREET SW'], dtype=object)"
      ]
     },
     "execution_count": 350,
     "metadata": {},
     "output_type": "execute_result"
    }
   ],
   "source": [
    "data[\"FULLADDRESS\"].unique()"
   ]
  },
  {
   "cell_type": "code",
   "execution_count": 351,
   "metadata": {},
   "outputs": [
    {
     "data": {
      "text/plain": [
       "(105979,)"
      ]
     },
     "execution_count": 351,
     "metadata": {},
     "output_type": "execute_result"
    }
   ],
   "source": [
    "data[\"FULLADDRESS\"].unique().shape"
   ]
  },
  {
   "cell_type": "code",
   "execution_count": 352,
   "metadata": {},
   "outputs": [
    {
     "data": {
      "text/plain": [
       "106040"
      ]
     },
     "execution_count": 352,
     "metadata": {},
     "output_type": "execute_result"
    }
   ],
   "source": [
    "data.shape[0] - data[\"FULLADDRESS\"].isnull().sum()"
   ]
  },
  {
   "cell_type": "markdown",
   "metadata": {},
   "source": [
    "The column \"FULLADDRESS\" has only unique text values, the computer can't process them. Either you split them up (street and house number or just leave them out because the streetnames aren't that useful either)"
   ]
  },
  {
   "cell_type": "code",
   "execution_count": 353,
   "metadata": {},
   "outputs": [
    {
     "data": {
      "text/plain": [
       "array(['18S UJ 23061 09289', '18S UJ 23067 09289', '18S UJ 23074 09289',\n",
       "       ..., '18S UH 25815 98879', '18S UH 25807 98865',\n",
       "       '18S UH 25804 98859'], dtype=object)"
      ]
     },
     "execution_count": 353,
     "metadata": {},
     "output_type": "execute_result"
    }
   ],
   "source": [
    "data[\"NATIONALGRID\"].unique()"
   ]
  },
  {
   "cell_type": "code",
   "execution_count": 354,
   "metadata": {},
   "outputs": [
    {
     "data": {
      "text/plain": [
       "(105950,)"
      ]
     },
     "execution_count": 354,
     "metadata": {},
     "output_type": "execute_result"
    }
   ],
   "source": [
    "data[\"NATIONALGRID\"].unique().shape"
   ]
  },
  {
   "cell_type": "code",
   "execution_count": 355,
   "metadata": {},
   "outputs": [
    {
     "data": {
      "text/plain": [
       "106051"
      ]
     },
     "execution_count": 355,
     "metadata": {},
     "output_type": "execute_result"
    }
   ],
   "source": [
    "data.shape[0] - data[\"NATIONALGRID\"].isnull().sum()"
   ]
  },
  {
   "cell_type": "markdown",
   "metadata": {},
   "source": [
    "The column \"NATIONALGRID\" has the same problem, as the one above."
   ]
  },
  {
   "cell_type": "code",
   "execution_count": 356,
   "metadata": {},
   "outputs": [
    {
     "data": {
      "text/plain": [
       "array(['2018-07-22 18:01:43', '2018-07-22 18:01:38'], dtype=object)"
      ]
     },
     "execution_count": 356,
     "metadata": {},
     "output_type": "execute_result"
    }
   ],
   "source": [
    "data[\"GIS_LAST_MOD_DTTM\"].unique()"
   ]
  },
  {
   "cell_type": "markdown",
   "metadata": {},
   "source": [
    "This row says when the row of the dataset was last modified, it's useless for us."
   ]
  },
  {
   "cell_type": "code",
   "execution_count": 357,
   "metadata": {},
   "outputs": [
    {
     "data": {
      "text/plain": [
       "array(['2003-11-25 00:00:00', '2000-08-17 00:00:00', '2016-06-21 00:00:00',\n",
       "       ..., '1995-02-16 00:00:00', '1994-02-14 00:00:00',\n",
       "       '1993-08-06 00:00:00'], dtype=object)"
      ]
     },
     "execution_count": 357,
     "metadata": {},
     "output_type": "execute_result"
    }
   ],
   "source": [
    "data[\"SALEDATE\"].unique()"
   ]
  },
  {
   "cell_type": "markdown",
   "metadata": {},
   "source": [
    "This row contains the date, the building was sold. The way it is saved is not good to compute, we will convert it later."
   ]
  },
  {
   "cell_type": "code",
   "execution_count": 358,
   "metadata": {},
   "outputs": [
    {
     "data": {
      "image/png": "[encoded data removed]",
      "text/plain": [
       "<matplotlib.figure.Figure at 0x18cf97b5c88>"
      ]
     },
     "metadata": {},
     "output_type": "display_data"
    }
   ],
   "source": [
    "figure(num=None, figsize=(8, 6), dpi=80, facecolor='w', edgecolor='k')\n",
    "plt.ticklabel_format(style = 'plain')\n",
    "\n",
    "data.boxplot(column=[\"PRICE\"])\n",
    "plt.show()"
   ]
  },
  {
   "cell_type": "code",
   "execution_count": 359,
   "metadata": {
    "scrolled": false
   },
   "outputs": [
    {
     "data": {
      "text/plain": [
       "132821       1.0\n",
       "148694       1.0\n",
       "152131       1.0\n",
       "81694        1.0\n",
       "106683       1.0\n",
       "18568       10.0\n",
       "74419       10.0\n",
       "81594       10.0\n",
       "51658       10.0\n",
       "48414      250.0\n",
       "14041      250.0\n",
       "55048      250.0\n",
       "102782     250.0\n",
       "43281      250.0\n",
       "7396       250.0\n",
       "42069      250.0\n",
       "50971      250.0\n",
       "49321      250.0\n",
       "93541      250.0\n",
       "94173      250.0\n",
       "54909      250.0\n",
       "49443      250.0\n",
       "84165      250.0\n",
       "49470      500.0\n",
       "60597      500.0\n",
       "5516       500.0\n",
       "54229      500.0\n",
       "3330       936.0\n",
       "153470    1000.0\n",
       "100485    1000.0\n",
       "           ...  \n",
       "158845       NaN\n",
       "158847       NaN\n",
       "158848       NaN\n",
       "158849       NaN\n",
       "158850       NaN\n",
       "158852       NaN\n",
       "158855       NaN\n",
       "158856       NaN\n",
       "158857       NaN\n",
       "158859       NaN\n",
       "158860       NaN\n",
       "158863       NaN\n",
       "158865       NaN\n",
       "158866       NaN\n",
       "158870       NaN\n",
       "158872       NaN\n",
       "158879       NaN\n",
       "158883       NaN\n",
       "158889       NaN\n",
       "158913       NaN\n",
       "158917       NaN\n",
       "158922       NaN\n",
       "158923       NaN\n",
       "158925       NaN\n",
       "158927       NaN\n",
       "158937       NaN\n",
       "158940       NaN\n",
       "158941       NaN\n",
       "158942       NaN\n",
       "158956       NaN\n",
       "Name: PRICE, Length: 158957, dtype: float64"
      ]
     },
     "execution_count": 359,
     "metadata": {},
     "output_type": "execute_result"
    }
   ],
   "source": [
    "data.sort_values(by=\"PRICE\")[\"PRICE\"]"
   ]
  },
  {
   "cell_type": "markdown",
   "metadata": {},
   "source": [
    "The price of some buildings is suspicous, we have some verry verry high prices (140.000.000$) and some realy low prices (1$) "
   ]
  },
  {
   "cell_type": "code",
   "execution_count": 360,
   "metadata": {},
   "outputs": [
    {
     "data": {
      "image/png": "[encoded data removed]",
      "text/plain": [
       "<matplotlib.figure.Figure at 0x18d00d1f4e0>"
      ]
     },
     "metadata": {},
     "output_type": "display_data"
    }
   ],
   "source": [
    "figure(num=None, figsize=(8, 6), dpi=80, facecolor='w', edgecolor='k')\n",
    "plt.ticklabel_format(style = 'plain')\n",
    "\n",
    "data.loc[(data[\"PRICE\"] <= 25000000) & (data[\"PRICE\"] >= 60000)].boxplot(column=[\"PRICE\"])\n",
    "plt.show()"
   ]
  },
  {
   "cell_type": "code",
   "execution_count": 361,
   "metadata": {},
   "outputs": [
    {
     "data": {
      "text/plain": [
       "array(['Y', 'N', '0'], dtype=object)"
      ]
     },
     "execution_count": 361,
     "metadata": {},
     "output_type": "execute_result"
    }
   ],
   "source": [
    "data[\"AC\"].unique()"
   ]
  },
  {
   "cell_type": "markdown",
   "metadata": {},
   "source": [
    "A zero in there is strange value it stands for NULL, therefore we should replace it with NULL instead of 0."
   ]
  },
  {
   "cell_type": "code",
   "execution_count": 362,
   "metadata": {},
   "outputs": [
    {
     "data": {
      "text/plain": [
       "array([1, 2, 3, 4, 5], dtype=int64)"
      ]
     },
     "execution_count": 362,
     "metadata": {},
     "output_type": "execute_result"
    }
   ],
   "source": [
    "data[\"BLDG_NUM\"].unique()"
   ]
  },
  {
   "cell_type": "markdown",
   "metadata": {},
   "source": [
    "We haven't found anything about this column in the documentation and since it has only two possible values, it seems kind of useless."
   ]
  },
  {
   "cell_type": "markdown",
   "metadata": {},
   "source": [
    "# Data Cleaning"
   ]
  },
  {
   "cell_type": "markdown",
   "metadata": {},
   "source": [
    "## remove rows with missing values"
   ]
  },
  {
   "cell_type": "code",
   "execution_count": 363,
   "metadata": {},
   "outputs": [],
   "source": [
    "# this command will throw away ~33% of the data (maybe we will keep the data and do two seperate tests, one where we will throw away the rows where the data is missing and one where we will throw away these columns)\n",
    "# data = data[data[\"STRUCT\"].notnull() | data[\"STYLE\"].notnull() | data[\"GRADE\"].notnull() | data[\"CNDTN\"].notnull() | data[\"EXTWALL\"].notnull() | data[\"ROOF\"].notnull() | data[\"INTWALL\"].notnull()]\n",
    "\n",
    "# since our many concern is the price of the building, rows without the price have only a small to none value\n",
    "data = data[data[\"PRICE\"].notnull()]\n",
    "\n",
    "# remove rows with strange prices\n",
    "data = data.loc[(data[\"PRICE\"] <= 25000000) & (data[\"PRICE\"] >= 60000)]\n",
    "\n",
    "# in these very few rows (~200) there are values missing\n",
    "data = data[data[\"X\"].notnull() & data[\"Y\"].notnull() & data[\"QUADRANT\"].notnull() & data[\"AYB\"].notnull() & data[\"WARD\"].notnull() & data[\"ASSESSMENT_NBHD\"].notnull() & data[\"CENSUS_TRACT\"].notnull() & data[\"LONGITUDE\"].notnull() & data[\"LATITUDE\"].notnull() & data[\"ZIPCODE\"].notnull()]\n",
    "data = data[data.ROOMS != 0]\n",
    "data = data[data.AC != \"0\"]"
   ]
  },
  {
   "cell_type": "markdown",
   "metadata": {},
   "source": [
    "## drop columns"
   ]
  },
  {
   "cell_type": "code",
   "execution_count": 364,
   "metadata": {
    "collapsed": true,
    "scrolled": true
   },
   "outputs": [],
   "source": [
    "# this column has only one value \"2018-07-22 18:01:43\" => useless\n",
    "data = data.drop([\"GIS_LAST_MOD_DTTM\"], axis=1)\n",
    "# since the unique id is equal to the row number we don't need it\n",
    "data = data.drop([\"Unnamed: 0\"], axis=1)\n",
    "# many many missing values\n",
    "data = data.drop([\"LIVING_GBA\", \"CMPLX_NUM\"], axis=1)\n",
    "# these columns have nothing to say\n",
    "data = data.drop([\"STATE\", \"CITY\", \"SOURCE\", \"BLDG_NUM\"], axis=1)\n",
    "# these columns contain only unique texts which can't be computed\n",
    "data = data.drop([\"NATIONALGRID\", \"FULLADDRESS\"], axis=1)\n",
    "# in our other notebook we proved that there is a realy high (< 0.999) correlation between x, y and longitude and latititude because in both show the longitude and latitdude of a building\n",
    "data = data.drop([\"X\", \"Y\"], axis=1)\n",
    "# this column has way to many unique values => makes the onehot encoded data really big. It correlates strongly with the other location information \n",
    "data = data.drop([\"CENSUS_BLOCK\"], axis=1)"
   ]
  },
  {
   "cell_type": "markdown",
   "metadata": {},
   "source": [
    "## data insertion"
   ]
  },
  {
   "cell_type": "code",
   "execution_count": 365,
   "metadata": {
    "collapsed": true
   },
   "outputs": [],
   "source": [
    "# set the missing sale date to the year it was build\n",
    "data[\"SALEDATE\"] = np.where(data[\"SALEDATE\"].isnull(), data[\"AYB\"], data[\"SALEDATE\"])\n",
    "\n",
    "# add a column wich says wether a building was remodeled and insert missing values in to the YR_RMDL column\n",
    "data[\"WAS_REMODELED\"] = np.where(data[\"YR_RMDL\"].isnull(), 0, 1)\n",
    "data[\"YR_RMDL\"] = np.where(data[\"YR_RMDL\"].isnull(), -1, data[\"YR_RMDL\"])"
   ]
  },
  {
   "cell_type": "markdown",
   "metadata": {},
   "source": [
    "## data convertion"
   ]
  },
  {
   "cell_type": "code",
   "execution_count": 366,
   "metadata": {},
   "outputs": [],
   "source": [
    "#convert saledate to datetime\n",
    "data['SALEDATE'] = pd.to_datetime(data['SALEDATE'])\n",
    "#Calculating the difference in years between Last Sale Date and Year Built\n",
    "data['SalevYB']=data['SALEDATE'].dt.year - data['AYB']\n",
    "#Calculating the difference in years between Last Sale Date and Year Improved\n",
    "data['SalevYI']=data['SALEDATE'].dt.year - data['EYB']\n",
    "\n",
    "data = data.drop([\"SALEDATE\", \"EYB\", \"AYB\"], axis=1)"
   ]
  },
  {
   "cell_type": "markdown",
   "metadata": {},
   "source": [
    "## final results"
   ]
  },
  {
   "cell_type": "code",
   "execution_count": 367,
   "metadata": {
    "scrolled": true
   },
   "outputs": [
    {
     "name": "stdout",
     "output_type": "stream",
     "text": [
      "All Data:\n",
      "Row Count: 95797\n",
      "Col Count: 36\n",
      "\n",
      "BATHRM                    0\n",
      "HF_BATHRM                 0\n",
      "HEAT                      0\n",
      "AC                        0\n",
      "NUM_UNITS             38884\n",
      "ROOMS                     0\n",
      "BEDRM                     0\n",
      "YR_RMDL                   0\n",
      "STORIES               38916\n",
      "PRICE                     0\n",
      "QUALIFIED                 0\n",
      "SALE_NUM                  0\n",
      "GBA                   38884\n",
      "STYLE                 38884\n",
      "STRUCT                38884\n",
      "GRADE                 38884\n",
      "CNDTN                 38884\n",
      "EXTWALL               38884\n",
      "ROOF                  38884\n",
      "INTWALL               38884\n",
      "KITCHENS              38885\n",
      "FIREPLACES                0\n",
      "USECODE                   0\n",
      "LANDAREA                  0\n",
      "ZIPCODE                   0\n",
      "LATITUDE                  0\n",
      "LONGITUDE                 0\n",
      "ASSESSMENT_NBHD           0\n",
      "ASSESSMENT_SUBNBHD    19591\n",
      "CENSUS_TRACT              0\n",
      "WARD                      0\n",
      "SQUARE                    0\n",
      "QUADRANT                  0\n",
      "WAS_REMODELED             0\n",
      "SalevYB                   0\n",
      "SalevYI                   0\n",
      "dtype: int64\n",
      "\n",
      "--------------------------------------------------\n",
      "\n",
      "Data with dropped columns:\n",
      "Row Count: 95797\n",
      "Col Count: 24\n",
      "\n",
      "BATHRM             0\n",
      "HF_BATHRM          0\n",
      "HEAT               0\n",
      "AC                 0\n",
      "ROOMS              0\n",
      "BEDRM              0\n",
      "YR_RMDL            0\n",
      "PRICE              0\n",
      "QUALIFIED          0\n",
      "SALE_NUM           0\n",
      "FIREPLACES         0\n",
      "USECODE            0\n",
      "LANDAREA           0\n",
      "ZIPCODE            0\n",
      "LATITUDE           0\n",
      "LONGITUDE          0\n",
      "ASSESSMENT_NBHD    0\n",
      "CENSUS_TRACT       0\n",
      "WARD               0\n",
      "SQUARE             0\n",
      "QUADRANT           0\n",
      "WAS_REMODELED      0\n",
      "SalevYB            0\n",
      "SalevYI            0\n",
      "dtype: int64\n",
      "\n",
      "--------------------------------------------------\n",
      "\n",
      "Data with dropped rows:\n",
      "Row Count: 48971\n",
      "Col Count: 36\n",
      "\n",
      "BATHRM                0\n",
      "HF_BATHRM             0\n",
      "HEAT                  0\n",
      "AC                    0\n",
      "NUM_UNITS             0\n",
      "ROOMS                 0\n",
      "BEDRM                 0\n",
      "YR_RMDL               0\n",
      "STORIES               0\n",
      "PRICE                 0\n",
      "QUALIFIED             0\n",
      "SALE_NUM              0\n",
      "GBA                   0\n",
      "STYLE                 0\n",
      "STRUCT                0\n",
      "GRADE                 0\n",
      "CNDTN                 0\n",
      "EXTWALL               0\n",
      "ROOF                  0\n",
      "INTWALL               0\n",
      "KITCHENS              0\n",
      "FIREPLACES            0\n",
      "USECODE               0\n",
      "LANDAREA              0\n",
      "ZIPCODE               0\n",
      "LATITUDE              0\n",
      "LONGITUDE             0\n",
      "ASSESSMENT_NBHD       0\n",
      "ASSESSMENT_SUBNBHD    0\n",
      "CENSUS_TRACT          0\n",
      "WARD                  0\n",
      "SQUARE                0\n",
      "QUADRANT              0\n",
      "WAS_REMODELED         0\n",
      "SalevYB               0\n",
      "SalevYI               0\n",
      "dtype: int64\n"
     ]
    }
   ],
   "source": [
    "missing_values = data.isnull().sum()\n",
    "print(\"All Data:\")\n",
    "print(\"Row Count: \" + str(data.shape[0]))\n",
    "print(\"Col Count: \" + str(data.shape[1]))\n",
    "print()\n",
    "print(missing_values)\n",
    "\n",
    "data_col = data.drop([\"NUM_UNITS\", \"STORIES\", \"GBA\", \"STYLE\", \"STRUCT\", \"GRADE\", \"CNDTN\", \"EXTWALL\", \"ROOF\", \"INTWALL\", \"KITCHENS\", \"ASSESSMENT_SUBNBHD\"], axis=1)\n",
    "missing_values_col = data_col.isnull().sum()\n",
    "print()\n",
    "print(\"--------------------------------------------------\")\n",
    "print()\n",
    "print(\"Data with dropped columns:\")\n",
    "print(\"Row Count: \" + str(data_col.shape[0]))\n",
    "print(\"Col Count: \" + str(data_col.shape[1]))\n",
    "print()\n",
    "print(missing_values_col)\n",
    "\n",
    "data_row = data[data[\"STRUCT\"].notnull() & data[\"STYLE\"].notnull() & data[\"GRADE\"].notnull() & data[\"CNDTN\"].notnull() & data[\"EXTWALL\"].notnull() & data[\"ROOF\"].notnull() & data[\"INTWALL\"].notnull()  & data[\"STORIES\"].notnull() & data[\"KITCHENS\"].notnull() & data[\"ASSESSMENT_SUBNBHD\"].notnull()]\n",
    "missing_values_row = data_row.isnull().sum()\n",
    "print()\n",
    "print(\"--------------------------------------------------\")\n",
    "print()\n",
    "print(\"Data with dropped rows:\")\n",
    "print(\"Row Count: \" + str(data_row.shape[0]))\n",
    "print(\"Col Count: \" + str(data_row.shape[1]))\n",
    "print()\n",
    "print(missing_values_row)"
   ]
  },
  {
   "cell_type": "markdown",
   "metadata": {},
   "source": [
    "## save to csv"
   ]
  },
  {
   "cell_type": "code",
   "execution_count": 368,
   "metadata": {
    "collapsed": true
   },
   "outputs": [],
   "source": [
    "data_row.to_csv(\"data/data_cleaned_row.csv\", index=False)\n",
    "data_col.to_csv(\"data/data_cleaned_col.csv\", index=False)"
   ]
  },
  {
   "cell_type": "markdown",
   "metadata": {},
   "source": [
    "# Data Preparation"
   ]
  },
  {
   "cell_type": "markdown",
   "metadata": {},
   "source": [
    "## subsample (for faster development -> remove (comment out) later)"
   ]
  },
  {
   "cell_type": "code",
   "execution_count": null,
   "metadata": {
    "collapsed": true
   },
   "outputs": [],
   "source": []
  },
  {
   "cell_type": "markdown",
   "metadata": {},
   "source": [
    "## One Hot Encoding"
   ]
  },
  {
   "cell_type": "code",
   "execution_count": 369,
   "metadata": {},
   "outputs": [
    {
     "name": "stdout",
     "output_type": "stream",
     "text": [
      "HEAT: 14\n",
      "\n",
      "AC: 2\n",
      "\n",
      "QUALIFIED: 2\n",
      "\n",
      "STYLE: 17\n",
      "\n",
      "STRUCT: 8\n",
      "\n",
      "GRADE: 12\n",
      "\n",
      "CNDTN: 7\n",
      "\n",
      "EXTWALL: 23\n",
      "\n",
      "INTWALL: 12\n",
      "\n",
      "ROOF: 15\n",
      "\n",
      "ZIPCODE: 19\n",
      "\n",
      "ASSESSMENT_NBHD: 33\n",
      "\n",
      "ASSESSMENT_SUBNBHD: 121\n",
      "\n",
      "CENSUS_TRACT: 152\n",
      "\n",
      "WARD: 8\n",
      "\n",
      "QUADRANT: 4\n",
      "\n",
      "WAS_REMODELED: 2\n",
      "\n"
     ]
    }
   ],
   "source": [
    "data_row_one_hot = pd.get_dummies(data_row, prefix = [\"HEAT\", \"AC\", \"QUALIFIED\", \"STYLE\", \"STRUCT\", \"GRADE\", \"CNDTN\", \"EXTWALL\", \"INTWALL\", \"ROOF\", \"ZIPCODE\", \"ASSESSMENT_NBHD\", \"ASSESSMENT_SUBNBHD\", \"CENSUS_TRACT\", \"WARD\", \"QUADRANT\", \"WAS_REMODELED\"], columns = [\"HEAT\", \"AC\", \"QUALIFIED\", \"STYLE\", \"STRUCT\", \"GRADE\", \"CNDTN\", \"EXTWALL\", \"INTWALL\", \"ROOF\", \"ZIPCODE\", \"ASSESSMENT_NBHD\", \"ASSESSMENT_SUBNBHD\", \"CENSUS_TRACT\", \"WARD\", \"QUADRANT\", \"WAS_REMODELED\"])\n",
    "data_col_one_hot = pd.get_dummies(data_col, prefix = [\"HEAT\", \"AC\", \"QUALIFIED\", \"ZIPCODE\", \"ASSESSMENT_NBHD\", \"CENSUS_TRACT\", \"WARD\", \"QUADRANT\", \"WAS_REMODELED\"], columns = [\"HEAT\", \"AC\", \"QUALIFIED\", \"ZIPCODE\", \"ASSESSMENT_NBHD\", \"CENSUS_TRACT\", \"WARD\", \"QUADRANT\", \"WAS_REMODELED\"])\n",
    "\n",
    "for i in [\"HEAT\", \"AC\", \"QUALIFIED\", \"STYLE\", \"STRUCT\", \"GRADE\", \"CNDTN\", \"EXTWALL\", \"INTWALL\", \"ROOF\", \"ZIPCODE\", \"ASSESSMENT_NBHD\", \"ASSESSMENT_SUBNBHD\", \"CENSUS_TRACT\", \"WARD\", \"QUADRANT\", \"WAS_REMODELED\"]:\n",
    "    print(str(i) + \": \" + str(data_row[i].unique().shape[0]))\n",
    "    print()"
   ]
  },
  {
   "cell_type": "code",
   "execution_count": null,
   "metadata": {
    "collapsed": true
   },
   "outputs": [],
   "source": []
  },
  {
   "cell_type": "markdown",
   "metadata": {},
   "source": [
    "## remove categorical data (needed for regression analysis)"
   ]
  },
  {
   "cell_type": "code",
   "execution_count": 370,
   "metadata": {
    "collapsed": true
   },
   "outputs": [],
   "source": [
    "data_row_no_cat = data_row.copy()\n",
    "data_col_no_cat = data_col.copy()"
   ]
  },
  {
   "cell_type": "code",
   "execution_count": 371,
   "metadata": {},
   "outputs": [],
   "source": [
    "data_row_no_cat = data_row_no_cat.drop([\"HEAT\", \"AC\", \"QUALIFIED\", \"STYLE\", \"STRUCT\", \"GRADE\", \"CNDTN\", \"EXTWALL\", \"INTWALL\", \"ROOF\", \"ZIPCODE\", \"ASSESSMENT_NBHD\", \"ASSESSMENT_SUBNBHD\", \"CENSUS_TRACT\", \"WARD\", \"QUADRANT\", \"WAS_REMODELED\"], axis=1)\n",
    "data_col_no_cat = data_col_no_cat.drop([\"HEAT\", \"AC\", \"QUALIFIED\", \"ZIPCODE\", \"ASSESSMENT_NBHD\", \"CENSUS_TRACT\", \"WARD\", \"QUADRANT\", \"WAS_REMODELED\"], axis=1)"
   ]
  },
  {
   "cell_type": "markdown",
   "metadata": {},
   "source": [
    "## split the data (x and y)"
   ]
  },
  {
   "cell_type": "code",
   "execution_count": 372,
   "metadata": {
    "collapsed": true
   },
   "outputs": [],
   "source": [
    "x_row = data_row.drop([\"PRICE\"], axis=1)\n",
    "x_row_one_hot = data_row_one_hot.drop([\"PRICE\"], axis=1)\n",
    "x_row_no_cat = data_row_no_cat.drop([\"PRICE\"], axis=1)\n",
    "y_row = data_row[\"PRICE\"]"
   ]
  },
  {
   "cell_type": "code",
   "execution_count": 373,
   "metadata": {
    "collapsed": true
   },
   "outputs": [],
   "source": [
    "x_col = data_col.drop([\"PRICE\"], axis=1)\n",
    "x_col_one_hot = data_col_one_hot.drop([\"PRICE\"], axis=1)\n",
    "x_col_no_cat = data_col_no_cat.drop([\"PRICE\"], axis=1)\n",
    "y_col = data_col[\"PRICE\"]"
   ]
  },
  {
   "cell_type": "markdown",
   "metadata": {},
   "source": [
    "## normalization"
   ]
  },
  {
   "cell_type": "code",
   "execution_count": 374,
   "metadata": {},
   "outputs": [],
   "source": [
    "x_row_one_hot_norm = x_row_one_hot.copy()\n",
    "x_row_one_hot_norm = x_row_one_hot_norm.astype(float)\n",
    "x_row_one_hot_norm = x_row_one_hot_norm.apply(lambda x: (x - x.min()) / (x.max()-x.min()), axis=0)"
   ]
  },
  {
   "cell_type": "code",
   "execution_count": 375,
   "metadata": {
    "collapsed": true
   },
   "outputs": [],
   "source": [
    "x_col_one_hot_norm = x_col_one_hot.copy()\n",
    "x_col_one_hot_norm = x_col_one_hot_norm.astype(float)\n",
    "x_col_one_hot_norm = x_col_one_hot_norm.apply(lambda x: (x - x.min()) / (x.max()-x.min()), axis=0)"
   ]
  },
  {
   "cell_type": "markdown",
   "metadata": {},
   "source": [
    "## split the data (train and test set)"
   ]
  },
  {
   "cell_type": "code",
   "execution_count": 376,
   "metadata": {
    "collapsed": true
   },
   "outputs": [],
   "source": [
    "split_size_row = round(data_row.shape[0] * 0.7)\n",
    "split_size_col = round(data_col.shape[0] * 0.7)"
   ]
  },
  {
   "cell_type": "code",
   "execution_count": 377,
   "metadata": {
    "collapsed": true
   },
   "outputs": [],
   "source": [
    "x_row_train, x_row_test = np.split(x_row, [split_size_row], axis = 0)\n",
    "x_row_one_hot_train, x_row_one_hot_test = np.split(x_row_one_hot, [split_size_row], axis = 0)\n",
    "x_row_no_cat_train, x_row_no_cat_test = np.split(x_row_no_cat, [split_size_row], axis = 0)\n",
    "x_row_one_hot_norm_train, x_row_one_hot_norm_test = np.split(x_row_one_hot_norm, [split_size_row], axis = 0)\n",
    "y_row_train, y_row_test = np.split(y_row, [split_size_row], axis = 0)"
   ]
  },
  {
   "cell_type": "code",
   "execution_count": 378,
   "metadata": {},
   "outputs": [],
   "source": [
    "x_col_train, x_col_test = np.split(x_col, [split_size_col], axis = 0)\n",
    "x_col_one_hot_train, x_col_one_hot_test = np.split(x_col_one_hot, [split_size_col], axis = 0)\n",
    "x_col_no_cat_train, x_col_no_cat_test = np.split(x_col_no_cat, [split_size_col], axis = 0)\n",
    "x_col_one_hot_norm_train, x_col_one_hot_norm_test = np.split(x_col_one_hot_norm, [split_size_col], axis = 0)\n",
    "y_col_train, y_col_test = np.split(y_col, [split_size_col], axis = 0)"
   ]
  },
  {
   "cell_type": "markdown",
   "metadata": {},
   "source": [
    "# Use Linear Regression"
   ]
  },
  {
   "cell_type": "markdown",
   "metadata": {
    "collapsed": true
   },
   "source": [
    "## train the model"
   ]
  },
  {
   "cell_type": "code",
   "execution_count": 379,
   "metadata": {},
   "outputs": [
    {
     "name": "stdout",
     "output_type": "stream",
     "text": [
      "Start trianing\n",
      "End training\n"
     ]
    }
   ],
   "source": [
    "print(\"Start trianing\")\n",
    "linreg_row = LinearRegression(n_jobs = -1, normalize = True)\n",
    "linreg_row.fit(x_row_no_cat_train, y_row_train)\n",
    "print(\"End training\")"
   ]
  },
  {
   "cell_type": "code",
   "execution_count": 380,
   "metadata": {},
   "outputs": [
    {
     "name": "stdout",
     "output_type": "stream",
     "text": [
      "Start trianing\n",
      "End training\n"
     ]
    }
   ],
   "source": [
    "print(\"Start trianing\")\n",
    "linreg_col = LinearRegression(n_jobs = -1, normalize = True)\n",
    "linreg_col.fit(x_col_no_cat_train, y_col_train)\n",
    "print(\"End training\")"
   ]
  },
  {
   "cell_type": "markdown",
   "metadata": {},
   "source": [
    "## predict the test data"
   ]
  },
  {
   "cell_type": "code",
   "execution_count": 381,
   "metadata": {
    "collapsed": true
   },
   "outputs": [],
   "source": [
    "y_row_lin_pred = linreg_row.predict(x_row_no_cat_test)"
   ]
  },
  {
   "cell_type": "code",
   "execution_count": 382,
   "metadata": {
    "collapsed": true
   },
   "outputs": [],
   "source": [
    "y_col_lin_pred = linreg_col.predict(x_col_no_cat_test)"
   ]
  },
  {
   "cell_type": "markdown",
   "metadata": {},
   "source": [
    "## analyze results"
   ]
  },
  {
   "cell_type": "code",
   "execution_count": 383,
   "metadata": {},
   "outputs": [
    {
     "name": "stdout",
     "output_type": "stream",
     "text": [
      "R2 score for the row dataset: -1.70080289765\n",
      "Mean squared error for the row dataset: 122654486435.0\n"
     ]
    }
   ],
   "source": [
    "row_lin_score = linreg_row.score(x_row_no_cat_test, y_row_test)\n",
    "row_lin_msqe = mean_squared_error(y_row_test, y_row_lin_pred)\n",
    "print(\"R2 score for the row dataset: \" + str(row_lin_score))\n",
    "print(\"Mean squared error for the row dataset: \" + str(row_lin_msqe))"
   ]
  },
  {
   "cell_type": "code",
   "execution_count": 384,
   "metadata": {
    "scrolled": true
   },
   "outputs": [
    {
     "data": {
      "image/png": "[encoded data removed]",
      "text/plain": [
       "<matplotlib.figure.Figure at 0x18c4a1efa20>"
      ]
     },
     "metadata": {},
     "output_type": "display_data"
    }
   ],
   "source": [
    "figure(num=None, figsize=(8, 6), dpi=80, facecolor='w', edgecolor='k')\n",
    "plt.ticklabel_format(style = 'plain')\n",
    "\n",
    "plt.scatter(y_row_test, y_row_lin_pred)\n",
    "plt.xlabel(\"Prices: $Y_i$\")\n",
    "plt.ylabel(\"Predicted prices: $\\hat{Y}_i$\")\n",
    "plt.title(\"Prices vs Predicted prices: $Y_i$ vs $\\hat{Y}_i$\")\n",
    "plt.show()"
   ]
  },
  {
   "cell_type": "code",
   "execution_count": 385,
   "metadata": {},
   "outputs": [
    {
     "name": "stdout",
     "output_type": "stream",
     "text": [
      "R2 score for the column dataset: -0.0368255623247\n",
      "Mean squared error for the row dataset: 469444545788.0\n"
     ]
    }
   ],
   "source": [
    "col_lin_score = linreg_col.score(x_col_no_cat_test, y_col_test)\n",
    "col_lin_msqe = mean_squared_error(y_col_test, y_col_lin_pred)\n",
    "print(\"R2 score for the column dataset: \" + str(col_lin_score))\n",
    "print(\"Mean squared error for the row dataset: \" + str(col_lin_msqe))"
   ]
  },
  {
   "cell_type": "code",
   "execution_count": 386,
   "metadata": {},
   "outputs": [
    {
     "data": {
      "image/png": "[encoded data removed]",
      "text/plain": [
       "<matplotlib.figure.Figure at 0x18c652dfd30>"
      ]
     },
     "metadata": {},
     "output_type": "display_data"
    }
   ],
   "source": [
    "figure(num=None, figsize=(8, 6), dpi=80, facecolor='w', edgecolor='k')\n",
    "plt.ticklabel_format(style = 'plain')\n",
    "\n",
    "plt.scatter(y_col_test, y_col_lin_pred)\n",
    "plt.xlabel(\"Prices: $Y_i$\")\n",
    "plt.ylabel(\"Predicted prices: $\\hat{Y}_i$\")\n",
    "plt.title(\"Prices vs Predicted prices: $Y_i$ vs $\\hat{Y}_i$\")\n",
    "plt.show()"
   ]
  },
  {
   "cell_type": "markdown",
   "metadata": {},
   "source": [
    "# Use Logistic Regression (dataset is to complex for my computer to compute this)"
   ]
  },
  {
   "cell_type": "markdown",
   "metadata": {},
   "source": [
    "## train the model"
   ]
  },
  {
   "cell_type": "code",
   "execution_count": 387,
   "metadata": {},
   "outputs": [],
   "source": [
    "# print(\"Start training\")\n",
    "# logreg_row = LogisticRegression(n_jobs = -1, solver = \"sag\", max_iter=100000)\n",
    "# logreg_row.fit(x_row_no_cat_train, y_row_train)\n",
    "# print(\"Training finished\")"
   ]
  },
  {
   "cell_type": "code",
   "execution_count": 388,
   "metadata": {
    "collapsed": true
   },
   "outputs": [],
   "source": [
    "# print(\"Start training\")\n",
    "# logreg_col = LogisticRegression(n_jobs = -1, solver = \"sag\", max_iter=100000, normalize = True)\n",
    "# logreg_col.fit(x_col_train, y_col_train)\n",
    "# print(\"Training finished\")"
   ]
  },
  {
   "cell_type": "markdown",
   "metadata": {},
   "source": [
    "## predict the test data"
   ]
  },
  {
   "cell_type": "code",
   "execution_count": 389,
   "metadata": {
    "collapsed": true
   },
   "outputs": [],
   "source": [
    "# y_row_log_pred = logreg_row.predict(x_row_no_cat_test)"
   ]
  },
  {
   "cell_type": "code",
   "execution_count": 390,
   "metadata": {
    "collapsed": true
   },
   "outputs": [],
   "source": [
    "# y_col_log_pred = logreg_col.predict(x_col_no_cat_test)"
   ]
  },
  {
   "cell_type": "markdown",
   "metadata": {},
   "source": [
    "## analyze results"
   ]
  },
  {
   "cell_type": "code",
   "execution_count": 391,
   "metadata": {
    "collapsed": true
   },
   "outputs": [],
   "source": [
    "# row_log_score = logreg_row.score(x_row_no_cat_test, y_row_test)\n",
    "# print(\"R2 score for the row dataset: \" + str(row_log_score))"
   ]
  },
  {
   "cell_type": "code",
   "execution_count": 392,
   "metadata": {
    "collapsed": true
   },
   "outputs": [],
   "source": [
    "# plt.scatter(y_row_test, y_row_log_pred)\n",
    "# plt.xlabel(\"Prices: $Y_i$\")\n",
    "# plt.ylabel(\"Predicted prices: $\\hat{Y}_i$\")\n",
    "# plt.title(\"Prices vs Predicted prices: $Y_i$ vs $\\hat{Y}_i$\")\n",
    "# plt.show()"
   ]
  },
  {
   "cell_type": "code",
   "execution_count": 393,
   "metadata": {
    "collapsed": true
   },
   "outputs": [],
   "source": [
    "# col_log_score = logreg_col.score(x_col_no_cat_test, y_col_test)\n",
    "# print(\"R2 score for the column dataset: \" + str(col_log_score))"
   ]
  },
  {
   "cell_type": "code",
   "execution_count": 394,
   "metadata": {
    "collapsed": true
   },
   "outputs": [],
   "source": [
    "# plt.scatter(y_col_test, y_col_lin_pred)\n",
    "# plt.xlabel(\"Prices: $Y_i$\")\n",
    "# plt.ylabel(\"Predicted prices: $\\hat{Y}_i$\")\n",
    "# plt.title(\"Prices vs Predicted prices: $Y_i$ vs $\\hat{Y}_i$\")\n",
    "# plt.show()"
   ]
  },
  {
   "cell_type": "markdown",
   "metadata": {},
   "source": [
    "# KNN"
   ]
  },
  {
   "cell_type": "code",
   "execution_count": 395,
   "metadata": {},
   "outputs": [],
   "source": [
    "# # train the model\n",
    "# print(\"Start training\")\n",
    "# knn_row = KNeighborsClassifier(n_neighbors = 2, n_jobs = -1)\n",
    "# knn_row.fit(x_row_one_hot_train, y_row_train)\n",
    "# print(\"Finished training\")\n",
    "\n",
    "# # predict the test data\n",
    "# y_row_knn_pred = knn_row.predict(x_row_one_hot_test)\n",
    "\n",
    "# # output\n",
    "# print(classification_report(y_row_test, y_row_knn_pred))"
   ]
  },
  {
   "cell_type": "code",
   "execution_count": 396,
   "metadata": {},
   "outputs": [],
   "source": [
    "# # train the model\n",
    "# print(\"Start training\")\n",
    "# knn_col = KNeighborsClassifier(n_neighbors = 2, n_jobs = -1)\n",
    "# knn_col.fit(x_col_one_hot_train, y_col_train)\n",
    "# print(\"Finished training\")\n",
    "\n",
    "# # predict the test data\n",
    "# y_col_knn_pred = knn_col.predict(x_col_one_hot_test)\n",
    "\n",
    "# # output\n",
    "# print(classification_report(y_col_test, y_col_knn_pred))"
   ]
  },
  {
   "cell_type": "markdown",
   "metadata": {},
   "source": [
    "# Random Forest"
   ]
  },
  {
   "cell_type": "code",
   "execution_count": 397,
   "metadata": {},
   "outputs": [],
   "source": [
    "# param_dist = {'n_estimators': [int(x) for x in np.linspace(start = 100, stop = 500, num = 10)],\n",
    "#                'max_features': ['auto', 'sqrt'],\n",
    "#                'max_depth': [1, 20]}\n",
    "\n",
    "# print(\"Start training\")\n",
    "# RFR = RandomForestRegressor(n_jobs = -1)\n",
    "# RFR_cv = RandomizedSearchCV(RFR, param_dist)\n",
    "# RFR_cv.fit(x_row_one_hot_train, y_row_train)\n",
    "# print(\"Finished training\")\n",
    "# evaluate(RFR_cv.best_estimator_, x_row_one_hot_test, y_row_test)"
   ]
  },
  {
   "cell_type": "code",
   "execution_count": 398,
   "metadata": {
    "collapsed": true
   },
   "outputs": [],
   "source": [
    "# y_row_rf_predict = RFR.predict(x_row_one_hot_test)"
   ]
  },
  {
   "cell_type": "code",
   "execution_count": 399,
   "metadata": {
    "collapsed": true
   },
   "outputs": [],
   "source": [
    "# figure(num=None, figsize=(8, 6), dpi=80, facecolor='w', edgecolor='k')\n",
    "# plt.ticklabel_format(style = 'plain')\n",
    "\n",
    "# plt.scatter(y_row_test, y_row_rf_predict)\n",
    "# plt.xlabel(\"Prices: $Y_i$\")\n",
    "# plt.ylabel(\"Predicted prices: $\\hat{Y}_i$\")\n",
    "# plt.title(\"Prices vs Predicted prices: $Y_i$ vs $\\hat{Y}_i$\")\n",
    "# plt.show()"
   ]
  },
  {
   "cell_type": "markdown",
   "metadata": {},
   "source": [
    "# NN"
   ]
  },
  {
   "cell_type": "code",
   "execution_count": null,
   "metadata": {},
   "outputs": [
    {
     "name": "stdout",
     "output_type": "stream",
     "text": [
      "_________________________________________________________________\n",
      "Layer (type)                 Output Shape              Param #   \n",
      "=================================================================\n",
      "dense_69 (Dense)             (None, 2048)              962560    \n",
      "_________________________________________________________________\n",
      "dropout_45 (Dropout)         (None, 2048)              0         \n",
      "_________________________________________________________________\n",
      "dense_70 (Dense)             (None, 1028)              2106372   \n",
      "_________________________________________________________________\n",
      "dropout_46 (Dropout)         (None, 1028)              0         \n",
      "_________________________________________________________________\n",
      "dense_71 (Dense)             (None, 512)               526848    \n",
      "_________________________________________________________________\n",
      "dropout_47 (Dropout)         (None, 512)               0         \n",
      "_________________________________________________________________\n",
      "dense_72 (Dense)             (None, 256)               131328    \n",
      "_________________________________________________________________\n",
      "dropout_48 (Dropout)         (None, 256)               0         \n",
      "_________________________________________________________________\n",
      "dense_73 (Dense)             (None, 128)               32896     \n",
      "_________________________________________________________________\n",
      "dropout_49 (Dropout)         (None, 128)               0         \n",
      "_________________________________________________________________\n",
      "dense_74 (Dense)             (None, 1)                 129       \n",
      "=================================================================\n",
      "Total params: 3,760,133\n",
      "Trainable params: 3,760,133\n",
      "Non-trainable params: 0\n",
      "_________________________________________________________________\n"
     ]
    }
   ],
   "source": [
    "model = Sequential()\n",
    "\n",
    "model.add(Dense(units=2048, activation=\"relu\", input_shape = (469,)))\n",
    "\n",
    "model.add(Dropout(0.5))\n",
    "\n",
    "model.add(Dense(units=1028, activation=\"relu\"))\n",
    "\n",
    "model.add(Dropout(0.5))\n",
    "\n",
    "model.add(Dense(units=512, activation=\"relu\"))\n",
    "\n",
    "model.add(Dropout(0.5))\n",
    "\n",
    "model.add(Dense(units=256, activation=\"relu\"))\n",
    "\n",
    "model.add(Dropout(0.5))\n",
    "\n",
    "model.add(Dense(units=128, activation=\"relu\"))\n",
    "\n",
    "model.add(Dropout(0.5))\n",
    "\n",
    "model.add(Dense(units=1, activation=\"relu\"))\n",
    "\n",
    "model.compile(optimizer='Nadam',\n",
    "              loss='mse',\n",
    "              metrics=['mae'])\n",
    "\n",
    "model.summary()"
   ]
  },
  {
   "cell_type": "code",
   "execution_count": null,
   "metadata": {},
   "outputs": [
    {
     "name": "stdout",
     "output_type": "stream",
     "text": [
      "Train on 34280 samples, validate on 14691 samples\n",
      "Epoch 1/40\n",
      "34280/34280 [==============================] - 72s 2ms/step - loss: 174597179232.8439 - mean_absolute_error: 230103.2015 - val_loss: 89662831951.8965 - val_mean_absolute_error: 221239.5051\n",
      "Epoch 2/40\n",
      "34280/34280 [==============================] - 3009s 88ms/step - loss: 121841102494.3197 - mean_absolute_error: 199131.8885 - val_loss: 60811816636.3014 - val_mean_absolute_error: 155330.4243\n",
      "Epoch 3/40\n",
      "34280/34280 [==============================] - 74s 2ms/step - loss: 113879285721.7643 - mean_absolute_error: 194859.3723 - val_loss: 62077225534.2095 - val_mean_absolute_error: 158257.3799\n",
      "Epoch 4/40\n",
      "34280/34280 [==============================] - 67s 2ms/step - loss: 102617022253.7036 - mean_absolute_error: 191891.4421 - val_loss: 80302349340.9266 - val_mean_absolute_error: 174344.8066\n",
      "Epoch 5/40\n",
      "34280/34280 [==============================] - 67s 2ms/step - loss: 99066081839.1972 - mean_absolute_error: 189878.1307 - val_loss: 47998292055.1282 - val_mean_absolute_error: 117816.2381\n",
      "Epoch 6/40\n",
      "34280/34280 [==============================] - 68s 2ms/step - loss: 90620654717.9389 - mean_absolute_error: 185161.3500 - val_loss: 60060915317.3442 - val_mean_absolute_error: 137460.5828\n",
      "Epoch 7/40\n",
      "34280/34280 [==============================] - 69s 2ms/step - loss: 86135171277.9949 - mean_absolute_error: 183034.4437 - val_loss: 55183942147.2412 - val_mean_absolute_error: 129726.4492\n",
      "Epoch 8/40\n",
      "34280/34280 [==============================] - 68s 2ms/step - loss: 80038140852.7234 - mean_absolute_error: 179128.2566 - val_loss: 57819597586.3840 - val_mean_absolute_error: 130106.7503\n",
      "Epoch 9/40\n",
      "34280/34280 [==============================] - 66s 2ms/step - loss: 80499269742.8835 - mean_absolute_error: 178375.3434 - val_loss: 63324787531.6795 - val_mean_absolute_error: 130755.7040\n",
      "Epoch 10/40\n",
      "34280/34280 [==============================] - 66s 2ms/step - loss: 77403042668.5536 - mean_absolute_error: 177819.1049 - val_loss: 56935378759.5671 - val_mean_absolute_error: 132564.7133\n",
      "Epoch 11/40\n",
      "34280/34280 [==============================] - 66s 2ms/step - loss: 75427986756.2866 - mean_absolute_error: 175443.5145 - val_loss: 50622130149.0948 - val_mean_absolute_error: 118666.3880\n",
      "Epoch 12/40\n",
      "34280/34280 [==============================] - 66s 2ms/step - loss: 78770817163.0824 - mean_absolute_error: 176849.2411 - val_loss: 58290008985.6070 - val_mean_absolute_error: 134263.0077\n",
      "Epoch 13/40\n",
      "34280/34280 [==============================] - 66s 2ms/step - loss: 74164162326.7622 - mean_absolute_error: 174382.4455 - val_loss: 44154495419.0293 - val_mean_absolute_error: 109679.4776\n",
      "Epoch 14/40\n",
      "34280/34280 [==============================] - 66s 2ms/step - loss: 79199085587.8348 - mean_absolute_error: 175687.5699 - val_loss: 57131916072.1312 - val_mean_absolute_error: 125177.2732\n",
      "Epoch 15/40\n",
      "34280/34280 [==============================] - 66s 2ms/step - loss: 73286412430.9059 - mean_absolute_error: 172223.3278 - val_loss: 46178710145.9604 - val_mean_absolute_error: 111283.4582\n",
      "Epoch 16/40\n",
      "34280/34280 [==============================] - 66s 2ms/step - loss: 70982559692.8597 - mean_absolute_error: 170729.2494 - val_loss: 49938692715.0980 - val_mean_absolute_error: 122295.9404\n",
      "Epoch 17/40\n",
      "34280/34280 [==============================] - 68s 2ms/step - loss: 66422054433.0978 - mean_absolute_error: 167114.0177 - val_loss: 50491992022.1785 - val_mean_absolute_error: 124759.3667\n",
      "Epoch 18/40\n",
      "32704/34280 [===========================>..] - ETA: 3s - loss: 69633333704.8924 - mean_absolute_error: 169216.9824"
     ]
    }
   ],
   "source": [
    "history = model.fit(x_row_one_hot_norm_train, \n",
    "          y_row_train,\n",
    "          batch_size = 64,\n",
    "          shuffle = True,\n",
    "          epochs = 40,\n",
    "          validation_data = (x_row_one_hot_norm_test, y_row_test))"
   ]
  },
  {
   "cell_type": "code",
   "execution_count": null,
   "metadata": {},
   "outputs": [],
   "source": [
    "train_score = model.evaluate(x_row_one_hot_norm_train, y_row_train, verbose=0)\n",
    "valid_score = model.evaluate(x_row_one_hot_norm_test, y_row_test, verbose=0)\n",
    "\n",
    "print('Train MAE: ', round(train_score[1], 4), ', Train Loss: ', round(train_score[0], 4)) \n",
    "print('Val MAE: ', round(valid_score[1], 4), ', Val Loss: ', round(valid_score[0], 4))"
   ]
  },
  {
   "cell_type": "code",
   "execution_count": null,
   "metadata": {},
   "outputs": [],
   "source": [
    "\n",
    "def plot_hist(h, xsize=6, ysize=10):\n",
    "    # Prepare plotting\n",
    "    fig_size = plt.rcParams[\"figure.figsize\"]\n",
    "    plt.rcParams[\"figure.figsize\"] = [xsize, ysize]\n",
    "    fig, axes = plt.subplots(nrows=4, ncols=4, sharex=True)\n",
    "    \n",
    "    # summarize history for MAE\n",
    "    plt.subplot(211)\n",
    "    plt.plot(h['mean_absolute_error'])\n",
    "    plt.plot(h['val_mean_absolute_error'])\n",
    "    plt.title('Training vs Validation MAE')\n",
    "    plt.ylabel('MAE')\n",
    "    plt.xlabel('Epoch')\n",
    "    plt.legend(['Train', 'Validation'], loc='upper left')\n",
    "    \n",
    "    # summarize history for loss\n",
    "    plt.subplot(212)\n",
    "    plt.plot(h['loss'])\n",
    "    plt.plot(h['val_loss'])\n",
    "    plt.title('Training vs Validation Loss')\n",
    "    plt.ylabel('Loss')\n",
    "    plt.xlabel('Epoch')\n",
    "    plt.legend(['Train', 'Validation'], loc='upper left')\n",
    "    \n",
    "    # Plot it all in IPython (non-interactive)\n",
    "    plt.draw()\n",
    "    plt.show()\n",
    "\n",
    "    return\n",
    "\n",
    "plot_hist(history.history, xsize=8, ysize=12)"
   ]
  },
  {
   "cell_type": "code",
   "execution_count": null,
   "metadata": {
    "collapsed": true
   },
   "outputs": [],
   "source": []
  }
 ],
 "metadata": {
  "kernelspec": {
   "display_name": "Python 3",
   "language": "python",
   "name": "python3"
  },
  "language_info": {
   "codemirror_mode": {
    "name": "ipython",
    "version": 3
   },
   "file_extension": ".py",
   "mimetype": "text/x-python",
   "name": "python",
   "nbconvert_exporter": "python",
   "pygments_lexer": "ipython3",
   "version": "3.6.3"
  }
 },
 "nbformat": 4,
 "nbformat_minor": 2
}
