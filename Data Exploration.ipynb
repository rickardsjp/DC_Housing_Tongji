{
 "cells": [
  {
   "cell_type": "markdown",
   "metadata": {},
   "source": [
    "# Imports"
   ]
  },
  {
   "cell_type": "code",
   "execution_count": 381,
   "metadata": {
    "collapsed": true
   },
   "outputs": [],
   "source": [
    "import pandas as pd\n",
    "import numpy as np\n",
    "import matplotlib.pyplot as plt\n",
    "from matplotlib.pyplot import figure"
   ]
  },
  {
   "cell_type": "markdown",
   "metadata": {},
   "source": [
    "# Load Data"
   ]
  },
  {
   "cell_type": "code",
   "execution_count": 382,
   "metadata": {},
   "outputs": [
    {
     "name": "stderr",
     "output_type": "stream",
     "text": [
      "C:\\anaconda3\\lib\\site-packages\\IPython\\core\\interactiveshell.py:2698: DtypeWarning: Columns (18,19,20,21,22,23,24,33,34,35,37,43,45) have mixed types. Specify dtype option on import or set low_memory=False.\n",
      "  interactivity=interactivity, compiler=compiler, result=result)\n"
     ]
    }
   ],
   "source": [
    "data = pd.read_csv('data/DC_Properties.csv')"
   ]
  },
  {
   "cell_type": "markdown",
   "metadata": {},
   "source": [
    "# Data Exploration"
   ]
  },
  {
   "cell_type": "code",
   "execution_count": 383,
   "metadata": {},
   "outputs": [
    {
     "data": {
      "text/plain": [
       "(158957, 49)"
      ]
     },
     "execution_count": 383,
     "metadata": {},
     "output_type": "execute_result"
    }
   ],
   "source": [
    "data.shape # we have 49 columns and 158957 rows"
   ]
  },
  {
   "cell_type": "code",
   "execution_count": 384,
   "metadata": {},
   "outputs": [
    {
     "name": "stdout",
     "output_type": "stream",
     "text": [
      "Row Count: 158957\n",
      "\n",
      "Unnamed: 0                 0\n",
      "BATHRM                     0\n",
      "HF_BATHRM                  0\n",
      "HEAT                       0\n",
      "AC                         0\n",
      "NUM_UNITS              52261\n",
      "ROOMS                      0\n",
      "BEDRM                      0\n",
      "AYB                      271\n",
      "YR_RMDL                78029\n",
      "EYB                        0\n",
      "STORIES                52305\n",
      "SALEDATE               26770\n",
      "PRICE                  60741\n",
      "QUALIFIED                  0\n",
      "SALE_NUM                   0\n",
      "GBA                    52261\n",
      "BLDG_NUM                   0\n",
      "STYLE                  52261\n",
      "STRUCT                 52261\n",
      "GRADE                  52261\n",
      "CNDTN                  52261\n",
      "EXTWALL                52261\n",
      "ROOF                   52261\n",
      "INTWALL                52261\n",
      "KITCHENS               52262\n",
      "FIREPLACES                 0\n",
      "USECODE                    0\n",
      "LANDAREA                   0\n",
      "GIS_LAST_MOD_DTTM          0\n",
      "SOURCE                     0\n",
      "CMPLX_NUM             106696\n",
      "LIVING_GBA            106696\n",
      "FULLADDRESS            52917\n",
      "CITY                   52906\n",
      "STATE                  52906\n",
      "ZIPCODE                    1\n",
      "NATIONALGRID           52906\n",
      "LATITUDE                   1\n",
      "LONGITUDE                  1\n",
      "ASSESSMENT_NBHD            1\n",
      "ASSESSMENT_SUBNBHD     32551\n",
      "CENSUS_TRACT               1\n",
      "CENSUS_BLOCK           52906\n",
      "WARD                       1\n",
      "SQUARE                     0\n",
      "X                        237\n",
      "Y                        237\n",
      "QUADRANT                 237\n",
      "dtype: int64\n"
     ]
    }
   ],
   "source": [
    "missing_values = data.isnull().sum()\n",
    "\n",
    "print(\"Row Count: \" + str(data.shape[0]))\n",
    "print()\n",
    "print(missing_values)"
   ]
  },
  {
   "cell_type": "code",
   "execution_count": 385,
   "metadata": {
    "scrolled": true
   },
   "outputs": [
    {
     "data": {
      "text/plain": [
       "(106696, 49)"
      ]
     },
     "execution_count": 385,
     "metadata": {},
     "output_type": "execute_result"
    }
   ],
   "source": [
    "data[data[\"STYLE\"].notnull()].shape # 52.261 rows don't have a value for the \"STYLE\" column"
   ]
  },
  {
   "cell_type": "code",
   "execution_count": 386,
   "metadata": {},
   "outputs": [
    {
     "data": {
      "text/plain": [
       "(106696, 49)"
      ]
     },
     "execution_count": 386,
     "metadata": {},
     "output_type": "execute_result"
    }
   ],
   "source": [
    "data[data[\"STRUCT\"].notnull() | data[\"STYLE\"].notnull() | data[\"GRADE\"].notnull() | data[\"CNDTN\"].notnull() | data[\"EXTWALL\"].notnull() | data[\"ROOF\"].notnull() | data[\"INTWALL\"].notnull()].shape # the same rows don't have a value for: \"STRUCT\", \"GRADE\", \"CNDTN\", \"EXTWALL\", \"ROOF\", \"INTWALL\""
   ]
  },
  {
   "cell_type": "code",
   "execution_count": 387,
   "metadata": {
    "collapsed": true
   },
   "outputs": [],
   "source": [
    "# command copied form data cleaning\n",
    "data_dropped_rows = data[data[\"STRUCT\"].notnull() | data[\"STYLE\"].notnull() | data[\"GRADE\"].notnull() | data[\"CNDTN\"].notnull() | data[\"EXTWALL\"].notnull() | data[\"ROOF\"].notnull() | data[\"INTWALL\"].notnull()]"
   ]
  },
  {
   "cell_type": "code",
   "execution_count": 388,
   "metadata": {},
   "outputs": [
    {
     "name": "stdout",
     "output_type": "stream",
     "text": [
      "Row Count: 106696\n",
      "\n",
      "Unnamed: 0                 0\n",
      "BATHRM                     0\n",
      "HF_BATHRM                  0\n",
      "HEAT                       0\n",
      "AC                         0\n",
      "NUM_UNITS                  0\n",
      "ROOMS                      0\n",
      "BEDRM                      0\n",
      "AYB                      241\n",
      "YR_RMDL                57417\n",
      "EYB                        0\n",
      "STORIES                   44\n",
      "SALEDATE               22513\n",
      "PRICE                  48796\n",
      "QUALIFIED                  0\n",
      "SALE_NUM                   0\n",
      "GBA                        0\n",
      "BLDG_NUM                   0\n",
      "STYLE                      0\n",
      "STRUCT                     0\n",
      "GRADE                      0\n",
      "CNDTN                      0\n",
      "EXTWALL                    0\n",
      "ROOF                       0\n",
      "INTWALL                    0\n",
      "KITCHENS                   1\n",
      "FIREPLACES                 0\n",
      "USECODE                    0\n",
      "LANDAREA                   0\n",
      "GIS_LAST_MOD_DTTM          0\n",
      "SOURCE                     0\n",
      "CMPLX_NUM             106696\n",
      "LIVING_GBA            106696\n",
      "FULLADDRESS              656\n",
      "CITY                     645\n",
      "STATE                    645\n",
      "ZIPCODE                    1\n",
      "NATIONALGRID             645\n",
      "LATITUDE                   1\n",
      "LONGITUDE                  1\n",
      "ASSESSMENT_NBHD            1\n",
      "ASSESSMENT_SUBNBHD     15536\n",
      "CENSUS_TRACT               1\n",
      "CENSUS_BLOCK             645\n",
      "WARD                       1\n",
      "SQUARE                     0\n",
      "X                        237\n",
      "Y                        237\n",
      "QUADRANT                 237\n",
      "dtype: int64\n"
     ]
    }
   ],
   "source": [
    "missing_values = data_dropped_rows.isnull().sum()\n",
    "\n",
    "print(\"Row Count: \" + str(data_dropped_rows.shape[0]))\n",
    "print()\n",
    "print(missing_values)"
   ]
  },
  {
   "cell_type": "markdown",
   "metadata": {},
   "source": [
    "1) no row has a value for the cmplx_num and the living_gba => useless\n",
    "2) there are many missing values for the sale_date and the yr_rmdl => maybe they aren't missing, it could be the case, that these houses were never remodeled and/ or sold before, in the following we will probably handle them this way."
   ]
  },
  {
   "cell_type": "markdown",
   "metadata": {},
   "source": [
    "There is a column called \"Unnamed: 0\", lets see what's in there."
   ]
  },
  {
   "cell_type": "code",
   "execution_count": 389,
   "metadata": {},
   "outputs": [
    {
     "data": {
      "text/plain": [
       "0              0\n",
       "1              1\n",
       "2              2\n",
       "3              3\n",
       "4              4\n",
       "5              5\n",
       "6              6\n",
       "7              7\n",
       "8              8\n",
       "9              9\n",
       "10            10\n",
       "11            11\n",
       "12            12\n",
       "13            13\n",
       "14            14\n",
       "15            15\n",
       "16            16\n",
       "17            17\n",
       "18            18\n",
       "19            19\n",
       "20            20\n",
       "21            21\n",
       "22            22\n",
       "23            23\n",
       "24            24\n",
       "25            25\n",
       "26            26\n",
       "27            27\n",
       "28            28\n",
       "29            29\n",
       "           ...  \n",
       "158927    158927\n",
       "158928    158928\n",
       "158929    158929\n",
       "158930    158930\n",
       "158931    158931\n",
       "158932    158932\n",
       "158933    158933\n",
       "158934    158934\n",
       "158935    158935\n",
       "158936    158936\n",
       "158937    158937\n",
       "158938    158938\n",
       "158939    158939\n",
       "158940    158940\n",
       "158941    158941\n",
       "158942    158942\n",
       "158943    158943\n",
       "158944    158944\n",
       "158945    158945\n",
       "158946    158946\n",
       "158947    158947\n",
       "158948    158948\n",
       "158949    158949\n",
       "158950    158950\n",
       "158951    158951\n",
       "158952    158952\n",
       "158953    158953\n",
       "158954    158954\n",
       "158955    158955\n",
       "158956    158956\n",
       "Name: Unnamed: 0, Length: 158957, dtype: int64"
      ]
     },
     "execution_count": 389,
     "metadata": {},
     "output_type": "execute_result"
    }
   ],
   "source": [
    "data[\"Unnamed: 0\"]"
   ]
  },
  {
   "cell_type": "markdown",
   "metadata": {},
   "source": [
    "It's just the same as the index (probably the unique id column)."
   ]
  },
  {
   "cell_type": "code",
   "execution_count": 390,
   "metadata": {},
   "outputs": [
    {
     "data": {
      "text/plain": [
       "array(['DC', nan], dtype=object)"
      ]
     },
     "execution_count": 390,
     "metadata": {},
     "output_type": "execute_result"
    }
   ],
   "source": [
    "data[\"STATE\"].unique() "
   ]
  },
  {
   "cell_type": "code",
   "execution_count": 391,
   "metadata": {},
   "outputs": [
    {
     "data": {
      "text/plain": [
       "array(['WASHINGTON', nan], dtype=object)"
      ]
     },
     "execution_count": 391,
     "metadata": {},
     "output_type": "execute_result"
    }
   ],
   "source": [
    "data[\"CITY\"].unique()"
   ]
  },
  {
   "cell_type": "markdown",
   "metadata": {},
   "source": [
    "Since our dataset is only about Washington DC these columns habe no use."
   ]
  },
  {
   "cell_type": "code",
   "execution_count": 392,
   "metadata": {
    "scrolled": true
   },
   "outputs": [
    {
     "data": {
      "text/plain": [
       "array([ 20009.,  20037.,  20036.,  20005.,  20052.,  20008.,  20001.,\n",
       "        20024.,  20006.,  20003.,  20002.,  20007.,  20016.,  20015.,\n",
       "        20011.,  20010.,  20012.,  20017.,  20018.,  20019.,  20020.,\n",
       "        20032.,     nan,  20392.,  20004.])"
      ]
     },
     "execution_count": 392,
     "metadata": {},
     "output_type": "execute_result"
    }
   ],
   "source": [
    "data[\"ZIPCODE\"].unique()"
   ]
  },
  {
   "cell_type": "markdown",
   "metadata": {},
   "source": [
    "The ZIPCODE on the otherside contains some value"
   ]
  },
  {
   "cell_type": "code",
   "execution_count": 393,
   "metadata": {},
   "outputs": [
    {
     "data": {
      "text/plain": [
       "array(['1748 SWANN STREET NW', '1746 SWANN STREET NW',\n",
       "       '1744 SWANN STREET NW', ..., '131 JOLIET STREET SW',\n",
       "       '135 JOLIET STREET SW', '139 JOLIET STREET SW'], dtype=object)"
      ]
     },
     "execution_count": 393,
     "metadata": {},
     "output_type": "execute_result"
    }
   ],
   "source": [
    "data[\"FULLADDRESS\"].unique()"
   ]
  },
  {
   "cell_type": "code",
   "execution_count": 394,
   "metadata": {},
   "outputs": [
    {
     "data": {
      "text/plain": [
       "(105979,)"
      ]
     },
     "execution_count": 394,
     "metadata": {},
     "output_type": "execute_result"
    }
   ],
   "source": [
    "data[\"FULLADDRESS\"].unique().shape"
   ]
  },
  {
   "cell_type": "code",
   "execution_count": 395,
   "metadata": {},
   "outputs": [
    {
     "data": {
      "text/plain": [
       "106040"
      ]
     },
     "execution_count": 395,
     "metadata": {},
     "output_type": "execute_result"
    }
   ],
   "source": [
    "data.shape[0] - data[\"FULLADDRESS\"].isnull().sum()"
   ]
  },
  {
   "cell_type": "markdown",
   "metadata": {},
   "source": [
    "The column \"FULLADDRESS\" has only unique text values, the computer can't process them. Either you split them up (street and house number or just leave them out because the streetnames aren't that useful either)"
   ]
  },
  {
   "cell_type": "code",
   "execution_count": 396,
   "metadata": {},
   "outputs": [
    {
     "data": {
      "text/plain": [
       "array(['18S UJ 23061 09289', '18S UJ 23067 09289', '18S UJ 23074 09289',\n",
       "       ..., '18S UH 25815 98879', '18S UH 25807 98865',\n",
       "       '18S UH 25804 98859'], dtype=object)"
      ]
     },
     "execution_count": 396,
     "metadata": {},
     "output_type": "execute_result"
    }
   ],
   "source": [
    "data[\"NATIONALGRID\"].unique()"
   ]
  },
  {
   "cell_type": "code",
   "execution_count": 397,
   "metadata": {},
   "outputs": [
    {
     "data": {
      "text/plain": [
       "(105950,)"
      ]
     },
     "execution_count": 397,
     "metadata": {},
     "output_type": "execute_result"
    }
   ],
   "source": [
    "data[\"NATIONALGRID\"].unique().shape"
   ]
  },
  {
   "cell_type": "code",
   "execution_count": 398,
   "metadata": {},
   "outputs": [
    {
     "data": {
      "text/plain": [
       "106051"
      ]
     },
     "execution_count": 398,
     "metadata": {},
     "output_type": "execute_result"
    }
   ],
   "source": [
    "data.shape[0] - data[\"NATIONALGRID\"].isnull().sum()"
   ]
  },
  {
   "cell_type": "markdown",
   "metadata": {},
   "source": [
    "The column \"NATIONALGRID\" has the same problem, as the one above."
   ]
  },
  {
   "cell_type": "code",
   "execution_count": 399,
   "metadata": {},
   "outputs": [
    {
     "data": {
      "text/plain": [
       "array(['2018-07-22 18:01:43', '2018-07-22 18:01:38'], dtype=object)"
      ]
     },
     "execution_count": 399,
     "metadata": {},
     "output_type": "execute_result"
    }
   ],
   "source": [
    "data[\"GIS_LAST_MOD_DTTM\"].unique()"
   ]
  },
  {
   "cell_type": "markdown",
   "metadata": {},
   "source": [
    "This row says when the row of the dataset was last modified, it's useless for us."
   ]
  },
  {
   "cell_type": "code",
   "execution_count": 400,
   "metadata": {},
   "outputs": [
    {
     "data": {
      "text/plain": [
       "array(['2003-11-25 00:00:00', '2000-08-17 00:00:00', '2016-06-21 00:00:00',\n",
       "       ..., '1995-02-16 00:00:00', '1994-02-14 00:00:00',\n",
       "       '1993-08-06 00:00:00'], dtype=object)"
      ]
     },
     "execution_count": 400,
     "metadata": {},
     "output_type": "execute_result"
    }
   ],
   "source": [
    "data[\"SALEDATE\"].unique()"
   ]
  },
  {
   "cell_type": "markdown",
   "metadata": {},
   "source": [
    "This row contains the date, the building was sold. The way it is saved is not good to compute, we will convert it later."
   ]
  },
  {
   "cell_type": "code",
   "execution_count": 401,
   "metadata": {},
   "outputs": [
    {
     "data": {
      "image/png": "[encoded data removed]",
      "text/plain": [
       "<matplotlib.figure.Figure at 0x295ab8b7e48>"
      ]
     },
     "metadata": {},
     "output_type": "display_data"
    }
   ],
   "source": [
    "figure(num=None, figsize=(8, 6), dpi=80, facecolor='w', edgecolor='k')\n",
    "plt.ticklabel_format(style = 'plain')\n",
    "\n",
    "data.boxplot(column=[\"PRICE\"])\n",
    "plt.show()"
   ]
  },
  {
   "cell_type": "code",
   "execution_count": 402,
   "metadata": {
    "scrolled": false
   },
   "outputs": [
    {
     "data": {
      "text/plain": [
       "132821       1.0\n",
       "148694       1.0\n",
       "152131       1.0\n",
       "81694        1.0\n",
       "106683       1.0\n",
       "18568       10.0\n",
       "74419       10.0\n",
       "81594       10.0\n",
       "51658       10.0\n",
       "48414      250.0\n",
       "14041      250.0\n",
       "55048      250.0\n",
       "102782     250.0\n",
       "43281      250.0\n",
       "7396       250.0\n",
       "42069      250.0\n",
       "50971      250.0\n",
       "49321      250.0\n",
       "93541      250.0\n",
       "94173      250.0\n",
       "54909      250.0\n",
       "49443      250.0\n",
       "84165      250.0\n",
       "49470      500.0\n",
       "60597      500.0\n",
       "5516       500.0\n",
       "54229      500.0\n",
       "3330       936.0\n",
       "153470    1000.0\n",
       "100485    1000.0\n",
       "           ...  \n",
       "158845       NaN\n",
       "158847       NaN\n",
       "158848       NaN\n",
       "158849       NaN\n",
       "158850       NaN\n",
       "158852       NaN\n",
       "158855       NaN\n",
       "158856       NaN\n",
       "158857       NaN\n",
       "158859       NaN\n",
       "158860       NaN\n",
       "158863       NaN\n",
       "158865       NaN\n",
       "158866       NaN\n",
       "158870       NaN\n",
       "158872       NaN\n",
       "158879       NaN\n",
       "158883       NaN\n",
       "158889       NaN\n",
       "158913       NaN\n",
       "158917       NaN\n",
       "158922       NaN\n",
       "158923       NaN\n",
       "158925       NaN\n",
       "158927       NaN\n",
       "158937       NaN\n",
       "158940       NaN\n",
       "158941       NaN\n",
       "158942       NaN\n",
       "158956       NaN\n",
       "Name: PRICE, Length: 158957, dtype: float64"
      ]
     },
     "execution_count": 402,
     "metadata": {},
     "output_type": "execute_result"
    }
   ],
   "source": [
    "data.sort_values(by=\"PRICE\")[\"PRICE\"]"
   ]
  },
  {
   "cell_type": "markdown",
   "metadata": {},
   "source": [
    "The price of some buildings is suspicous, we have some verry verry high prices (140.000.000$) and some realy low prices (1$) "
   ]
  },
  {
   "cell_type": "code",
   "execution_count": 403,
   "metadata": {},
   "outputs": [
    {
     "data": {
      "image/png": "[encoded data removed]",
      "text/plain": [
       "<matplotlib.figure.Figure at 0x295ab7140b8>"
      ]
     },
     "metadata": {},
     "output_type": "display_data"
    }
   ],
   "source": [
    "figure(num=None, figsize=(8, 6), dpi=80, facecolor='w', edgecolor='k')\n",
    "plt.ticklabel_format(style = 'plain')\n",
    "\n",
    "data.loc[(data[\"PRICE\"] <= 25000000) & (data[\"PRICE\"] >= 60000)].boxplot(column=[\"PRICE\"])\n",
    "plt.show()"
   ]
  },
  {
   "cell_type": "code",
   "execution_count": 404,
   "metadata": {},
   "outputs": [
    {
     "data": {
      "text/plain": [
       "array(['Y', 'N', '0'], dtype=object)"
      ]
     },
     "execution_count": 404,
     "metadata": {},
     "output_type": "execute_result"
    }
   ],
   "source": [
    "data[\"AC\"].unique()"
   ]
  },
  {
   "cell_type": "markdown",
   "metadata": {},
   "source": [
    "A zero in there is strange value it stands for NULL, therefore we should replace it with NULL instead of 0."
   ]
  },
  {
   "cell_type": "code",
   "execution_count": 405,
   "metadata": {},
   "outputs": [
    {
     "data": {
      "text/plain": [
       "array([1, 2, 3, 4, 5], dtype=int64)"
      ]
     },
     "execution_count": 405,
     "metadata": {},
     "output_type": "execute_result"
    }
   ],
   "source": [
    "data[\"BLDG_NUM\"].unique()"
   ]
  },
  {
   "cell_type": "markdown",
   "metadata": {},
   "source": [
    "We haven't found anything about this column in the documentation and since it has only two possible values, it seems kind of useless."
   ]
  },
  {
   "cell_type": "code",
   "execution_count": null,
   "metadata": {
    "collapsed": true
   },
   "outputs": [],
   "source": []
  }
 ],
 "metadata": {
  "kernelspec": {
   "display_name": "Python 3",
   "language": "python",
   "name": "python3"
  },
  "language_info": {
   "codemirror_mode": {
    "name": "ipython",
    "version": 3
   },
   "file_extension": ".py",
   "mimetype": "text/x-python",
   "name": "python",
   "nbconvert_exporter": "python",
   "pygments_lexer": "ipython3",
   "version": "3.6.3"
  }
 },
 "nbformat": 4,
 "nbformat_minor": 2
}
