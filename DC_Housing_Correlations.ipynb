{
 "cells": [
  {
   "cell_type": "markdown",
   "metadata": {},
   "source": [
    "# Imports"
   ]
  },
  {
   "cell_type": "code",
   "execution_count": 156,
   "metadata": {
    "collapsed": true
   },
   "outputs": [],
   "source": [
    "import pandas as pd\n",
    "import scipy.stats\n",
    "import numpy as np\n",
    "import matplotlib.pyplot as plt\n",
    "import seaborn as sns\n",
    "sns.set(style=\"white\", color_codes=True)"
   ]
  },
  {
   "cell_type": "markdown",
   "metadata": {},
   "source": [
    "# Load data"
   ]
  },
  {
   "cell_type": "code",
   "execution_count": 2,
   "metadata": {},
   "outputs": [],
   "source": [
    "data = pd.read_csv('data/data_cleaned_row.csv')\n",
    "data"
   ]
  },
  {
   "cell_type": "code",
   "execution_count": 4,
   "metadata": {
    "scrolled": true
   },
   "outputs": [
    {
     "data": {
      "text/plain": [
       "Index(['BATHRM', 'HF_BATHRM', 'HEAT', 'AC', 'NUM_UNITS', 'ROOMS', 'BEDRM',\n",
       "       'AYB', 'YR_RMDL', 'EYB', 'STORIES', 'SALEDATE', 'PRICE', 'QUALIFIED',\n",
       "       'SALE_NUM', 'GBA', 'BLDG_NUM', 'STYLE', 'STRUCT', 'GRADE', 'CNDTN',\n",
       "       'EXTWALL', 'ROOF', 'INTWALL', 'KITCHENS', 'FIREPLACES', 'USECODE',\n",
       "       'LANDAREA', 'SOURCE', 'ZIPCODE', 'LATITUDE', 'LONGITUDE',\n",
       "       'ASSESSMENT_NBHD', 'ASSESSMENT_SUBNBHD', 'CENSUS_TRACT', 'CENSUS_BLOCK',\n",
       "       'WARD', 'SQUARE', 'X', 'Y', 'QUADRANT', 'WAS_REMODELED'],\n",
       "      dtype='object')"
      ]
     },
     "execution_count": 4,
     "metadata": {},
     "output_type": "execute_result"
    }
   ],
   "source": [
    "data.columns"
   ]
  },
  {
   "cell_type": "markdown",
   "metadata": {},
   "source": [
    "# Define methods"
   ]
  },
  {
   "cell_type": "code",
   "execution_count": 5,
   "metadata": {
    "collapsed": true
   },
   "outputs": [],
   "source": [
    "def chi2_test(row, col):\n",
    "    table = pd.crosstab(row, col)\n",
    "    chi2, p, df, exp_obs = scipy.stats.chi2_contingency(table)\n",
    "    print(p)\n",
    "    print(table)\n",
    "    print(exp_obs)\n",
    "    '''return chi2, p, exp_obs, df'''"
   ]
  },
  {
   "cell_type": "code",
   "execution_count": 150,
   "metadata": {},
   "outputs": [],
   "source": [
    "def contingency_coefficent(row, col, return_C = False, return_mean_chi2 = False):\n",
    "    if row.size != col.size:\n",
    "        return None\n",
    "    n = row.size\n",
    "    c_table = pd.crosstab(row, col)\n",
    "    exp_table = scipy.stats.contingency.expected_freq(c_table)\n",
    "    chi2 = (pow(c_table - exp_table, 2) / exp_table).sum().sum()\n",
    "    #print(chi2/n)\n",
    "    C = pow(chi2 / (chi2 + n), 1/2)\n",
    "    #print(C)\n",
    "    Ckorr = C * pow(min(c_table.shape) / (min(c_table.shape) - 1), 1/2)\n",
    "    if return_C:\n",
    "        if return_mean_chi2:\n",
    "            return Ckorr, C, chi2/(n * (min(c_table.shape) - 1))\n",
    "        else:\n",
    "            return Ckorr, C\n",
    "    elif return_mean_chi2:\n",
    "        return Ckorr, chi2/(n * (min(c_table.shape) - 1))\n",
    "    else:\n",
    "        return Ckorr"
   ]
  },
  {
   "cell_type": "markdown",
   "metadata": {},
   "source": [
    "# Calculate Chi²-Tests"
   ]
  },
  {
   "cell_type": "code",
   "execution_count": 7,
   "metadata": {},
   "outputs": [
    {
     "data": {
      "text/plain": [
       "(1.0, 0.8660254037844387, 1.0000000000000009)"
      ]
     },
     "execution_count": 7,
     "metadata": {},
     "output_type": "execute_result"
    }
   ],
   "source": [
    "contingency_coefficent(data.SQUARE, data.QUADRANT)"
   ]
  },
  {
   "cell_type": "code",
   "execution_count": 8,
   "metadata": {},
   "outputs": [
    {
     "data": {
      "text/plain": [
       "0.0"
      ]
     },
     "execution_count": 8,
     "metadata": {},
     "output_type": "execute_result"
    }
   ],
   "source": [
    "c_table_SQUARE_QUADRANT = pd.crosstab(data.SQUARE, data.QUADRANT)\n",
    "chi2, p, df, exp_obs = scipy.stats.chi2_contingency(c_table_SQUARE_QUADRANT)\n",
    "p"
   ]
  },
  {
   "cell_type": "code",
   "execution_count": 9,
   "metadata": {},
   "outputs": [
    {
     "data": {
      "text/plain": [
       "0.9998854476442489"
      ]
     },
     "execution_count": 9,
     "metadata": {},
     "output_type": "execute_result"
    }
   ],
   "source": [
    "data.LONGITUDE.corr(data.X)"
   ]
  },
  {
   "cell_type": "code",
   "execution_count": 10,
   "metadata": {},
   "outputs": [
    {
     "data": {
      "text/plain": [
       "2.309218195071441e-202"
      ]
     },
     "execution_count": 10,
     "metadata": {},
     "output_type": "execute_result"
    }
   ],
   "source": [
    "c_table_LONGITUDE_X = pd.crosstab(data.LONGITUDE, data.X)\n",
    "chi2, p, df, exp_obs = scipy.stats.chi2_contingency(c_table_LONGITUDE_X)\n",
    "p"
   ]
  },
  {
   "cell_type": "code",
   "execution_count": 11,
   "metadata": {},
   "outputs": [
    {
     "data": {
      "text/plain": [
       "0.9999107005857839"
      ]
     },
     "execution_count": 11,
     "metadata": {},
     "output_type": "execute_result"
    }
   ],
   "source": [
    "data.LATITUDE.corr(data.Y)"
   ]
  },
  {
   "cell_type": "code",
   "execution_count": 12,
   "metadata": {},
   "outputs": [
    {
     "data": {
      "text/plain": [
       "0.0"
      ]
     },
     "execution_count": 12,
     "metadata": {},
     "output_type": "execute_result"
    }
   ],
   "source": [
    "c_table_LATITUDE_Y = pd.crosstab(data.LATITUDE, data.Y)\n",
    "chi2, p, df, exp_obs = scipy.stats.chi2_contingency(c_table_LATITUDE_Y)\n",
    "p"
   ]
  },
  {
   "cell_type": "code",
   "execution_count": 13,
   "metadata": {},
   "outputs": [
    {
     "data": {
      "text/plain": [
       "(0.9995132614427994, 0.9842526208368781, 0.9688531026054797)"
      ]
     },
     "execution_count": 13,
     "metadata": {},
     "output_type": "execute_result"
    }
   ],
   "source": [
    "contingency_coefficent(data.ASSESSMENT_NBHD, data.ASSESSMENT_SUBNBHD)"
   ]
  },
  {
   "cell_type": "code",
   "execution_count": 14,
   "metadata": {},
   "outputs": [
    {
     "data": {
      "text/plain": [
       "0.0"
      ]
     },
     "execution_count": 14,
     "metadata": {},
     "output_type": "execute_result"
    }
   ],
   "source": [
    "c_table_NBHD_SUBNBHD = pd.crosstab(data.ASSESSMENT_NBHD, data.ASSESSMENT_SUBNBHD)\n",
    "chi2, p, df, exp_obs = scipy.stats.chi2_contingency(c_table_NBHD_SUBNBHD)\n",
    "p"
   ]
  },
  {
   "cell_type": "code",
   "execution_count": 15,
   "metadata": {},
   "outputs": [
    {
     "data": {
      "text/plain": [
       "(1.0, 0.9967050981266119, 1.0000000000000009)"
      ]
     },
     "execution_count": 15,
     "metadata": {},
     "output_type": "execute_result"
    }
   ],
   "source": [
    "contingency_coefficent(data.CENSUS_BLOCK, data.CENSUS_TRACT)"
   ]
  },
  {
   "cell_type": "code",
   "execution_count": 16,
   "metadata": {},
   "outputs": [
    {
     "data": {
      "text/plain": [
       "0.0"
      ]
     },
     "execution_count": 16,
     "metadata": {},
     "output_type": "execute_result"
    }
   ],
   "source": [
    "c_table_BLOCK_TRACT = pd.crosstab(data.CENSUS_BLOCK, data.CENSUS_TRACT)\n",
    "chi2, p, df, exp_obs = scipy.stats.chi2_contingency(c_table_BLOCK_TRACT)\n",
    "p"
   ]
  },
  {
   "cell_type": "markdown",
   "metadata": {},
   "source": [
    "All correlation and chi² calculations show a high correlation and significance between the selected columns. (Small p value means that the null hypthesis that row and column are independent can be rejected.) They are all more or less geographical data about the specific property, so a high correlaltion can be expected. Because they have such high dependets, it is useful to drop some of the columns and only keep a few (one) that gives information about the location. Otherwise, the model would use independent variables that already have some relationship. "
   ]
  },
  {
   "cell_type": "code",
   "execution_count": 59,
   "metadata": {},
   "outputs": [
    {
     "data": {
      "text/plain": [
       "(0.6728933884453462, 0.5494151509944974, 0.21618566086232072)"
      ]
     },
     "execution_count": 59,
     "metadata": {},
     "output_type": "execute_result"
    }
   ],
   "source": [
    "contingency_coefficent(data.HEAT, data.AC)"
   ]
  },
  {
   "cell_type": "code",
   "execution_count": 60,
   "metadata": {},
   "outputs": [
    {
     "data": {
      "text/plain": [
       "(0.08104400155840787, 0.05730676307644332, 0.003294885713460891)"
      ]
     },
     "execution_count": 60,
     "metadata": {},
     "output_type": "execute_result"
    }
   ],
   "source": [
    "contingency_coefficent(data.QUALIFIED, data.ROOF)"
   ]
  },
  {
   "cell_type": "code",
   "execution_count": 102,
   "metadata": {
    "collapsed": true
   },
   "outputs": [],
   "source": [
    "categorical_cols = [\"HEAT\", \"AC\", \"QUALIFIED\", \"STYLE\", \"STRUCT\", \"GRADE\", \"CNDTN\", \"EXTWALL\", \"ROOF\", \n",
    "                    \"INTWALL\", \"ZIPCODE\", \"ASSESSMENT_NBHD\", \"ASSESSMENT_SUBNBHD\", \"CENSUS_TRACT\", \"CENSUS_BLOCK\", \n",
    "                    \"WARD\", \"SQUARE\", \"QUADRANT\", \"WAS_REMODELED\", \"PRICE\"]\n",
    "numeric_cols = [\"BATHRM\", \"HF_BATHRM\", \"NUM_UNITS\", \"ROOMS\", \"BEDRM\", \"YR_RMDL\", \"STORIES\"]"
   ]
  },
  {
   "cell_type": "code",
   "execution_count": 197,
   "metadata": {},
   "outputs": [
    {
     "data": {
      "text/plain": [
       "Index(['BATHRM', 'HF_BATHRM', 'HEAT', 'AC', 'NUM_UNITS', 'ROOMS', 'BEDRM',\n",
       "       'AYB', 'YR_RMDL', 'EYB', 'STORIES', 'SALEDATE', 'PRICE', 'QUALIFIED',\n",
       "       'SALE_NUM', 'GBA', 'BLDG_NUM', 'STYLE', 'STRUCT', 'GRADE', 'CNDTN',\n",
       "       'EXTWALL', 'ROOF', 'INTWALL', 'KITCHENS', 'FIREPLACES', 'USECODE',\n",
       "       'LANDAREA', 'ZIPCODE', 'LATITUDE', 'LONGITUDE', 'ASSESSMENT_NBHD',\n",
       "       'ASSESSMENT_SUBNBHD', 'CENSUS_TRACT', 'CENSUS_BLOCK', 'WARD', 'SQUARE',\n",
       "       'X', 'Y', 'QUADRANT', 'WAS_REMODELED'],\n",
       "      dtype='object')"
      ]
     },
     "execution_count": 197,
     "metadata": {},
     "output_type": "execute_result"
    }
   ],
   "source": [
    "data.columns"
   ]
  },
  {
   "cell_type": "markdown",
   "metadata": {},
   "source": [
    "Calculate the contigency coefficients for all categorical values:"
   ]
  },
  {
   "cell_type": "code",
   "execution_count": 172,
   "metadata": {},
   "outputs": [],
   "source": [
    "def paired_contincency(data):\n",
    "    names = data.columns.values\n",
    "    result_df = pd.DataFrame(index=names, columns=names)\n",
    "    for i in names:\n",
    "        for ii in names:\n",
    "            if i == ii:\n",
    "                result_df[i][ii] = result_df[ii][i] = 1\n",
    "            else:\n",
    "                result_df[i][ii] = result_df[ii][i] = contingency_coefficent(data[i], data[ii])\n",
    "    return result_df"
   ]
  },
  {
   "cell_type": "code",
   "execution_count": null,
   "metadata": {
    "collapsed": true
   },
   "outputs": [],
   "source": [
    "def paired_"
   ]
  },
  {
   "cell_type": "code",
   "execution_count": 173,
   "metadata": {},
   "outputs": [
    {
     "data": {
      "text/html": [
       "<div>\n",
       "<style>\n",
       "    .dataframe thead tr:only-child th {\n",
       "        text-align: right;\n",
       "    }\n",
       "\n",
       "    .dataframe thead th {\n",
       "        text-align: left;\n",
       "    }\n",
       "\n",
       "    .dataframe tbody tr th {\n",
       "        vertical-align: top;\n",
       "    }\n",
       "</style>\n",
       "<table border=\"1\" class=\"dataframe\">\n",
       "  <thead>\n",
       "    <tr style=\"text-align: right;\">\n",
       "      <th></th>\n",
       "      <th>HEAT</th>\n",
       "      <th>AC</th>\n",
       "      <th>QUALIFIED</th>\n",
       "      <th>STYLE</th>\n",
       "      <th>STRUCT</th>\n",
       "      <th>GRADE</th>\n",
       "      <th>CNDTN</th>\n",
       "      <th>EXTWALL</th>\n",
       "      <th>ROOF</th>\n",
       "      <th>INTWALL</th>\n",
       "      <th>ZIPCODE</th>\n",
       "      <th>ASSESSMENT_NBHD</th>\n",
       "      <th>ASSESSMENT_SUBNBHD</th>\n",
       "      <th>CENSUS_TRACT</th>\n",
       "      <th>CENSUS_BLOCK</th>\n",
       "      <th>WARD</th>\n",
       "      <th>SQUARE</th>\n",
       "      <th>QUADRANT</th>\n",
       "      <th>WAS_REMODELED</th>\n",
       "    </tr>\n",
       "  </thead>\n",
       "  <tbody>\n",
       "    <tr>\n",
       "      <th>HEAT</th>\n",
       "      <td>1</td>\n",
       "      <td>0.672893</td>\n",
       "      <td>0.160831</td>\n",
       "      <td>0.252863</td>\n",
       "      <td>0.320116</td>\n",
       "      <td>0.462405</td>\n",
       "      <td>0.465373</td>\n",
       "      <td>0.339399</td>\n",
       "      <td>0.341135</td>\n",
       "      <td>0.338225</td>\n",
       "      <td>0.476768</td>\n",
       "      <td>0.505264</td>\n",
       "      <td>0.563473</td>\n",
       "      <td>0.570001</td>\n",
       "      <td>0.81379</td>\n",
       "      <td>0.440685</td>\n",
       "      <td>0.789853</td>\n",
       "      <td>0.274231</td>\n",
       "      <td>0.22747</td>\n",
       "    </tr>\n",
       "    <tr>\n",
       "      <th>AC</th>\n",
       "      <td>0.672893</td>\n",
       "      <td>1</td>\n",
       "      <td>0.252916</td>\n",
       "      <td>0.199424</td>\n",
       "      <td>0.363133</td>\n",
       "      <td>0.483309</td>\n",
       "      <td>0.609016</td>\n",
       "      <td>0.267741</td>\n",
       "      <td>0.243589</td>\n",
       "      <td>0.199783</td>\n",
       "      <td>0.317455</td>\n",
       "      <td>0.344022</td>\n",
       "      <td>0.395516</td>\n",
       "      <td>0.408533</td>\n",
       "      <td>0.667544</td>\n",
       "      <td>0.267791</td>\n",
       "      <td>0.622165</td>\n",
       "      <td>0.0680088</td>\n",
       "      <td>0.422514</td>\n",
       "    </tr>\n",
       "    <tr>\n",
       "      <th>QUALIFIED</th>\n",
       "      <td>0.160831</td>\n",
       "      <td>0.252916</td>\n",
       "      <td>1</td>\n",
       "      <td>0.0907857</td>\n",
       "      <td>0.147041</td>\n",
       "      <td>0.173203</td>\n",
       "      <td>0.319148</td>\n",
       "      <td>0.0737318</td>\n",
       "      <td>0.081044</td>\n",
       "      <td>0.0872065</td>\n",
       "      <td>0.190229</td>\n",
       "      <td>0.215152</td>\n",
       "      <td>0.24777</td>\n",
       "      <td>0.261184</td>\n",
       "      <td>0.458171</td>\n",
       "      <td>0.182296</td>\n",
       "      <td>0.439397</td>\n",
       "      <td>0.100551</td>\n",
       "      <td>0.185743</td>\n",
       "    </tr>\n",
       "    <tr>\n",
       "      <th>STYLE</th>\n",
       "      <td>0.252863</td>\n",
       "      <td>0.199424</td>\n",
       "      <td>0.0907857</td>\n",
       "      <td>1</td>\n",
       "      <td>0.500569</td>\n",
       "      <td>0.491552</td>\n",
       "      <td>0.283237</td>\n",
       "      <td>0.514235</td>\n",
       "      <td>0.456604</td>\n",
       "      <td>0.151487</td>\n",
       "      <td>0.545377</td>\n",
       "      <td>0.578962</td>\n",
       "      <td>0.669777</td>\n",
       "      <td>0.679242</td>\n",
       "      <td>0.905822</td>\n",
       "      <td>0.488115</td>\n",
       "      <td>0.895352</td>\n",
       "      <td>0.280677</td>\n",
       "      <td>0.0940036</td>\n",
       "    </tr>\n",
       "    <tr>\n",
       "      <th>STRUCT</th>\n",
       "      <td>0.320116</td>\n",
       "      <td>0.363133</td>\n",
       "      <td>0.147041</td>\n",
       "      <td>0.500569</td>\n",
       "      <td>1</td>\n",
       "      <td>0.64143</td>\n",
       "      <td>0.517593</td>\n",
       "      <td>0.513672</td>\n",
       "      <td>0.656903</td>\n",
       "      <td>0.27148</td>\n",
       "      <td>0.680199</td>\n",
       "      <td>0.72656</td>\n",
       "      <td>0.794496</td>\n",
       "      <td>0.803159</td>\n",
       "      <td>0.914733</td>\n",
       "      <td>0.605408</td>\n",
       "      <td>0.902858</td>\n",
       "      <td>0.415653</td>\n",
       "      <td>0.160771</td>\n",
       "    </tr>\n",
       "    <tr>\n",
       "      <th>GRADE</th>\n",
       "      <td>0.462405</td>\n",
       "      <td>0.483309</td>\n",
       "      <td>0.173203</td>\n",
       "      <td>0.491552</td>\n",
       "      <td>0.64143</td>\n",
       "      <td>1</td>\n",
       "      <td>0.714278</td>\n",
       "      <td>0.508562</td>\n",
       "      <td>0.436245</td>\n",
       "      <td>0.338683</td>\n",
       "      <td>0.751897</td>\n",
       "      <td>0.814678</td>\n",
       "      <td>0.867908</td>\n",
       "      <td>0.850861</td>\n",
       "      <td>0.945668</td>\n",
       "      <td>0.692874</td>\n",
       "      <td>0.934583</td>\n",
       "      <td>0.507644</td>\n",
       "      <td>0.163406</td>\n",
       "    </tr>\n",
       "    <tr>\n",
       "      <th>CNDTN</th>\n",
       "      <td>0.465373</td>\n",
       "      <td>0.609016</td>\n",
       "      <td>0.319148</td>\n",
       "      <td>0.283237</td>\n",
       "      <td>0.517593</td>\n",
       "      <td>0.714278</td>\n",
       "      <td>1</td>\n",
       "      <td>0.460683</td>\n",
       "      <td>0.250908</td>\n",
       "      <td>0.296446</td>\n",
       "      <td>0.285154</td>\n",
       "      <td>0.357312</td>\n",
       "      <td>0.597456</td>\n",
       "      <td>0.602512</td>\n",
       "      <td>0.847608</td>\n",
       "      <td>0.248587</td>\n",
       "      <td>0.802078</td>\n",
       "      <td>0.140822</td>\n",
       "      <td>0.535703</td>\n",
       "    </tr>\n",
       "    <tr>\n",
       "      <th>EXTWALL</th>\n",
       "      <td>0.339399</td>\n",
       "      <td>0.267741</td>\n",
       "      <td>0.0737318</td>\n",
       "      <td>0.514235</td>\n",
       "      <td>0.513672</td>\n",
       "      <td>0.508562</td>\n",
       "      <td>0.460683</td>\n",
       "      <td>1</td>\n",
       "      <td>0.516837</td>\n",
       "      <td>0.365203</td>\n",
       "      <td>0.516727</td>\n",
       "      <td>0.598264</td>\n",
       "      <td>0.745699</td>\n",
       "      <td>0.720949</td>\n",
       "      <td>0.924941</td>\n",
       "      <td>0.440203</td>\n",
       "      <td>0.917986</td>\n",
       "      <td>0.295009</td>\n",
       "      <td>0.238476</td>\n",
       "    </tr>\n",
       "    <tr>\n",
       "      <th>ROOF</th>\n",
       "      <td>0.341135</td>\n",
       "      <td>0.243589</td>\n",
       "      <td>0.081044</td>\n",
       "      <td>0.456604</td>\n",
       "      <td>0.656903</td>\n",
       "      <td>0.436245</td>\n",
       "      <td>0.250908</td>\n",
       "      <td>0.516837</td>\n",
       "      <td>1</td>\n",
       "      <td>0.344234</td>\n",
       "      <td>0.692437</td>\n",
       "      <td>0.745612</td>\n",
       "      <td>0.787137</td>\n",
       "      <td>0.785898</td>\n",
       "      <td>0.908905</td>\n",
       "      <td>0.659606</td>\n",
       "      <td>0.901531</td>\n",
       "      <td>0.395499</td>\n",
       "      <td>0.246091</td>\n",
       "    </tr>\n",
       "    <tr>\n",
       "      <th>INTWALL</th>\n",
       "      <td>0.338225</td>\n",
       "      <td>0.199783</td>\n",
       "      <td>0.0872065</td>\n",
       "      <td>0.151487</td>\n",
       "      <td>0.27148</td>\n",
       "      <td>0.338683</td>\n",
       "      <td>0.296446</td>\n",
       "      <td>0.365203</td>\n",
       "      <td>0.344234</td>\n",
       "      <td>1</td>\n",
       "      <td>0.371965</td>\n",
       "      <td>0.487884</td>\n",
       "      <td>0.588676</td>\n",
       "      <td>0.593969</td>\n",
       "      <td>0.817587</td>\n",
       "      <td>0.368446</td>\n",
       "      <td>0.801523</td>\n",
       "      <td>0.261737</td>\n",
       "      <td>0.190256</td>\n",
       "    </tr>\n",
       "    <tr>\n",
       "      <th>ZIPCODE</th>\n",
       "      <td>0.476768</td>\n",
       "      <td>0.317455</td>\n",
       "      <td>0.190229</td>\n",
       "      <td>0.545377</td>\n",
       "      <td>0.680199</td>\n",
       "      <td>0.751897</td>\n",
       "      <td>0.285154</td>\n",
       "      <td>0.516727</td>\n",
       "      <td>0.692437</td>\n",
       "      <td>0.371965</td>\n",
       "      <td>1</td>\n",
       "      <td>0.981241</td>\n",
       "      <td>0.99228</td>\n",
       "      <td>0.995496</td>\n",
       "      <td>0.999329</td>\n",
       "      <td>0.977008</td>\n",
       "      <td>0.999029</td>\n",
       "      <td>0.951825</td>\n",
       "      <td>0.359864</td>\n",
       "    </tr>\n",
       "    <tr>\n",
       "      <th>ASSESSMENT_NBHD</th>\n",
       "      <td>0.505264</td>\n",
       "      <td>0.344022</td>\n",
       "      <td>0.215152</td>\n",
       "      <td>0.578962</td>\n",
       "      <td>0.72656</td>\n",
       "      <td>0.814678</td>\n",
       "      <td>0.357312</td>\n",
       "      <td>0.598264</td>\n",
       "      <td>0.745612</td>\n",
       "      <td>0.487884</td>\n",
       "      <td>0.981241</td>\n",
       "      <td>1</td>\n",
       "      <td>0.999513</td>\n",
       "      <td>0.997984</td>\n",
       "      <td>0.999963</td>\n",
       "      <td>0.989747</td>\n",
       "      <td>0.999999</td>\n",
       "      <td>0.922246</td>\n",
       "      <td>0.416993</td>\n",
       "    </tr>\n",
       "    <tr>\n",
       "      <th>ASSESSMENT_SUBNBHD</th>\n",
       "      <td>0.563473</td>\n",
       "      <td>0.395516</td>\n",
       "      <td>0.24777</td>\n",
       "      <td>0.669777</td>\n",
       "      <td>0.794496</td>\n",
       "      <td>0.867908</td>\n",
       "      <td>0.597456</td>\n",
       "      <td>0.745699</td>\n",
       "      <td>0.787137</td>\n",
       "      <td>0.588676</td>\n",
       "      <td>0.99228</td>\n",
       "      <td>0.999513</td>\n",
       "      <td>1</td>\n",
       "      <td>0.997533</td>\n",
       "      <td>0.999959</td>\n",
       "      <td>0.99795</td>\n",
       "      <td>0.999991</td>\n",
       "      <td>0.990993</td>\n",
       "      <td>0.472925</td>\n",
       "    </tr>\n",
       "    <tr>\n",
       "      <th>CENSUS_TRACT</th>\n",
       "      <td>0.570001</td>\n",
       "      <td>0.408533</td>\n",
       "      <td>0.261184</td>\n",
       "      <td>0.679242</td>\n",
       "      <td>0.803159</td>\n",
       "      <td>0.850861</td>\n",
       "      <td>0.602512</td>\n",
       "      <td>0.720949</td>\n",
       "      <td>0.785898</td>\n",
       "      <td>0.593969</td>\n",
       "      <td>0.995496</td>\n",
       "      <td>0.997984</td>\n",
       "      <td>0.997533</td>\n",
       "      <td>1</td>\n",
       "      <td>1</td>\n",
       "      <td>0.998615</td>\n",
       "      <td>0.999968</td>\n",
       "      <td>0.999995</td>\n",
       "      <td>0.480833</td>\n",
       "    </tr>\n",
       "    <tr>\n",
       "      <th>CENSUS_BLOCK</th>\n",
       "      <td>0.81379</td>\n",
       "      <td>0.667544</td>\n",
       "      <td>0.458171</td>\n",
       "      <td>0.905822</td>\n",
       "      <td>0.914733</td>\n",
       "      <td>0.945668</td>\n",
       "      <td>0.847608</td>\n",
       "      <td>0.924941</td>\n",
       "      <td>0.908905</td>\n",
       "      <td>0.817587</td>\n",
       "      <td>0.999329</td>\n",
       "      <td>0.999963</td>\n",
       "      <td>0.999959</td>\n",
       "      <td>1</td>\n",
       "      <td>1</td>\n",
       "      <td>1</td>\n",
       "      <td>0.999987</td>\n",
       "      <td>0.999996</td>\n",
       "      <td>0.621861</td>\n",
       "    </tr>\n",
       "    <tr>\n",
       "      <th>WARD</th>\n",
       "      <td>0.440685</td>\n",
       "      <td>0.267791</td>\n",
       "      <td>0.182296</td>\n",
       "      <td>0.488115</td>\n",
       "      <td>0.605408</td>\n",
       "      <td>0.692874</td>\n",
       "      <td>0.248587</td>\n",
       "      <td>0.440203</td>\n",
       "      <td>0.659606</td>\n",
       "      <td>0.368446</td>\n",
       "      <td>0.977008</td>\n",
       "      <td>0.989747</td>\n",
       "      <td>0.99795</td>\n",
       "      <td>0.998615</td>\n",
       "      <td>1</td>\n",
       "      <td>1</td>\n",
       "      <td>0.999942</td>\n",
       "      <td>0.859492</td>\n",
       "      <td>0.353686</td>\n",
       "    </tr>\n",
       "    <tr>\n",
       "      <th>SQUARE</th>\n",
       "      <td>0.789853</td>\n",
       "      <td>0.622165</td>\n",
       "      <td>0.439397</td>\n",
       "      <td>0.895352</td>\n",
       "      <td>0.902858</td>\n",
       "      <td>0.934583</td>\n",
       "      <td>0.802078</td>\n",
       "      <td>0.917986</td>\n",
       "      <td>0.901531</td>\n",
       "      <td>0.801523</td>\n",
       "      <td>0.999029</td>\n",
       "      <td>0.999999</td>\n",
       "      <td>0.999991</td>\n",
       "      <td>0.999968</td>\n",
       "      <td>0.999987</td>\n",
       "      <td>0.999942</td>\n",
       "      <td>1</td>\n",
       "      <td>1</td>\n",
       "      <td>0.611533</td>\n",
       "    </tr>\n",
       "    <tr>\n",
       "      <th>QUADRANT</th>\n",
       "      <td>0.274231</td>\n",
       "      <td>0.0680088</td>\n",
       "      <td>0.100551</td>\n",
       "      <td>0.280677</td>\n",
       "      <td>0.415653</td>\n",
       "      <td>0.507644</td>\n",
       "      <td>0.140822</td>\n",
       "      <td>0.295009</td>\n",
       "      <td>0.395499</td>\n",
       "      <td>0.261737</td>\n",
       "      <td>0.951825</td>\n",
       "      <td>0.922246</td>\n",
       "      <td>0.990993</td>\n",
       "      <td>0.999995</td>\n",
       "      <td>0.999996</td>\n",
       "      <td>0.859492</td>\n",
       "      <td>1</td>\n",
       "      <td>1</td>\n",
       "      <td>0.13831</td>\n",
       "    </tr>\n",
       "    <tr>\n",
       "      <th>WAS_REMODELED</th>\n",
       "      <td>0.22747</td>\n",
       "      <td>0.422514</td>\n",
       "      <td>0.185743</td>\n",
       "      <td>0.0940036</td>\n",
       "      <td>0.160771</td>\n",
       "      <td>0.163406</td>\n",
       "      <td>0.535703</td>\n",
       "      <td>0.238476</td>\n",
       "      <td>0.246091</td>\n",
       "      <td>0.190256</td>\n",
       "      <td>0.359864</td>\n",
       "      <td>0.416993</td>\n",
       "      <td>0.472925</td>\n",
       "      <td>0.480833</td>\n",
       "      <td>0.621861</td>\n",
       "      <td>0.353686</td>\n",
       "      <td>0.611533</td>\n",
       "      <td>0.13831</td>\n",
       "      <td>1</td>\n",
       "    </tr>\n",
       "  </tbody>\n",
       "</table>\n",
       "</div>"
      ],
      "text/plain": [
       "                        HEAT         AC  QUALIFIED      STYLE    STRUCT  \\\n",
       "HEAT                       1   0.672893   0.160831   0.252863  0.320116   \n",
       "AC                  0.672893          1   0.252916   0.199424  0.363133   \n",
       "QUALIFIED           0.160831   0.252916          1  0.0907857  0.147041   \n",
       "STYLE               0.252863   0.199424  0.0907857          1  0.500569   \n",
       "STRUCT              0.320116   0.363133   0.147041   0.500569         1   \n",
       "GRADE               0.462405   0.483309   0.173203   0.491552   0.64143   \n",
       "CNDTN               0.465373   0.609016   0.319148   0.283237  0.517593   \n",
       "EXTWALL             0.339399   0.267741  0.0737318   0.514235  0.513672   \n",
       "ROOF                0.341135   0.243589   0.081044   0.456604  0.656903   \n",
       "INTWALL             0.338225   0.199783  0.0872065   0.151487   0.27148   \n",
       "ZIPCODE             0.476768   0.317455   0.190229   0.545377  0.680199   \n",
       "ASSESSMENT_NBHD     0.505264   0.344022   0.215152   0.578962   0.72656   \n",
       "ASSESSMENT_SUBNBHD  0.563473   0.395516    0.24777   0.669777  0.794496   \n",
       "CENSUS_TRACT        0.570001   0.408533   0.261184   0.679242  0.803159   \n",
       "CENSUS_BLOCK         0.81379   0.667544   0.458171   0.905822  0.914733   \n",
       "WARD                0.440685   0.267791   0.182296   0.488115  0.605408   \n",
       "SQUARE              0.789853   0.622165   0.439397   0.895352  0.902858   \n",
       "QUADRANT            0.274231  0.0680088   0.100551   0.280677  0.415653   \n",
       "WAS_REMODELED        0.22747   0.422514   0.185743  0.0940036  0.160771   \n",
       "\n",
       "                       GRADE     CNDTN    EXTWALL      ROOF    INTWALL  \\\n",
       "HEAT                0.462405  0.465373   0.339399  0.341135   0.338225   \n",
       "AC                  0.483309  0.609016   0.267741  0.243589   0.199783   \n",
       "QUALIFIED           0.173203  0.319148  0.0737318  0.081044  0.0872065   \n",
       "STYLE               0.491552  0.283237   0.514235  0.456604   0.151487   \n",
       "STRUCT               0.64143  0.517593   0.513672  0.656903    0.27148   \n",
       "GRADE                      1  0.714278   0.508562  0.436245   0.338683   \n",
       "CNDTN               0.714278         1   0.460683  0.250908   0.296446   \n",
       "EXTWALL             0.508562  0.460683          1  0.516837   0.365203   \n",
       "ROOF                0.436245  0.250908   0.516837         1   0.344234   \n",
       "INTWALL             0.338683  0.296446   0.365203  0.344234          1   \n",
       "ZIPCODE             0.751897  0.285154   0.516727  0.692437   0.371965   \n",
       "ASSESSMENT_NBHD     0.814678  0.357312   0.598264  0.745612   0.487884   \n",
       "ASSESSMENT_SUBNBHD  0.867908  0.597456   0.745699  0.787137   0.588676   \n",
       "CENSUS_TRACT        0.850861  0.602512   0.720949  0.785898   0.593969   \n",
       "CENSUS_BLOCK        0.945668  0.847608   0.924941  0.908905   0.817587   \n",
       "WARD                0.692874  0.248587   0.440203  0.659606   0.368446   \n",
       "SQUARE              0.934583  0.802078   0.917986  0.901531   0.801523   \n",
       "QUADRANT            0.507644  0.140822   0.295009  0.395499   0.261737   \n",
       "WAS_REMODELED       0.163406  0.535703   0.238476  0.246091   0.190256   \n",
       "\n",
       "                     ZIPCODE ASSESSMENT_NBHD ASSESSMENT_SUBNBHD CENSUS_TRACT  \\\n",
       "HEAT                0.476768        0.505264           0.563473     0.570001   \n",
       "AC                  0.317455        0.344022           0.395516     0.408533   \n",
       "QUALIFIED           0.190229        0.215152            0.24777     0.261184   \n",
       "STYLE               0.545377        0.578962           0.669777     0.679242   \n",
       "STRUCT              0.680199         0.72656           0.794496     0.803159   \n",
       "GRADE               0.751897        0.814678           0.867908     0.850861   \n",
       "CNDTN               0.285154        0.357312           0.597456     0.602512   \n",
       "EXTWALL             0.516727        0.598264           0.745699     0.720949   \n",
       "ROOF                0.692437        0.745612           0.787137     0.785898   \n",
       "INTWALL             0.371965        0.487884           0.588676     0.593969   \n",
       "ZIPCODE                    1        0.981241            0.99228     0.995496   \n",
       "ASSESSMENT_NBHD     0.981241               1           0.999513     0.997984   \n",
       "ASSESSMENT_SUBNBHD   0.99228        0.999513                  1     0.997533   \n",
       "CENSUS_TRACT        0.995496        0.997984           0.997533            1   \n",
       "CENSUS_BLOCK        0.999329        0.999963           0.999959            1   \n",
       "WARD                0.977008        0.989747            0.99795     0.998615   \n",
       "SQUARE              0.999029        0.999999           0.999991     0.999968   \n",
       "QUADRANT            0.951825        0.922246           0.990993     0.999995   \n",
       "WAS_REMODELED       0.359864        0.416993           0.472925     0.480833   \n",
       "\n",
       "                   CENSUS_BLOCK      WARD    SQUARE   QUADRANT WAS_REMODELED  \n",
       "HEAT                    0.81379  0.440685  0.789853   0.274231       0.22747  \n",
       "AC                     0.667544  0.267791  0.622165  0.0680088      0.422514  \n",
       "QUALIFIED              0.458171  0.182296  0.439397   0.100551      0.185743  \n",
       "STYLE                  0.905822  0.488115  0.895352   0.280677     0.0940036  \n",
       "STRUCT                 0.914733  0.605408  0.902858   0.415653      0.160771  \n",
       "GRADE                  0.945668  0.692874  0.934583   0.507644      0.163406  \n",
       "CNDTN                  0.847608  0.248587  0.802078   0.140822      0.535703  \n",
       "EXTWALL                0.924941  0.440203  0.917986   0.295009      0.238476  \n",
       "ROOF                   0.908905  0.659606  0.901531   0.395499      0.246091  \n",
       "INTWALL                0.817587  0.368446  0.801523   0.261737      0.190256  \n",
       "ZIPCODE                0.999329  0.977008  0.999029   0.951825      0.359864  \n",
       "ASSESSMENT_NBHD        0.999963  0.989747  0.999999   0.922246      0.416993  \n",
       "ASSESSMENT_SUBNBHD     0.999959   0.99795  0.999991   0.990993      0.472925  \n",
       "CENSUS_TRACT                  1  0.998615  0.999968   0.999995      0.480833  \n",
       "CENSUS_BLOCK                  1         1  0.999987   0.999996      0.621861  \n",
       "WARD                          1         1  0.999942   0.859492      0.353686  \n",
       "SQUARE                 0.999987  0.999942         1          1      0.611533  \n",
       "QUADRANT               0.999996  0.859492         1          1       0.13831  \n",
       "WAS_REMODELED          0.621861  0.353686  0.611533    0.13831             1  "
      ]
     },
     "execution_count": 173,
     "metadata": {},
     "output_type": "execute_result"
    }
   ],
   "source": [
    "df = paired_contincency(data[categorical_cols])\n",
    "df"
   ]
  },
  {
   "cell_type": "code",
   "execution_count": 182,
   "metadata": {
    "scrolled": false
   },
   "outputs": [
    {
     "data": {
      "image/png": "[encoded data removed]",
      "text/plain": [
       "<matplotlib.figure.Figure at 0x1fbad77bdd8>"
      ]
     },
     "metadata": {},
     "output_type": "display_data"
    }
   ],
   "source": [
    "g = sns.heatmap(df.astype(float))\n",
    "plt.show()"
   ]
  },
  {
   "cell_type": "code",
   "execution_count": 51,
   "metadata": {},
   "outputs": [
    {
     "data": {
      "image/png": "[encoded data removed]",
      "text/plain": [
       "<matplotlib.figure.Figure at 0x1fbacec1da0>"
      ]
     },
     "metadata": {},
     "output_type": "display_data"
    }
   ],
   "source": [
    "g = sns.jointplot(data.ROOMS, data.PRICE, kind='reg')\n",
    "plt.show()"
   ]
  },
  {
   "cell_type": "code",
   "execution_count": 193,
   "metadata": {},
   "outputs": [],
   "source": [
    "data = data.drop(\"SOURCE\", axis=1)"
   ]
  },
  {
   "cell_type": "code",
   "execution_count": null,
   "metadata": {
    "collapsed": true
   },
   "outputs": [],
   "source": []
  }
 ],
 "metadata": {
  "kernelspec": {
   "display_name": "Python 3",
   "language": "python",
   "name": "python3"
  },
  "language_info": {
   "codemirror_mode": {
    "name": "ipython",
    "version": 3
   },
   "file_extension": ".py",
   "mimetype": "text/x-python",
   "name": "python",
   "nbconvert_exporter": "python",
   "pygments_lexer": "ipython3",
   "version": "3.6.3"
  }
 },
 "nbformat": 4,
 "nbformat_minor": 2
}
