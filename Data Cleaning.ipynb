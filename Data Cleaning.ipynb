{
 "cells": [
  {
   "cell_type": "markdown",
   "metadata": {},
   "source": [
    "# Imports"
   ]
  },
  {
   "cell_type": "code",
   "execution_count": 432,
   "metadata": {
    "collapsed": true
   },
   "outputs": [],
   "source": [
    "import pandas as pd\n",
    "import numpy as np\n",
    "import matplotlib.pyplot as plt\n",
    "from matplotlib.pyplot import figure"
   ]
  },
  {
   "cell_type": "markdown",
   "metadata": {},
   "source": [
    "# Load Data"
   ]
  },
  {
   "cell_type": "code",
   "execution_count": 433,
   "metadata": {},
   "outputs": [
    {
     "name": "stderr",
     "output_type": "stream",
     "text": [
      "C:\\anaconda3\\lib\\site-packages\\IPython\\core\\interactiveshell.py:2698: DtypeWarning: Columns (18,19,20,21,22,23,24,33,34,35,37,43,45) have mixed types. Specify dtype option on import or set low_memory=False.\n",
      "  interactivity=interactivity, compiler=compiler, result=result)\n"
     ]
    }
   ],
   "source": [
    "data = pd.read_csv('data/DC_Properties.csv')"
   ]
  },
  {
   "cell_type": "markdown",
   "metadata": {},
   "source": [
    "# Data Cleaning"
   ]
  },
  {
   "cell_type": "markdown",
   "metadata": {},
   "source": [
    "## remove rows with missing values"
   ]
  },
  {
   "cell_type": "code",
   "execution_count": 434,
   "metadata": {
    "collapsed": true,
    "scrolled": true
   },
   "outputs": [],
   "source": [
    "# since our many concern is the price of the building, rows without the price have only a small to none value\n",
    "data = data[data[\"PRICE\"].notnull()]\n",
    "\n",
    "# remove rows with strange prices\n",
    "data = data.loc[(data[\"PRICE\"] <= 25000000) & (data[\"PRICE\"] >= 40000)]"
   ]
  },
  {
   "cell_type": "markdown",
   "metadata": {},
   "source": [
    "## drop columns"
   ]
  },
  {
   "cell_type": "code",
   "execution_count": 435,
   "metadata": {
    "collapsed": true,
    "scrolled": true
   },
   "outputs": [],
   "source": [
    "# this column has only one value \"2018-07-22 18:01:43\" => useless\n",
    "data = data.drop([\"GIS_LAST_MOD_DTTM\"], axis=1)\n",
    "# since the unique id is equal to the row number we don't need it\n",
    "data = data.drop([\"Unnamed: 0\"], axis=1)\n",
    "# many many missing values\n",
    "data = data.drop([\"LIVING_GBA\", \"CMPLX_NUM\"], axis=1)\n",
    "# these columns have nothing to say\n",
    "data = data.drop([\"STATE\", \"CITY\", \"SOURCE\", \"BLDG_NUM\"], axis=1)\n",
    "# these columns contain only unique texts which can't be computed\n",
    "data = data.drop([\"NATIONALGRID\", \"FULLADDRESS\"], axis=1)\n",
    "# in our other notebook we proved that there is a realy high (< 0.999) correlation between x, y and longitude and latititude because in both show the longitude and latitdude of a building\n",
    "data = data.drop([\"X\", \"Y\"], axis=1)\n",
    "# this column has way to many unique values => makes the onehot encoded data really big. It correlates strongly with the other location information \n",
    "data = data.drop([\"CENSUS_BLOCK\"], axis=1)\n",
    "# we have to many columns with location information\n",
    "data = data.drop([\"ZIPCODE\", \"ASSESSMENT_NBHD\", \"CENSUS_TRACT\", \"WARD\", \"SQUARE\", \"QUADRANT\"], axis=1)"
   ]
  },
  {
   "cell_type": "markdown",
   "metadata": {},
   "source": [
    "## data insertion"
   ]
  },
  {
   "cell_type": "code",
   "execution_count": 436,
   "metadata": {},
   "outputs": [
    {
     "name": "stderr",
     "output_type": "stream",
     "text": [
      "C:\\anaconda3\\lib\\site-packages\\ipykernel_launcher.py:6: SettingWithCopyWarning: \n",
      "A value is trying to be set on a copy of a slice from a DataFrame\n",
      "\n",
      "See the caveats in the documentation: http://pandas.pydata.org/pandas-docs/stable/indexing.html#indexing-view-versus-copy\n",
      "  \n",
      "C:\\anaconda3\\lib\\site-packages\\ipykernel_launcher.py:8: SettingWithCopyWarning: \n",
      "A value is trying to be set on a copy of a slice from a DataFrame\n",
      "\n",
      "See the caveats in the documentation: http://pandas.pydata.org/pandas-docs/stable/indexing.html#indexing-view-versus-copy\n",
      "  \n",
      "C:\\anaconda3\\lib\\site-packages\\ipykernel_launcher.py:9: SettingWithCopyWarning: \n",
      "A value is trying to be set on a copy of a slice from a DataFrame\n",
      "\n",
      "See the caveats in the documentation: http://pandas.pydata.org/pandas-docs/stable/indexing.html#indexing-view-versus-copy\n",
      "  if __name__ == '__main__':\n",
      "C:\\anaconda3\\lib\\site-packages\\ipykernel_launcher.py:10: SettingWithCopyWarning: \n",
      "A value is trying to be set on a copy of a slice from a DataFrame\n",
      "\n",
      "See the caveats in the documentation: http://pandas.pydata.org/pandas-docs/stable/indexing.html#indexing-view-versus-copy\n",
      "  # Remove the CWD from sys.path while we load stuff.\n",
      "C:\\anaconda3\\lib\\site-packages\\ipykernel_launcher.py:11: SettingWithCopyWarning: \n",
      "A value is trying to be set on a copy of a slice from a DataFrame\n",
      "\n",
      "See the caveats in the documentation: http://pandas.pydata.org/pandas-docs/stable/indexing.html#indexing-view-versus-copy\n",
      "  # This is added back by InteractiveShellApp.init_path()\n",
      "C:\\anaconda3\\lib\\site-packages\\ipykernel_launcher.py:12: SettingWithCopyWarning: \n",
      "A value is trying to be set on a copy of a slice from a DataFrame\n",
      "\n",
      "See the caveats in the documentation: http://pandas.pydata.org/pandas-docs/stable/indexing.html#indexing-view-versus-copy\n",
      "  if sys.path[0] == '':\n",
      "C:\\anaconda3\\lib\\site-packages\\ipykernel_launcher.py:13: SettingWithCopyWarning: \n",
      "A value is trying to be set on a copy of a slice from a DataFrame\n",
      "\n",
      "See the caveats in the documentation: http://pandas.pydata.org/pandas-docs/stable/indexing.html#indexing-view-versus-copy\n",
      "  del sys.path[0]\n",
      "C:\\anaconda3\\lib\\site-packages\\ipykernel_launcher.py:14: SettingWithCopyWarning: \n",
      "A value is trying to be set on a copy of a slice from a DataFrame\n",
      "\n",
      "See the caveats in the documentation: http://pandas.pydata.org/pandas-docs/stable/indexing.html#indexing-view-versus-copy\n",
      "  \n",
      "C:\\anaconda3\\lib\\site-packages\\ipykernel_launcher.py:15: SettingWithCopyWarning: \n",
      "A value is trying to be set on a copy of a slice from a DataFrame\n",
      "\n",
      "See the caveats in the documentation: http://pandas.pydata.org/pandas-docs/stable/indexing.html#indexing-view-versus-copy\n",
      "  from ipykernel import kernelapp as app\n",
      "C:\\anaconda3\\lib\\site-packages\\ipykernel_launcher.py:16: SettingWithCopyWarning: \n",
      "A value is trying to be set on a copy of a slice from a DataFrame\n",
      "\n",
      "See the caveats in the documentation: http://pandas.pydata.org/pandas-docs/stable/indexing.html#indexing-view-versus-copy\n",
      "  app.launch_new_instance()\n",
      "C:\\anaconda3\\lib\\site-packages\\ipykernel_launcher.py:17: SettingWithCopyWarning: \n",
      "A value is trying to be set on a copy of a slice from a DataFrame\n",
      "\n",
      "See the caveats in the documentation: http://pandas.pydata.org/pandas-docs/stable/indexing.html#indexing-view-versus-copy\n"
     ]
    }
   ],
   "source": [
    "data.loc[data['YR_RMDL'].isnull(), 'YR_RMDL'] = data['EYB']\n",
    "data.loc[data['AYB'].isnull(), 'AYB'] = data['EYB']\n",
    "# set the missing sale date to the year it was build\n",
    "data[\"SALEDATE\"] = np.where(data[\"SALEDATE\"].isnull(), data[\"AYB\"], data[\"SALEDATE\"])\n",
    "# set missing values with the mean, mode or median\n",
    "data.NUM_UNITS[data.NUM_UNITS.isnull()] =  data.NUM_UNITS.mode().iloc[0]\n",
    "data.STORIES=data.STORIES.round()\n",
    "data.STORIES[data.STORIES.isnull()] =  data.STORIES.mode().iloc[0]\n",
    "data.GBA[data.GBA.isnull()] =  data.GBA.mean()\n",
    "data.STYLE[data.STYLE.isnull()] =  data.STYLE.mode().iloc[0]\n",
    "data.STRUCT[data.STRUCT.isnull()] =  data.STRUCT.mode().iloc[0]\n",
    "data.GRADE[data.GRADE.isnull()] =  data.GRADE.mode().iloc[0]\n",
    "data.CNDTN[data.CNDTN.isnull()] =  data.CNDTN.mode().iloc[0]\n",
    "data.EXTWALL[data.EXTWALL.isnull()] =  data.EXTWALL.mode().iloc[0]\n",
    "data.ROOF[data.ROOF.isnull()] =  data.ROOF.mode().iloc[0]\n",
    "data.INTWALL[data.INTWALL.isnull()] =  data.INTWALL.mode().iloc[0]\n",
    "data.KITCHENS[data.KITCHENS.isnull()] =  data.KITCHENS.mode().iloc[0]"
   ]
  },
  {
   "cell_type": "code",
   "execution_count": 437,
   "metadata": {
    "collapsed": true
   },
   "outputs": [],
   "source": [
    "# these values make no sense\n",
    "data.ROOMS = data.ROOMS.astype(int)\n",
    "data = data[data.ROOMS != 0]\n",
    "data = data[data.AC != \"0\"]\n",
    "data.STORIES = data.STORIES.astype(int)\n",
    "data = data[data.STORIES < 50]\n",
    "data = data[data.FIREPLACES < 20]\n",
    "data = data[data.FIREPLACES < 40]\n",
    "data = data[data.ASSESSMENT_SUBNBHD.notnull()]"
   ]
  },
  {
   "cell_type": "markdown",
   "metadata": {},
   "source": [
    "## data convertion"
   ]
  },
  {
   "cell_type": "code",
   "execution_count": 438,
   "metadata": {
    "collapsed": true
   },
   "outputs": [],
   "source": [
    "#convert saledate to datetime\n",
    "data['SALEDATE'] = pd.to_datetime(data['SALEDATE'])\n",
    "#Calculating the difference in years between Last Sale Date and Year Built\n",
    "data['SalevYB']=data['SALEDATE'].dt.year - data['AYB']\n",
    "#Calculating the difference in years between Last Sale Date and Year Improved\n",
    "data['SalevYI']=data['SALEDATE'].dt.year - data['EYB']\n",
    "\n",
    "data['SalevYR']=data['SALEDATE'].dt.year - data['YR_RMDL']\n",
    "\n",
    "data = data.drop([\"SALEDATE\", \"EYB\", \"AYB\", \"YR_RMDL\"], axis=1)"
   ]
  },
  {
   "cell_type": "markdown",
   "metadata": {},
   "source": [
    "## final results"
   ]
  },
  {
   "cell_type": "code",
   "execution_count": 439,
   "metadata": {
    "scrolled": false
   },
   "outputs": [
    {
     "name": "stdout",
     "output_type": "stream",
     "text": [
      "All Data:\n",
      "Row Count: 77699\n",
      "Col Count: 29\n",
      "\n",
      "BATHRM                0\n",
      "HF_BATHRM             0\n",
      "HEAT                  0\n",
      "AC                    0\n",
      "NUM_UNITS             0\n",
      "ROOMS                 0\n",
      "BEDRM                 0\n",
      "STORIES               0\n",
      "PRICE                 0\n",
      "QUALIFIED             0\n",
      "SALE_NUM              0\n",
      "GBA                   0\n",
      "STYLE                 0\n",
      "STRUCT                0\n",
      "GRADE                 0\n",
      "CNDTN                 0\n",
      "EXTWALL               0\n",
      "ROOF                  0\n",
      "INTWALL               0\n",
      "KITCHENS              0\n",
      "FIREPLACES            0\n",
      "USECODE               0\n",
      "LANDAREA              0\n",
      "LATITUDE              0\n",
      "LONGITUDE             0\n",
      "ASSESSMENT_SUBNBHD    0\n",
      "SalevYB               0\n",
      "SalevYI               0\n",
      "SalevYR               0\n",
      "dtype: int64\n"
     ]
    }
   ],
   "source": [
    "missing_values = data.isnull().sum()\n",
    "print(\"All Data:\")\n",
    "print(\"Row Count: \" + str(data.shape[0]))\n",
    "print(\"Col Count: \" + str(data.shape[1]))\n",
    "print()\n",
    "print(missing_values)"
   ]
  },
  {
   "cell_type": "code",
   "execution_count": 440,
   "metadata": {
    "scrolled": true
   },
   "outputs": [
    {
     "data": {
      "text/html": [
       "<div>\n",
       "<style>\n",
       "    .dataframe thead tr:only-child th {\n",
       "        text-align: right;\n",
       "    }\n",
       "\n",
       "    .dataframe thead th {\n",
       "        text-align: left;\n",
       "    }\n",
       "\n",
       "    .dataframe tbody tr th {\n",
       "        vertical-align: top;\n",
       "    }\n",
       "</style>\n",
       "<table border=\"1\" class=\"dataframe\">\n",
       "  <thead>\n",
       "    <tr style=\"text-align: right;\">\n",
       "      <th></th>\n",
       "      <th>BATHRM</th>\n",
       "      <th>HF_BATHRM</th>\n",
       "      <th>NUM_UNITS</th>\n",
       "      <th>ROOMS</th>\n",
       "      <th>BEDRM</th>\n",
       "      <th>STORIES</th>\n",
       "      <th>PRICE</th>\n",
       "      <th>SALE_NUM</th>\n",
       "      <th>GBA</th>\n",
       "      <th>KITCHENS</th>\n",
       "      <th>FIREPLACES</th>\n",
       "      <th>USECODE</th>\n",
       "      <th>LANDAREA</th>\n",
       "      <th>LATITUDE</th>\n",
       "      <th>LONGITUDE</th>\n",
       "      <th>SalevYB</th>\n",
       "      <th>SalevYI</th>\n",
       "      <th>SalevYR</th>\n",
       "    </tr>\n",
       "  </thead>\n",
       "  <tbody>\n",
       "    <tr>\n",
       "      <th>count</th>\n",
       "      <td>77699.000000</td>\n",
       "      <td>77699.000000</td>\n",
       "      <td>77699.000000</td>\n",
       "      <td>77699.000000</td>\n",
       "      <td>77699.000000</td>\n",
       "      <td>77699.000000</td>\n",
       "      <td>7.769900e+04</td>\n",
       "      <td>77699.000000</td>\n",
       "      <td>77699.000000</td>\n",
       "      <td>77699.000000</td>\n",
       "      <td>77699.000000</td>\n",
       "      <td>77699.000000</td>\n",
       "      <td>77699.000000</td>\n",
       "      <td>77699.000000</td>\n",
       "      <td>77699.000000</td>\n",
       "      <td>77699.000000</td>\n",
       "      <td>77699.000000</td>\n",
       "      <td>77699.000000</td>\n",
       "    </tr>\n",
       "    <tr>\n",
       "      <th>mean</th>\n",
       "      <td>1.895764</td>\n",
       "      <td>0.453790</td>\n",
       "      <td>1.155279</td>\n",
       "      <td>6.105664</td>\n",
       "      <td>2.719533</td>\n",
       "      <td>2.054724</td>\n",
       "      <td>5.208212e+05</td>\n",
       "      <td>1.888248</td>\n",
       "      <td>1704.449471</td>\n",
       "      <td>1.173619</td>\n",
       "      <td>0.460225</td>\n",
       "      <td>14.492220</td>\n",
       "      <td>2066.784592</td>\n",
       "      <td>38.911679</td>\n",
       "      <td>-77.012776</td>\n",
       "      <td>69.110285</td>\n",
       "      <td>45.240351</td>\n",
       "      <td>18.274045</td>\n",
       "    </tr>\n",
       "    <tr>\n",
       "      <th>std</th>\n",
       "      <td>0.979222</td>\n",
       "      <td>0.571654</td>\n",
       "      <td>0.531482</td>\n",
       "      <td>2.613523</td>\n",
       "      <td>1.352274</td>\n",
       "      <td>0.343604</td>\n",
       "      <td>6.105941e+05</td>\n",
       "      <td>1.432725</td>\n",
       "      <td>632.324886</td>\n",
       "      <td>0.564689</td>\n",
       "      <td>0.793726</td>\n",
       "      <td>3.864067</td>\n",
       "      <td>2595.086129</td>\n",
       "      <td>0.030053</td>\n",
       "      <td>0.039817</td>\n",
       "      <td>36.512635</td>\n",
       "      <td>28.211470</td>\n",
       "      <td>23.816798</td>\n",
       "    </tr>\n",
       "    <tr>\n",
       "      <th>min</th>\n",
       "      <td>0.000000</td>\n",
       "      <td>0.000000</td>\n",
       "      <td>0.000000</td>\n",
       "      <td>1.000000</td>\n",
       "      <td>0.000000</td>\n",
       "      <td>0.000000</td>\n",
       "      <td>2.000000e+04</td>\n",
       "      <td>1.000000</td>\n",
       "      <td>252.000000</td>\n",
       "      <td>0.000000</td>\n",
       "      <td>0.000000</td>\n",
       "      <td>11.000000</td>\n",
       "      <td>0.000000</td>\n",
       "      <td>38.819731</td>\n",
       "      <td>-77.113909</td>\n",
       "      <td>-14.000000</td>\n",
       "      <td>-21.000000</td>\n",
       "      <td>-26.000000</td>\n",
       "    </tr>\n",
       "    <tr>\n",
       "      <th>25%</th>\n",
       "      <td>1.000000</td>\n",
       "      <td>0.000000</td>\n",
       "      <td>1.000000</td>\n",
       "      <td>4.000000</td>\n",
       "      <td>2.000000</td>\n",
       "      <td>2.000000</td>\n",
       "      <td>2.336000e+05</td>\n",
       "      <td>1.000000</td>\n",
       "      <td>1360.000000</td>\n",
       "      <td>1.000000</td>\n",
       "      <td>0.000000</td>\n",
       "      <td>11.000000</td>\n",
       "      <td>585.000000</td>\n",
       "      <td>38.894088</td>\n",
       "      <td>-77.035280</td>\n",
       "      <td>49.000000</td>\n",
       "      <td>30.000000</td>\n",
       "      <td>1.000000</td>\n",
       "    </tr>\n",
       "    <tr>\n",
       "      <th>50%</th>\n",
       "      <td>2.000000</td>\n",
       "      <td>0.000000</td>\n",
       "      <td>1.000000</td>\n",
       "      <td>6.000000</td>\n",
       "      <td>3.000000</td>\n",
       "      <td>2.000000</td>\n",
       "      <td>3.999950e+05</td>\n",
       "      <td>1.000000</td>\n",
       "      <td>1725.864208</td>\n",
       "      <td>1.000000</td>\n",
       "      <td>0.000000</td>\n",
       "      <td>13.000000</td>\n",
       "      <td>1448.000000</td>\n",
       "      <td>38.912450</td>\n",
       "      <td>-77.017553</td>\n",
       "      <td>77.000000</td>\n",
       "      <td>45.000000</td>\n",
       "      <td>8.000000</td>\n",
       "    </tr>\n",
       "    <tr>\n",
       "      <th>75%</th>\n",
       "      <td>2.000000</td>\n",
       "      <td>1.000000</td>\n",
       "      <td>1.000000</td>\n",
       "      <td>7.000000</td>\n",
       "      <td>3.000000</td>\n",
       "      <td>2.000000</td>\n",
       "      <td>6.500000e+05</td>\n",
       "      <td>3.000000</td>\n",
       "      <td>1725.864208</td>\n",
       "      <td>1.000000</td>\n",
       "      <td>1.000000</td>\n",
       "      <td>16.000000</td>\n",
       "      <td>2514.000000</td>\n",
       "      <td>38.930792</td>\n",
       "      <td>-76.987029</td>\n",
       "      <td>96.000000</td>\n",
       "      <td>57.000000</td>\n",
       "      <td>35.000000</td>\n",
       "    </tr>\n",
       "    <tr>\n",
       "      <th>max</th>\n",
       "      <td>11.000000</td>\n",
       "      <td>11.000000</td>\n",
       "      <td>6.000000</td>\n",
       "      <td>31.000000</td>\n",
       "      <td>20.000000</td>\n",
       "      <td>20.000000</td>\n",
       "      <td>2.396029e+07</td>\n",
       "      <td>15.000000</td>\n",
       "      <td>14966.000000</td>\n",
       "      <td>44.000000</td>\n",
       "      <td>13.000000</td>\n",
       "      <td>117.000000</td>\n",
       "      <td>187301.000000</td>\n",
       "      <td>38.982574</td>\n",
       "      <td>-76.909758</td>\n",
       "      <td>262.000000</td>\n",
       "      <td>195.000000</td>\n",
       "      <td>1995.000000</td>\n",
       "    </tr>\n",
       "  </tbody>\n",
       "</table>\n",
       "</div>"
      ],
      "text/plain": [
       "             BATHRM     HF_BATHRM     NUM_UNITS         ROOMS         BEDRM  \\\n",
       "count  77699.000000  77699.000000  77699.000000  77699.000000  77699.000000   \n",
       "mean       1.895764      0.453790      1.155279      6.105664      2.719533   \n",
       "std        0.979222      0.571654      0.531482      2.613523      1.352274   \n",
       "min        0.000000      0.000000      0.000000      1.000000      0.000000   \n",
       "25%        1.000000      0.000000      1.000000      4.000000      2.000000   \n",
       "50%        2.000000      0.000000      1.000000      6.000000      3.000000   \n",
       "75%        2.000000      1.000000      1.000000      7.000000      3.000000   \n",
       "max       11.000000     11.000000      6.000000     31.000000     20.000000   \n",
       "\n",
       "            STORIES         PRICE      SALE_NUM           GBA      KITCHENS  \\\n",
       "count  77699.000000  7.769900e+04  77699.000000  77699.000000  77699.000000   \n",
       "mean       2.054724  5.208212e+05      1.888248   1704.449471      1.173619   \n",
       "std        0.343604  6.105941e+05      1.432725    632.324886      0.564689   \n",
       "min        0.000000  2.000000e+04      1.000000    252.000000      0.000000   \n",
       "25%        2.000000  2.336000e+05      1.000000   1360.000000      1.000000   \n",
       "50%        2.000000  3.999950e+05      1.000000   1725.864208      1.000000   \n",
       "75%        2.000000  6.500000e+05      3.000000   1725.864208      1.000000   \n",
       "max       20.000000  2.396029e+07     15.000000  14966.000000     44.000000   \n",
       "\n",
       "         FIREPLACES       USECODE       LANDAREA      LATITUDE     LONGITUDE  \\\n",
       "count  77699.000000  77699.000000   77699.000000  77699.000000  77699.000000   \n",
       "mean       0.460225     14.492220    2066.784592     38.911679    -77.012776   \n",
       "std        0.793726      3.864067    2595.086129      0.030053      0.039817   \n",
       "min        0.000000     11.000000       0.000000     38.819731    -77.113909   \n",
       "25%        0.000000     11.000000     585.000000     38.894088    -77.035280   \n",
       "50%        0.000000     13.000000    1448.000000     38.912450    -77.017553   \n",
       "75%        1.000000     16.000000    2514.000000     38.930792    -76.987029   \n",
       "max       13.000000    117.000000  187301.000000     38.982574    -76.909758   \n",
       "\n",
       "            SalevYB       SalevYI       SalevYR  \n",
       "count  77699.000000  77699.000000  77699.000000  \n",
       "mean      69.110285     45.240351     18.274045  \n",
       "std       36.512635     28.211470     23.816798  \n",
       "min      -14.000000    -21.000000    -26.000000  \n",
       "25%       49.000000     30.000000      1.000000  \n",
       "50%       77.000000     45.000000      8.000000  \n",
       "75%       96.000000     57.000000     35.000000  \n",
       "max      262.000000    195.000000   1995.000000  "
      ]
     },
     "execution_count": 440,
     "metadata": {},
     "output_type": "execute_result"
    }
   ],
   "source": [
    "data.describe()"
   ]
  },
  {
   "cell_type": "markdown",
   "metadata": {},
   "source": [
    "## save to csv"
   ]
  },
  {
   "cell_type": "code",
   "execution_count": 441,
   "metadata": {
    "collapsed": true
   },
   "outputs": [],
   "source": [
    "data.to_csv(\"data/data_cleaned.csv\", index=False)"
   ]
  }
 ],
 "metadata": {
  "kernelspec": {
   "display_name": "Python 3",
   "language": "python",
   "name": "python3"
  },
  "language_info": {
   "codemirror_mode": {
    "name": "ipython",
    "version": 3
   },
   "file_extension": ".py",
   "mimetype": "text/x-python",
   "name": "python",
   "nbconvert_exporter": "python",
   "pygments_lexer": "ipython3",
   "version": "3.6.3"
  }
 },
 "nbformat": 4,
 "nbformat_minor": 2
}
